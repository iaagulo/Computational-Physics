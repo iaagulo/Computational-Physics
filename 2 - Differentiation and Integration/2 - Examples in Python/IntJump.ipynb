{
  "cells": [
    {
      "cell_type": "markdown",
      "metadata": {
        "id": "wpPoI3FCX6Y3"
      },
      "source": [
        "# Analyzing Jump Forces\n",
        "In this machine problem, you are going to be given two sets of data, which you need to analyze. The data were both obtained from measuring the normal and parallel forces involved in a jump. These forces were measured by a force plate as shown in the video. Both data measured force vs time.<br><br>\n",
        "Your task is to integrate a select portion of the plot and interpret what the resulting value is and what it represents."
      ]
    },
    {
      "cell_type": "markdown",
      "metadata": {
        "id": "B5Nn-6TiX6Y4"
      },
      "source": [
        "### TASK 1. Import the Data Sets\n",
        "In the field below, import the normal force data to the variable $Fn$."
      ]
    },
    {
      "cell_type": "code",
      "execution_count": null,
      "metadata": {
        "id": "bA4epelqX6Y4"
      },
      "outputs": [],
      "source": []
    },
    {
      "cell_type": "markdown",
      "metadata": {
        "id": "EO4xcZcUX6Y5"
      },
      "source": [
        "Display and verify the data saved in the variable $Fn$."
      ]
    },
    {
      "cell_type": "code",
      "execution_count": null,
      "metadata": {
        "id": "yp46bXBFX6Y5"
      },
      "outputs": [],
      "source": []
    },
    {
      "cell_type": "markdown",
      "metadata": {
        "id": "SQhf3ZspX6Y5"
      },
      "source": [
        "Assign the first column of the variable $Fn$, i.e. the time data, and the second column of the variable $Fn$, i.e., the normal force data, to the variables $tn$ and $fn$, respectively."
      ]
    },
    {
      "cell_type": "code",
      "execution_count": null,
      "metadata": {
        "id": "Y_TF6rAkX6Y5"
      },
      "outputs": [],
      "source": []
    },
    {
      "cell_type": "markdown",
      "metadata": {
        "id": "SEjLzMa-X6Y5"
      },
      "source": [
        "Import the parallel force data to the variable $Fp$. Assign the first column of the variable $Fp$, i.e. the time data, and the second column of the variable $Fp$, i.e., the normal force data, to the variables $tp$ and $Fp$, respectively."
      ]
    },
    {
      "cell_type": "code",
      "execution_count": null,
      "metadata": {
        "id": "dLbAii1vX6Y6"
      },
      "outputs": [],
      "source": []
    },
    {
      "cell_type": "markdown",
      "metadata": {
        "id": "1U-dTk0KX6Y6"
      },
      "source": [
        "### TASK 2. Plot the data set in one graph\n",
        "You are now going to plot the data in one graph. This means that you will need to use the $subplot()$ command from the $matplotlib.pyplot$ module. Make a graph that has two rows and column of plots. <br><br>\n",
        "In the top row, plot the normal force vs time. In the bottom row, plot the parallel force vs time. Use black circles and solid lines as markers. Add titles and label the x- and y-axes. You may choose the font sizes. The unit of time is milliseconds. So, all of these are happening in a fraction of a second."
      ]
    },
    {
      "cell_type": "code",
      "execution_count": null,
      "metadata": {
        "id": "Tc3okRorX6Y6"
      },
      "outputs": [],
      "source": []
    },
    {
      "cell_type": "markdown",
      "metadata": {
        "id": "GQoB430iX6Y6"
      },
      "source": [
        "### TASK 3. Input the limits of integration\n",
        "In this task, you are going to ask the user to input the limits of integration. Assign the variables $lowerlim$ and $upperlim$ to be the lower and upper limits of integration. Obviously, since this is going to be an integral with respect to time, then the lower and upper limits of integration must be time units and in increments of 0.1 seconds.<br><br>\n",
        "Using the $input()$ command, use the prompt \"Input the lower limit of integration: \" to ask the user for the lower limit and assign the value to the variable $lowerlim$."
      ]
    },
    {
      "cell_type": "code",
      "execution_count": null,
      "metadata": {
        "id": "3oCgDCadX6Y6"
      },
      "outputs": [],
      "source": []
    },
    {
      "cell_type": "markdown",
      "metadata": {
        "id": "fOxGefqgX6Y6"
      },
      "source": [
        "Using the $input()$ command, use the prompt \"Input the upper limit of integration: \" to ask the user for the upper limit and assign the value to the variable $upperlim$."
      ]
    },
    {
      "cell_type": "code",
      "execution_count": null,
      "metadata": {
        "id": "5OMVubtCX6Y6"
      },
      "outputs": [],
      "source": []
    },
    {
      "cell_type": "markdown",
      "metadata": {
        "id": "1mc6AXM3X6Y7"
      },
      "source": [
        "The $input()$ command accepts a $string$, by default. You need to convert the variables $lowerlim$ and $upperlim$ to a floating point number by using the $float()$ command when you compare this to $tn$. Do this in the field below and assign the output to the same variables, $lowerlim$ and $upperlim$, respectively."
      ]
    },
    {
      "cell_type": "code",
      "execution_count": null,
      "metadata": {
        "id": "wy0qdD2tX6Y7"
      },
      "outputs": [],
      "source": []
    },
    {
      "cell_type": "markdown",
      "metadata": {
        "id": "OCtTwEZCX6Y7"
      },
      "source": [
        "### TASK 4. Find the index corresponding to the limits of integration\n",
        "Since the numerical input will be a time variable, then in order to find the corresponding force, we need to find the corresponding index of the time.<br><br>\n",
        "Use the $where()$ command to find the index corresponding to when $tn$ is equal to the value of the $lowerlim$. Assign this index to the variable $lowerval$."
      ]
    },
    {
      "cell_type": "code",
      "execution_count": null,
      "metadata": {
        "id": "4gCI_ikKX6Y7"
      },
      "outputs": [],
      "source": []
    },
    {
      "cell_type": "markdown",
      "metadata": {
        "id": "70ci-bPoX6Y7"
      },
      "source": [
        "Again, use the $where()$ command to find the index corresponding to when $tn$ is equal to the value of the $upperlim$. Assign this index to the variable $upperval$."
      ]
    },
    {
      "cell_type": "code",
      "execution_count": null,
      "metadata": {
        "id": "5FaYMftDX6Y7"
      },
      "outputs": [],
      "source": []
    },
    {
      "cell_type": "markdown",
      "metadata": {
        "id": "MM1yI7m1X6Y7"
      },
      "source": [
        "There is no need to determine the indices corresponding to the variable $tp$, because both normal and parallel forces were measured simultaneously.<br><br>\n",
        "At this point, the variables $lowerval$ and $upperval$ are tuples. You need to convert them to integers so that you can use them in the $plot()$ function later on. Since, these variables are single element tuples, then you all you need to do is to simply assign the first element of the tuple to the same variable using the $int()$, as shown, for $lowerval$."
      ]
    },
    {
      "cell_type": "code",
      "execution_count": null,
      "metadata": {
        "id": "2aZnRacBX6Y7"
      },
      "outputs": [],
      "source": []
    },
    {
      "cell_type": "markdown",
      "metadata": {
        "id": "vcEoZWMcX6Y7"
      },
      "source": [
        "Do the same for $upperval$."
      ]
    },
    {
      "cell_type": "code",
      "execution_count": null,
      "metadata": {
        "id": "wDdQD5BnX6Y7"
      },
      "outputs": [],
      "source": []
    },
    {
      "cell_type": "markdown",
      "metadata": {
        "id": "jpdYbZyxX6Y7"
      },
      "source": [
        "Display the values of the normal forces corresponding to the inputted times."
      ]
    },
    {
      "cell_type": "code",
      "execution_count": null,
      "metadata": {
        "id": "yUZW1TSTX6Y7"
      },
      "outputs": [],
      "source": []
    },
    {
      "cell_type": "markdown",
      "metadata": {
        "id": "7x9QnoEzX6Y8"
      },
      "source": [
        "Display the values of the parallel forces corresponding to the inputted times."
      ]
    },
    {
      "cell_type": "code",
      "execution_count": null,
      "metadata": {
        "id": "bGeNVWHNX6Y8"
      },
      "outputs": [],
      "source": []
    },
    {
      "cell_type": "markdown",
      "metadata": {
        "id": "_qerhw-AX6Y8"
      },
      "source": [
        "### TASK 5. Replot both graphs to cover only the limits of integration\n",
        "You are now going to replot the data in one graph showing only the time limits of integration. Using the $subplot()$ command, make a graph that has two rows and column of plots.<br><br>\n",
        "In the top row, plot the normal force vs time. In the bottow row, plot the parallel force vs time. Use black circles and solid lines as markers. Add titles and label the x- and y-axes. You may choose the font sizes."
      ]
    },
    {
      "cell_type": "code",
      "execution_count": null,
      "metadata": {
        "id": "BWhwe9ZCX6Y8"
      },
      "outputs": [],
      "source": []
    },
    {
      "cell_type": "markdown",
      "metadata": {
        "id": "7e-W_HrYX6Y8"
      },
      "source": [
        "### TASK 6. Implementing Simpson's 1/3 rule\n",
        "Use Simpson's 1/3 rule to solve for the integral of the normal force vs time curve over the selected limits of integration.<br><br>\n",
        "Simpson's 1/3 rule is written as<br><br>\n",
        "$I = 2h \\frac{f(x_0) + 4f(x_1) + f(x_2)}{6} + 2h \\frac{f(x_2) + 4f(x_3) + f(x_4)}{6} + ... + 2h \\frac{f(x_{n-2}) + 4f(x_{n-1}) + f(x_n)}{6}$\n",
        "<br><br>or<br><br>\n",
        "$I = 2h \\frac{f(x_0) + \\displaystyle4\\sum_{j=1,3,5,...}^{n-1} f(x_i) + 2\\displaystyle\\sum_{j=2,4,6,...}^{n-2} f(x_j) + f(x_n)}{6}$\n",
        "<br><br>Immediately from the first equation, we see that it's going to be a problem, if there are even number of data points. Thus, your code must be able to take into account both even and odd number of data points. If the number of data points is even, consider summing only $n-1$ data points with the Simpson's 1/3 rule. Then when everything is summed up, just add the  data point to the sum.\n",
        "<br><br>Create a function called $mysimpsons()$ that implements Simpson's 1/3 rule. This function must take in as its first argument the mathematical function that will be integrated and the step size of the x-data set. In the field below, type down the correct commands that use your MATLAB function to solve for the integral of the normal force vs time curve and the parallel force vs time curve over the selected limits of integration determined from Task 3. Assign their respective output values to the variables $fnor$ and $fpar$, and display them."
      ]
    },
    {
      "cell_type": "markdown",
      "metadata": {
        "id": "fHFGIGcuX6Y8"
      },
      "source": [
        "To display the results in a complete sentence, you can do this."
      ]
    },
    {
      "cell_type": "code",
      "execution_count": null,
      "metadata": {
        "id": "HUOlIw24X6Y8"
      },
      "outputs": [],
      "source": [
        "print('The integrated value of the normal and perpendicular forces with respect to time are ' + str(round(fnor,2)) + ' Newton-seconds and ' + str(round(fpar,2)) + ' Newton-seconds, respectively.')"
      ]
    },
    {
      "cell_type": "markdown",
      "metadata": {
        "id": "ZIaGwA77X6Y8"
      },
      "source": [
        "Intepret these results. You must be able to relate these results to whatever is happening in the jump sequence."
      ]
    },
    {
      "cell_type": "code",
      "execution_count": null,
      "metadata": {
        "id": "lk5gNEEPX6Y8"
      },
      "outputs": [],
      "source": [
        "# Write your answer here:"
      ]
    }
  ],
  "metadata": {
    "kernelspec": {
      "display_name": "Python 3",
      "language": "python",
      "name": "python3"
    },
    "language_info": {
      "codemirror_mode": {
        "name": "ipython",
        "version": 3
      },
      "file_extension": ".py",
      "mimetype": "text/x-python",
      "name": "python",
      "nbconvert_exporter": "python",
      "pygments_lexer": "ipython3",
      "version": "3.8.8"
    },
    "colab": {
      "provenance": []
    }
  },
  "nbformat": 4,
  "nbformat_minor": 0
}