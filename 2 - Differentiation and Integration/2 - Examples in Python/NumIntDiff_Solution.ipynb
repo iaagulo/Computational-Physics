{
 "cells": [
  {
   "cell_type": "markdown",
   "metadata": {},
   "source": [
    "# Exercise 2. Numerical Integration and Differentiation\n",
    "Your task for this exercise is to complete the program so that it executes correctly by filling in the correct statements. You will be given a data file obtained from measuring the current through a series RC circuit. The source voltage, $V_S$, the capacitance, $C$, and the resistance, $R$. The data file is a text file with two sets of data arranged into two columns. The first set (column) is the time variable, while the second set (column) is the current variable.<br><br>\n",
    "Note: If you find anything new in this activity, look them up in the Python's HELP feature or in the internet."
   ]
  },
  {
   "cell_type": "markdown",
   "metadata": {},
   "source": [
    "### Importing the Data File\n",
    "The first step is to load the data into the Python workspace. The data is saved in the file $current.txt$. Use the $loadtxt$ command from the $numpy$ module to load the data. Use the following options to add to the file name: delimiter = ',' and skiprows=1. The first option tells Python that comma is used a delimeter. The second option tells Python to ignore the first row, where the column labels are placed. Use the variable $A$ to load the data in."
   ]
  },
  {
   "cell_type": "code",
   "execution_count": 1,
   "metadata": {},
   "outputs": [],
   "source": [
    "import numpy as np\n",
    "A = np.loadtxt('current.txt', delimiter = ',',skiprows=1)"
   ]
  },
  {
   "cell_type": "markdown",
   "metadata": {},
   "source": [
    "Display and verify the data saved in the variable $A$."
   ]
  },
  {
   "cell_type": "code",
   "execution_count": 2,
   "metadata": {},
   "outputs": [
    {
     "name": "stdout",
     "output_type": "stream",
     "text": [
      "[[0.         0.51391382]\n",
      " [0.001      0.46497679]\n",
      " [0.002      0.41837314]\n",
      " [0.003      0.37988147]\n",
      " [0.004      0.35415415]\n",
      " [0.005      0.30493528]\n",
      " [0.006      0.2800024 ]\n",
      " [0.007      0.2572328 ]\n",
      " [0.008      0.23641591]\n",
      " [0.009      0.22083751]\n",
      " [0.01       0.19332173]\n",
      " [0.011      0.17518391]\n",
      " [0.012      0.1655208 ]\n",
      " [0.013      0.14562411]\n",
      " [0.014      0.14051503]\n",
      " [0.015      0.12089532]\n",
      " [0.016      0.11091035]\n",
      " [0.017      0.10109038]\n",
      " [0.018      0.08723882]\n",
      " [0.019      0.07649535]\n",
      " [0.02       0.06901531]\n",
      " [0.021      0.07899603]\n",
      " [0.022      0.06006493]\n",
      " [0.023      0.06736134]\n",
      " [0.024      0.05959368]\n",
      " [0.025      0.05849876]\n",
      " [0.026      0.05589683]\n",
      " [0.027      0.03639654]\n",
      " [0.028      0.03828303]\n",
      " [0.029      0.04712287]\n",
      " [0.03       0.03778941]\n",
      " [0.031      0.0404528 ]\n",
      " [0.032      0.03002571]\n",
      " [0.033      0.01872345]\n",
      " [0.034      0.02914424]\n",
      " [0.035      0.0197206 ]\n",
      " [0.036      0.02421054]\n",
      " [0.037      0.0268616 ]\n",
      " [0.038      0.0233337 ]\n",
      " [0.039      0.02188828]\n",
      " [0.04       0.01782652]\n",
      " [0.041      0.0131698 ]\n",
      " [0.042      0.016077  ]\n",
      " [0.043      0.00698783]\n",
      " [0.044      0.0183151 ]\n",
      " [0.045      0.024714  ]\n",
      " [0.046      0.00693485]\n",
      " [0.047      0.00525945]\n",
      " [0.048      0.02183958]\n",
      " [0.049      0.00866212]\n",
      " [0.05       0.00354727]\n",
      " [0.051      0.01934678]\n",
      " [0.052      0.00556827]\n",
      " [0.053      0.02009313]\n",
      " [0.054      0.00416583]\n",
      " [0.055      0.00909459]\n",
      " [0.056      0.01371734]\n",
      " [0.057      0.01337662]\n",
      " [0.058      0.01486741]\n",
      " [0.059      0.01433026]\n",
      " [0.06       0.00990676]\n",
      " [0.061      0.00391661]\n",
      " [0.062      0.01605331]\n",
      " [0.063      0.00575389]\n",
      " [0.064      0.01383997]\n",
      " [0.065      0.0178992 ]\n",
      " [0.066      0.00236759]\n",
      " [0.067      0.02005724]\n",
      " [0.068      0.00118609]\n",
      " [0.069      0.01721198]\n",
      " [0.07       0.01717021]\n",
      " [0.071      0.0014097 ]\n",
      " [0.072      0.01129102]\n",
      " [0.073      0.01920117]\n",
      " [0.074      0.00673509]\n",
      " [0.075      0.01640588]\n",
      " [0.076      0.0122782 ]\n",
      " [0.077      0.01601882]\n",
      " [0.078      0.01618857]\n",
      " [0.079      0.00117667]\n",
      " [0.08       0.0058317 ]\n",
      " [0.081      0.01322091]\n",
      " [0.082      0.00993043]\n",
      " [0.083      0.0195813 ]\n",
      " [0.084      0.01508223]\n",
      " [0.085      0.01145856]\n",
      " [0.086      0.00607134]\n",
      " [0.087      0.00520549]\n",
      " [0.088      0.01780664]\n",
      " [0.089      0.00900421]\n",
      " [0.09       0.01638145]\n",
      " [0.091      0.00202258]\n",
      " [0.092      0.01724239]\n",
      " [0.093      0.00059829]\n",
      " [0.094      0.01802449]\n",
      " [0.095      0.01803614]\n",
      " [0.096      0.01051598]\n",
      " [0.097      0.00243463]\n",
      " [0.098      0.00358361]\n",
      " [0.099      0.01414724]\n",
      " [0.1        0.0166499 ]]\n"
     ]
    }
   ],
   "source": [
    "print(A)"
   ]
  },
  {
   "cell_type": "markdown",
   "metadata": {},
   "source": [
    "### Extracting and Plotting the Data Set\n",
    "You can call only the first column elements by typing A[:,0] and the second column elements by typing A[:,1]. Display the first column elements."
   ]
  },
  {
   "cell_type": "code",
   "execution_count": 3,
   "metadata": {},
   "outputs": [
    {
     "name": "stdout",
     "output_type": "stream",
     "text": [
      "[0.    0.001 0.002 0.003 0.004 0.005 0.006 0.007 0.008 0.009 0.01  0.011\n",
      " 0.012 0.013 0.014 0.015 0.016 0.017 0.018 0.019 0.02  0.021 0.022 0.023\n",
      " 0.024 0.025 0.026 0.027 0.028 0.029 0.03  0.031 0.032 0.033 0.034 0.035\n",
      " 0.036 0.037 0.038 0.039 0.04  0.041 0.042 0.043 0.044 0.045 0.046 0.047\n",
      " 0.048 0.049 0.05  0.051 0.052 0.053 0.054 0.055 0.056 0.057 0.058 0.059\n",
      " 0.06  0.061 0.062 0.063 0.064 0.065 0.066 0.067 0.068 0.069 0.07  0.071\n",
      " 0.072 0.073 0.074 0.075 0.076 0.077 0.078 0.079 0.08  0.081 0.082 0.083\n",
      " 0.084 0.085 0.086 0.087 0.088 0.089 0.09  0.091 0.092 0.093 0.094 0.095\n",
      " 0.096 0.097 0.098 0.099 0.1  ]\n"
     ]
    }
   ],
   "source": [
    "print(A[:,0])"
   ]
  },
  {
   "cell_type": "markdown",
   "metadata": {},
   "source": [
    "Display the second column elements."
   ]
  },
  {
   "cell_type": "code",
   "execution_count": 4,
   "metadata": {},
   "outputs": [
    {
     "name": "stdout",
     "output_type": "stream",
     "text": [
      "[0.51391382 0.46497679 0.41837314 0.37988147 0.35415415 0.30493528\n",
      " 0.2800024  0.2572328  0.23641591 0.22083751 0.19332173 0.17518391\n",
      " 0.1655208  0.14562411 0.14051503 0.12089532 0.11091035 0.10109038\n",
      " 0.08723882 0.07649535 0.06901531 0.07899603 0.06006493 0.06736134\n",
      " 0.05959368 0.05849876 0.05589683 0.03639654 0.03828303 0.04712287\n",
      " 0.03778941 0.0404528  0.03002571 0.01872345 0.02914424 0.0197206\n",
      " 0.02421054 0.0268616  0.0233337  0.02188828 0.01782652 0.0131698\n",
      " 0.016077   0.00698783 0.0183151  0.024714   0.00693485 0.00525945\n",
      " 0.02183958 0.00866212 0.00354727 0.01934678 0.00556827 0.02009313\n",
      " 0.00416583 0.00909459 0.01371734 0.01337662 0.01486741 0.01433026\n",
      " 0.00990676 0.00391661 0.01605331 0.00575389 0.01383997 0.0178992\n",
      " 0.00236759 0.02005724 0.00118609 0.01721198 0.01717021 0.0014097\n",
      " 0.01129102 0.01920117 0.00673509 0.01640588 0.0122782  0.01601882\n",
      " 0.01618857 0.00117667 0.0058317  0.01322091 0.00993043 0.0195813\n",
      " 0.01508223 0.01145856 0.00607134 0.00520549 0.01780664 0.00900421\n",
      " 0.01638145 0.00202258 0.01724239 0.00059829 0.01802449 0.01803614\n",
      " 0.01051598 0.00243463 0.00358361 0.01414724 0.0166499 ]\n"
     ]
    }
   ],
   "source": [
    "print(A[:,1])"
   ]
  },
  {
   "cell_type": "markdown",
   "metadata": {},
   "source": [
    "Assign the first column elements to the variable $t$ and the second column elements to the variable $cur$."
   ]
  },
  {
   "cell_type": "code",
   "execution_count": 5,
   "metadata": {},
   "outputs": [],
   "source": [
    "t = A[:,0]\n",
    "cur = A[:,1]"
   ]
  },
  {
   "cell_type": "markdown",
   "metadata": {},
   "source": [
    "Plot the current vs time. Use the marker 'o' with black color.<br>\n",
    "Add a title, an x-axis label and a y-axis label, using font sizes of 15 units.<br>"
   ]
  },
  {
   "cell_type": "code",
   "execution_count": 6,
   "metadata": {},
   "outputs": [
    {
     "data": {
      "text/plain": [
       "Text(0, 0.5, 'Current (A)')"
      ]
     },
     "execution_count": 6,
     "metadata": {},
     "output_type": "execute_result"
    },
    {
     "data": {
      "image/png": "[encoded data removed]",
      "text/plain": [
       "<Figure size 432x288 with 1 Axes>"
      ]
     },
     "metadata": {
      "needs_background": "light"
     },
     "output_type": "display_data"
    }
   ],
   "source": [
    "import matplotlib.pyplot as plt\n",
    "plt.plot(t,cur,'ko')\n",
    "plt.title('Current through a series RC Circuit', fontsize=15)\n",
    "plt.xlabel('Time (ms)', fontsize=15)\n",
    "plt.ylabel('Current (A)', fontsize=15)"
   ]
  },
  {
   "cell_type": "markdown",
   "metadata": {},
   "source": [
    "### TASK 1. How much charge passed through the series RC circuit over the whole measured time period?\n",
    "To estimate the total charge, you need to integrate over the whole time period. In other words,<br><br>\n",
    "$Q = \\int_{t=0}^{t=t_{max}} i(t)dt$<br><br>\n",
    "you need to ntegrate over the whole time period and determine the total charge. In the video lecture, we used a continuous function as an example. However, we saw that as we increased the interval size, $h$, the integration becomes more accurate. For discrete functions or discrete data sets such as the one that we have now, the interval size is already pre-defined.<br><br>\n",
    "In the field below, write down the numerical value of the interval size and assign that value to the variable, $h$."
   ]
  },
  {
   "cell_type": "code",
   "execution_count": 7,
   "metadata": {},
   "outputs": [],
   "source": [
    "h = 0.001"
   ]
  },
  {
   "cell_type": "markdown",
   "metadata": {},
   "source": [
    "To numerically integrate the data for current using the trapezoidal rule, we have shown that the numerical solution is given by<br><br>\n",
    "$I = h_1\\frac{f(x_1)+f(x_2)}{2}+h_2\\frac{f(x_2)+f(x_3)}{2}+...+h_{n-1}\\frac{f(x_{n-1})+f(x_n)}{2}$\n",
    "<br><br>\n",
    "or if we group terms and assume that the intervals are the same, we have<br><br>\n",
    "$I=\\frac{h}{2}[f(x_1)+2\\displaystyle\\sum_{i=2}^{n-1}f(x_i) + f(x_n)]$\n",
    "<br><br>In the field below, implement the trapezoidal rule to get the total charge for the whole time period. Use the variable, $Q$, for the total charge. Display the value of the total charge, $Q$."
   ]
  },
  {
   "cell_type": "code",
   "execution_count": 8,
   "metadata": {},
   "outputs": [
    {
     "name": "stdout",
     "output_type": "stream",
     "text": [
      "0.0060424080531396454\n"
     ]
    }
   ],
   "source": [
    "def mytrapz( data, h ):\n",
    "    sumQ = 0\n",
    "    for i in range(np.size(cur)-1):\n",
    "        sumQ += (cur[i]+cur[i+1])/2\n",
    "    Q = h*sumQ\n",
    "    return Q\n",
    "\n",
    "Q = mytrapz( cur, h )\n",
    "print(Q)"
   ]
  },
  {
   "cell_type": "markdown",
   "metadata": {},
   "source": [
    "Now, let's check if you got the correct answer. Python has a built-in function for computing the integral of a function using the trapezoidal rule. The function is called '$trapz()$' from the $numpy$ module. Check out the syntax of the $trapz()$ function using HELP. Use the variable, $Qtrapz$, to save the value of the total charge in. Display the value of the total charge, $Qtrapz$."
   ]
  },
  {
   "cell_type": "code",
   "execution_count": 9,
   "metadata": {},
   "outputs": [
    {
     "name": "stdout",
     "output_type": "stream",
     "text": [
      "0.006042408053139646\n"
     ]
    }
   ],
   "source": [
    "Qtrapz = np.trapz(cur,t)\n",
    "print(Qtrapz)"
   ]
  },
  {
   "cell_type": "markdown",
   "metadata": {},
   "source": [
    "If you did this correctly, $Q$ should be equal to $Qtrapz$.<br><br>\n",
    "As a follow-up question, how many electrons passed through the RC circuit over the whole measured time period? Use the variable, $n$, for the number of electrons. Display the value of $n$."
   ]
  },
  {
   "cell_type": "code",
   "execution_count": 10,
   "metadata": {},
   "outputs": [
    {
     "name": "stdout",
     "output_type": "stream",
     "text": [
      "3.755381015002887e+16\n"
     ]
    }
   ],
   "source": [
    "n = Q/1.609e-19\n",
    "print(n)"
   ]
  },
  {
   "cell_type": "markdown",
   "metadata": {},
   "source": [
    "### TASK 2. What is the time dependence of the charge of the series RC circuit?\n",
    "In this task, we need to get a plot of the charge as a function of time from the plot of the current as a function of time. To facilitate faster and use our time efficiently, we are going to use the function '$cumtrapz()$' from the integration module, which can be found from the scipy Python library. Check out the syntax of the $cumtrapz()$ function using HELP. To load the $cumtrapz()$ function, we need to do this."
   ]
  },
  {
   "cell_type": "code",
   "execution_count": 11,
   "metadata": {},
   "outputs": [],
   "source": [
    "from scipy import integrate\n",
    "# similarly you can also do this\n",
    "# import scipy.integrate as integrate"
   ]
  },
  {
   "cell_type": "markdown",
   "metadata": {},
   "source": [
    "In the field below, use MATLAB's built-in function $cumtrapz()$ to get the time dependence of the charge. Use the variable, $q$, for the time-dependent charge."
   ]
  },
  {
   "cell_type": "code",
   "execution_count": 12,
   "metadata": {},
   "outputs": [
    {
     "name": "stdout",
     "output_type": "stream",
     "text": [
      "101\n",
      "100\n"
     ]
    }
   ],
   "source": [
    "q = integrate.cumtrapz(cur,t)\n",
    "print(np.size(cur))\n",
    "print(np.size(q))"
   ]
  },
  {
   "cell_type": "markdown",
   "metadata": {},
   "source": [
    "Plot the charge, $q$, versus time, $t$ using the marker '*' (asterisk) with black color.<br>\n",
    "Add a title, an x-axis label and a y-axis label, using font sizes of 15 units."
   ]
  },
  {
   "cell_type": "code",
   "execution_count": 13,
   "metadata": {},
   "outputs": [
    {
     "data": {
      "text/plain": [
       "Text(0, 0.5, 'Charge (Coulomb)')"
      ]
     },
     "execution_count": 13,
     "metadata": {},
     "output_type": "execute_result"
    },
    {
     "data": {
      "image/png": "[encoded data removed]",
      "text/plain": [
       "<Figure size 432x288 with 1 Axes>"
      ]
     },
     "metadata": {
      "needs_background": "light"
     },
     "output_type": "display_data"
    }
   ],
   "source": [
    "plt.plot(t[0:np.size(t)-1],q,'k*')\n",
    "plt.title('Charge vs Time in a series RC Circuit', fontsize=15)\n",
    "plt.xlabel('Time (ms)', fontsize=15)\n",
    "plt.ylabel('Charge (Coulomb)', fontsize=15)"
   ]
  },
  {
   "cell_type": "markdown",
   "metadata": {},
   "source": [
    "Estimate the capacitor charge at the time equal to the time constant?"
   ]
  },
  {
   "cell_type": "code",
   "execution_count": 14,
   "metadata": {},
   "outputs": [],
   "source": [
    "# Write your answer here:"
   ]
  },
  {
   "cell_type": "markdown",
   "metadata": {},
   "source": [
    "### TASK 3. Compare with Theory\n",
    "Given the source voltage, $V_S=5V$, the capacitance, $C=1000 \\mu F$, and the resistance, $R=10 \\Omega$. Define these variables and their corresponding values in the field below. Solve for the value of the time constant, $\\tau$, as well."
   ]
  },
  {
   "cell_type": "code",
   "execution_count": 15,
   "metadata": {},
   "outputs": [],
   "source": [
    "Vs = 5         # unit of Volts\n",
    "R = 10         # unit of Ohm\n",
    "C = 1000e-6    # unit of Farad\n",
    "tau = R*C      # unit of seconds"
   ]
  },
  {
   "cell_type": "markdown",
   "metadata": {},
   "source": [
    "The expression for the charge of a capacitor is given by<br><br>\n",
    "$q(t) = CV_S[1-exp(-\\frac{t}{RC})]$\n",
    "<br><br>Given the circuit element values, implement the theoretical expression for the charge of a capacitor in Python by writing down the correct Python statement below. You may need to review the theoretical equation for the charge across the capacitor from your Physics 102 lectures. For the theoretical charge, use the variable, $qtheory$."
   ]
  },
  {
   "cell_type": "code",
   "execution_count": 16,
   "metadata": {},
   "outputs": [],
   "source": [
    "qtheory = C*Vs*(1-np.exp(-t/tau))"
   ]
  },
  {
   "cell_type": "markdown",
   "metadata": {},
   "source": [
    "Plot the theoretical charge vs time against the experimental result you obtained in Task 2.  In other words, plot the theoretical result and superimposed on this the experimental result. Use a red line for the theoretical plot, with a LineWidth of 3 units. Use the same black asterisk marker for the experimental result.<br>\n",
    "Add a title, an x-axis label and a y-axis label, using font sizes of 15 units."
   ]
  },
  {
   "cell_type": "code",
   "execution_count": 17,
   "metadata": {},
   "outputs": [
    {
     "data": {
      "text/plain": [
       "Text(0, 0.5, 'Charge (Coulomb)')"
      ]
     },
     "execution_count": 17,
     "metadata": {},
     "output_type": "execute_result"
    },
    {
     "data": {
      "image/png": "[encoded data removed]",
      "text/plain": [
       "<Figure size 432x288 with 1 Axes>"
      ]
     },
     "metadata": {
      "needs_background": "light"
     },
     "output_type": "display_data"
    }
   ],
   "source": [
    "plt.plot(t[0:np.size(t)-1],q,'k*')\n",
    "plt.plot(t,qtheory,'r', linewidth=3)\n",
    "plt.title('Charge vs Time in a series RC Circuit', fontsize=15)\n",
    "plt.xlabel('Time (ms)', fontsize=15)\n",
    "plt.ylabel('Charge (Coulomb)', fontsize=15)"
   ]
  },
  {
   "cell_type": "markdown",
   "metadata": {},
   "source": [
    "The expression for the theoretical current of a capacitor is given by<br><br>\n",
    "$i(t) = \\frac{dq(t)}{dt} = \\frac{V_S}{R}exp(-\\frac{t}{RC})$\n",
    "<br><br>Given the circuit element values, implement the theoretical expression for the current through a capacitor in Python by writing down the correct Python statement below. You may need to review the theoretical equation for the current through the capacitor from your Physics 102 lectures. For the theoretical charge, use the variable, $curtheory$."
   ]
  },
  {
   "cell_type": "code",
   "execution_count": 18,
   "metadata": {},
   "outputs": [],
   "source": [
    "curtheory = (Vs/R)*np.exp(-t/tau)"
   ]
  },
  {
   "cell_type": "markdown",
   "metadata": {},
   "source": [
    "Plot the theoretical current vs time against the experimental result you obtained in Task 1. In other words, plot the theoretical result and superimposed on this the experimental result. Use a red line for the theoretical plot, with a LineWidth of 3 units. Use the same black circle marker for the experimental result.<br>\n",
    "Add a title, an x-axis label and a y-axis label, using font sizes of 15 units."
   ]
  },
  {
   "cell_type": "code",
   "execution_count": 19,
   "metadata": {},
   "outputs": [
    {
     "data": {
      "text/plain": [
       "Text(0, 0.5, 'Current (A)')"
      ]
     },
     "execution_count": 19,
     "metadata": {},
     "output_type": "execute_result"
    },
    {
     "data": {
      "image/png": "[encoded data removed]",
      "text/plain": [
       "<Figure size 432x288 with 1 Axes>"
      ]
     },
     "metadata": {
      "needs_background": "light"
     },
     "output_type": "display_data"
    }
   ],
   "source": [
    "plt.plot(t,cur,'ko')\n",
    "plt.plot(t,curtheory,'r', linewidth=3)\n",
    "plt.title('Current through a series RC Circuit', fontsize=15)\n",
    "plt.xlabel('Time (ms)', fontsize=15)\n",
    "plt.ylabel('Current (A)', fontsize=15)"
   ]
  },
  {
   "cell_type": "markdown",
   "metadata": {},
   "source": [
    "Notice that there is are discrepancies between theory and experiment. Identify possible sources of errors and explain your hypothesis. "
   ]
  },
  {
   "cell_type": "code",
   "execution_count": 20,
   "metadata": {},
   "outputs": [],
   "source": [
    "# Write your answer here:"
   ]
  },
  {
   "cell_type": "markdown",
   "metadata": {},
   "source": [
    "### TASK 4. Differentiation\n",
    "Using any of the differentiation techniques described in the video lecture in our VLE, differentiate the experimental charge vs time data. Use the variable, $curdiff$, for the differentiated charge."
   ]
  },
  {
   "cell_type": "code",
   "execution_count": 21,
   "metadata": {},
   "outputs": [],
   "source": [
    "curdiff = np.zeros(np.size(cur)-1)\n",
    "for i in range(np.size(cur)-2):\n",
    "    curdiff[i] = (q[i+1] - q[i])/0.001"
   ]
  },
  {
   "cell_type": "markdown",
   "metadata": {},
   "source": [
    "Compare $curdiff$ with $cur$ by plotting both data in one graph. Use black circles as marker for the variable $cur$ and a red line, with a LineWidth of 3 units, for the variable $curdiff$."
   ]
  },
  {
   "cell_type": "code",
   "execution_count": 22,
   "metadata": {},
   "outputs": [
    {
     "data": {
      "text/plain": [
       "[<matplotlib.lines.Line2D at 0x7fe619304550>]"
      ]
     },
     "execution_count": 22,
     "metadata": {},
     "output_type": "execute_result"
    },
    {
     "data": {
      "image/png": "[encoded data removed]",
      "text/plain": [
       "<Figure size 432x288 with 1 Axes>"
      ]
     },
     "metadata": {
      "needs_background": "light"
     },
     "output_type": "display_data"
    }
   ],
   "source": [
    "plt.plot(t,cur,'ko')\n",
    "plt.plot(t[0:np.size(t)-1],curdiff,'r', linewidth=3)"
   ]
  },
  {
   "cell_type": "markdown",
   "metadata": {},
   "source": [
    "How would you describe the accuracy of the between the two data?"
   ]
  },
  {
   "cell_type": "code",
   "execution_count": 23,
   "metadata": {},
   "outputs": [
    {
     "data": {
      "text/plain": [
       "100"
      ]
     },
     "execution_count": 23,
     "metadata": {},
     "output_type": "execute_result"
    }
   ],
   "source": [
    "# Write your answer here: \n",
    "np.size(q)"
   ]
  },
  {
   "cell_type": "markdown",
   "metadata": {},
   "source": [
    "### TASK 5. Saving the Data to File\n",
    "You are going to save five sets of data to a text file. These are the time, $t$, the experimental charge, $q$, the theoretical charge, $qtheory$, the experimental current, $cur$, and the theoretical current, $curtheory$. First, ensure that all of these variables have the same dimensions. In the field below, display the sizes of each variable."
   ]
  },
  {
   "cell_type": "code",
   "execution_count": 24,
   "metadata": {},
   "outputs": [
    {
     "name": "stdout",
     "output_type": "stream",
     "text": [
      "101\n",
      "100\n",
      "101\n",
      "101\n",
      "101\n"
     ]
    }
   ],
   "source": [
    "print(np.size(t))\n",
    "print(np.size(q))\n",
    "print(np.size(qtheory))\n",
    "print(np.size(cur))\n",
    "print(np.size(curtheory))"
   ]
  },
  {
   "cell_type": "markdown",
   "metadata": {},
   "source": [
    "Notice that the variable $q$ does not have the same size as all the other variables. What we are going to do is to add the last value of the variable $q$, i.e. q[np.size(q)-1], to the existing array, $q$, using the $append$ command from the $numpy$ module. Assign the resulting array to the same variable, $q$, and then check if this revised variable has the same dimension as the other variables."
   ]
  },
  {
   "cell_type": "code",
   "execution_count": 25,
   "metadata": {},
   "outputs": [
    {
     "name": "stdout",
     "output_type": "stream",
     "text": [
      "101\n"
     ]
    }
   ],
   "source": [
    "q = np.append(q,q[np.size(q)-1])\n",
    "print(np.size(q))"
   ]
  },
  {
   "cell_type": "markdown",
   "metadata": {},
   "source": [
    "To save all five variables in a text file, we use the command $savetxt$ from the $numpy$ module. The complete command is already given below. Understand and remember the syntax for future reference."
   ]
  },
  {
   "cell_type": "code",
   "execution_count": 26,
   "metadata": {},
   "outputs": [],
   "source": [
    "np.savetxt(\"allpythondata.txt\", (t,q,qtheory,cur,curtheory))"
   ]
  },
  {
   "cell_type": "markdown",
   "metadata": {},
   "source": [
    "Let's now check if all the data has been saved correctly. Use the $loadtxt$ command to load the data to a new variable $B$. Display the variable $B$."
   ]
  },
  {
   "cell_type": "code",
   "execution_count": 27,
   "metadata": {},
   "outputs": [
    {
     "name": "stdout",
     "output_type": "stream",
     "text": [
      "[[0.00000000e+00 1.00000000e-03 2.00000000e-03 3.00000000e-03\n",
      "  4.00000000e-03 5.00000000e-03 6.00000000e-03 7.00000000e-03\n",
      "  8.00000000e-03 9.00000000e-03 1.00000000e-02 1.10000000e-02\n",
      "  1.20000000e-02 1.30000000e-02 1.40000000e-02 1.50000000e-02\n",
      "  1.60000000e-02 1.70000000e-02 1.80000000e-02 1.90000000e-02\n",
      "  2.00000000e-02 2.10000000e-02 2.20000000e-02 2.30000000e-02\n",
      "  2.40000000e-02 2.50000000e-02 2.60000000e-02 2.70000000e-02\n",
      "  2.80000000e-02 2.90000000e-02 3.00000000e-02 3.10000000e-02\n",
      "  3.20000000e-02 3.30000000e-02 3.40000000e-02 3.50000000e-02\n",
      "  3.60000000e-02 3.70000000e-02 3.80000000e-02 3.90000000e-02\n",
      "  4.00000000e-02 4.10000000e-02 4.20000000e-02 4.30000000e-02\n",
      "  4.40000000e-02 4.50000000e-02 4.60000000e-02 4.70000000e-02\n",
      "  4.80000000e-02 4.90000000e-02 5.00000000e-02 5.10000000e-02\n",
      "  5.20000000e-02 5.30000000e-02 5.40000000e-02 5.50000000e-02\n",
      "  5.60000000e-02 5.70000000e-02 5.80000000e-02 5.90000000e-02\n",
      "  6.00000000e-02 6.10000000e-02 6.20000000e-02 6.30000000e-02\n",
      "  6.40000000e-02 6.50000000e-02 6.60000000e-02 6.70000000e-02\n",
      "  6.80000000e-02 6.90000000e-02 7.00000000e-02 7.10000000e-02\n",
      "  7.20000000e-02 7.30000000e-02 7.40000000e-02 7.50000000e-02\n",
      "  7.60000000e-02 7.70000000e-02 7.80000000e-02 7.90000000e-02\n",
      "  8.00000000e-02 8.10000000e-02 8.20000000e-02 8.30000000e-02\n",
      "  8.40000000e-02 8.50000000e-02 8.60000000e-02 8.70000000e-02\n",
      "  8.80000000e-02 8.90000000e-02 9.00000000e-02 9.10000000e-02\n",
      "  9.20000000e-02 9.30000000e-02 9.40000000e-02 9.50000000e-02\n",
      "  9.60000000e-02 9.70000000e-02 9.80000000e-02 9.90000000e-02\n",
      "  1.00000000e-01]\n",
      " [4.89445306e-04 9.31120272e-04 1.33024758e-03 1.69726539e-03\n",
      "  2.02681010e-03 2.31927894e-03 2.58789654e-03 2.83472089e-03\n",
      "  3.06334760e-03 3.27042722e-03 3.45468004e-03 3.62503240e-03\n",
      "  3.78060486e-03 3.92367442e-03 4.05437960e-03 4.17028243e-03\n",
      "  4.27628279e-03 4.37044739e-03 4.45231448e-03 4.52506981e-03\n",
      "  4.59907548e-03 4.66860596e-03 4.73231910e-03 4.79579661e-03\n",
      "  4.85484283e-03 4.91204062e-03 4.95818730e-03 4.99552709e-03\n",
      "  5.03823004e-03 5.08068618e-03 5.11980729e-03 5.15504654e-03\n",
      "  5.17942112e-03 5.20335496e-03 5.22778738e-03 5.24975295e-03\n",
      "  5.27528903e-03 5.30038668e-03 5.32299767e-03 5.34285507e-03\n",
      "  5.35835323e-03 5.37297662e-03 5.38450904e-03 5.39716050e-03\n",
      "  5.41867505e-03 5.43449947e-03 5.44059662e-03 5.45414614e-03\n",
      "  5.46939698e-03 5.47550168e-03 5.48694871e-03 5.49940623e-03\n",
      "  5.51223693e-03 5.52436641e-03 5.53099661e-03 5.54240258e-03\n",
      "  5.55594956e-03 5.57007157e-03 5.58467041e-03 5.59678892e-03\n",
      "  5.60370061e-03 5.61368556e-03 5.62458916e-03 5.63438609e-03\n",
      "  5.65025567e-03 5.66038907e-03 5.67160148e-03 5.68222315e-03\n",
      "  5.69142218e-03 5.70861328e-03 5.71790323e-03 5.72425359e-03\n",
      "  5.73949968e-03 5.75246781e-03 5.76403829e-03 5.77838033e-03\n",
      "  5.79252884e-03 5.80863254e-03 5.81731516e-03 5.82081934e-03\n",
      "  5.83034565e-03 5.84192132e-03 5.85667719e-03 5.87400895e-03\n",
      "  5.88727935e-03 5.89604429e-03 5.90168271e-03 5.91318877e-03\n",
      "  5.92659420e-03 5.93928703e-03 5.94848905e-03 5.95812153e-03\n",
      "  5.96704187e-03 5.97635326e-03 5.99438357e-03 6.00865963e-03\n",
      "  6.01513494e-03 6.01814406e-03 6.02700949e-03 6.04240805e-03\n",
      "  6.04240805e-03]\n",
      " [0.00000000e+00 4.75812910e-04 9.06346235e-04 1.29590890e-03\n",
      "  1.64839977e-03 1.96734670e-03 2.25594182e-03 2.51707348e-03\n",
      "  2.75335518e-03 2.96715170e-03 3.16060279e-03 3.33564458e-03\n",
      "  3.49402894e-03 3.63734103e-03 3.76701518e-03 3.88434920e-03\n",
      "  3.99051741e-03 4.08658238e-03 4.17350556e-03 4.25215690e-03\n",
      "  4.32332358e-03 4.38771786e-03 4.44598421e-03 4.49870578e-03\n",
      "  4.54641023e-03 4.58957501e-03 4.62863211e-03 4.66397244e-03\n",
      "  4.69594969e-03 4.72488390e-03 4.75106466e-03 4.77475399e-03\n",
      "  4.79618898e-03 4.81558416e-03 4.83313365e-03 4.84901308e-03\n",
      "  4.86338139e-03 4.87638237e-03 4.88814614e-03 4.89879044e-03\n",
      "  4.90842181e-03 4.91713662e-03 4.92502212e-03 4.93215720e-03\n",
      "  4.93861330e-03 4.94445502e-03 4.94974082e-03 4.95452361e-03\n",
      "  4.95885126e-03 4.96276708e-03 4.96631027e-03 4.96951627e-03\n",
      "  4.97241718e-03 4.97504203e-03 4.97741710e-03 4.97956614e-03\n",
      "  4.98151068e-03 4.98327017e-03 4.98486223e-03 4.98630278e-03\n",
      "  4.98760624e-03 4.98878566e-03 4.98985285e-03 4.99081848e-03\n",
      "  4.99169221e-03 4.99248280e-03 4.99319816e-03 4.99384544e-03\n",
      "  4.99443112e-03 4.99496107e-03 4.99544059e-03 4.99587448e-03\n",
      "  4.99626707e-03 4.99662231e-03 4.99694374e-03 4.99723458e-03\n",
      "  4.99749774e-03 4.99773586e-03 4.99795133e-03 4.99814628e-03\n",
      "  4.99832269e-03 4.99848230e-03 4.99862673e-03 4.99875742e-03\n",
      "  4.99887566e-03 4.99898266e-03 4.99907947e-03 4.99916707e-03\n",
      "  4.99924633e-03 4.99931806e-03 4.99938295e-03 4.99944167e-03\n",
      "  4.99949480e-03 4.99954288e-03 4.99958638e-03 4.99962574e-03\n",
      "  4.99966136e-03 4.99969358e-03 4.99972274e-03 4.99974913e-03\n",
      "  4.99977300e-03]\n",
      " [5.13913819e-01 4.64976793e-01 4.18373140e-01 3.79881469e-01\n",
      "  3.54154150e-01 3.04935281e-01 2.80002396e-01 2.57232798e-01\n",
      "  2.36415907e-01 2.20837513e-01 1.93321731e-01 1.75183911e-01\n",
      "  1.65520805e-01 1.45624106e-01 1.40515029e-01 1.20895320e-01\n",
      "  1.10910349e-01 1.01090375e-01 8.72388196e-02 7.64953543e-02\n",
      "  6.90153079e-02 7.89960328e-02 6.00649329e-02 6.73613371e-02\n",
      "  5.95936785e-02 5.84987592e-02 5.58968292e-02 3.63965419e-02\n",
      "  3.82830342e-02 4.71228666e-02 3.77894147e-02 4.04527968e-02\n",
      "  3.00257101e-02 1.87234452e-02 2.91442419e-02 1.97205990e-02\n",
      "  2.42105405e-02 2.68616025e-02 2.33337018e-02 2.18882846e-02\n",
      "  1.78265162e-02 1.31697956e-02 1.60769955e-02 6.98782862e-03\n",
      "  1.83150989e-02 2.47140020e-02 6.93484834e-03 5.25944982e-03\n",
      "  2.18395758e-02 8.66211884e-03 3.54727462e-03 1.93467787e-02\n",
      "  5.56827094e-03 2.00931258e-02 4.16582619e-03 9.09458774e-03\n",
      "  1.37173432e-02 1.33766155e-02 1.48674127e-02 1.43302647e-02\n",
      "  9.90675744e-03 3.91660904e-03 1.60533055e-02 5.75388826e-03\n",
      "  1.38399651e-02 1.78992008e-02 2.36759344e-03 2.00572392e-02\n",
      "  1.18608629e-03 1.72119837e-02 1.71702079e-02 1.40970249e-03\n",
      "  1.12910171e-02 1.92011662e-02 6.73508778e-03 1.64058783e-02\n",
      "  1.22782008e-02 1.60188229e-02 1.61885682e-02 1.17666708e-03\n",
      "  5.83170399e-03 1.32209060e-02 9.93043369e-03 1.95813032e-02\n",
      "  1.50822319e-02 1.14585572e-02 6.07133617e-03 5.20548853e-03\n",
      "  1.78066424e-02 9.00421172e-03 1.63814500e-02 2.02257894e-03\n",
      "  1.72423888e-02 5.98292279e-04 1.80244907e-02 1.80361359e-02\n",
      "  1.05159846e-02 2.43463200e-03 3.58360764e-03 1.41472392e-02\n",
      "  1.66498951e-02]\n",
      " [5.00000000e-01 4.52418709e-01 4.09365377e-01 3.70409110e-01\n",
      "  3.35160023e-01 3.03265330e-01 2.74405818e-01 2.48292652e-01\n",
      "  2.24664482e-01 2.03284830e-01 1.83939721e-01 1.66435542e-01\n",
      "  1.50597106e-01 1.36265897e-01 1.23298482e-01 1.11565080e-01\n",
      "  1.00948259e-01 9.13417620e-02 8.26494441e-02 7.47843096e-02\n",
      "  6.76676416e-02 6.12282141e-02 5.54015792e-02 5.01294219e-02\n",
      "  4.53589766e-02 4.10424993e-02 3.71367891e-02 3.36027564e-02\n",
      "  3.04050313e-02 2.75116100e-02 2.48935342e-02 2.25246012e-02\n",
      "  2.03811020e-02 1.84415837e-02 1.66866350e-02 1.50986917e-02\n",
      "  1.36618612e-02 1.23617632e-02 1.11853859e-02 1.01209557e-02\n",
      "  9.15781944e-03 8.28633770e-03 7.49778841e-03 6.78427951e-03\n",
      "  6.13866995e-03 5.55449827e-03 5.02591787e-03 4.54763855e-03\n",
      "  4.11487352e-03 3.72329154e-03 3.36897350e-03 3.04837328e-03\n",
      "  2.75828221e-03 2.49579695e-03 2.25829047e-03 2.04338572e-03\n",
      "  1.84893186e-03 1.67298273e-03 1.51377737e-03 1.36972241e-03\n",
      "  1.23937609e-03 1.12143386e-03 1.01471532e-03 9.18152389e-04\n",
      "  8.30778637e-04 7.51719596e-04 6.80184019e-04 6.15455951e-04\n",
      "  5.56887574e-04 5.03892715e-04 4.55940983e-04 4.12552462e-04\n",
      "  3.73292904e-04 3.37769388e-04 3.05626381e-04 2.76542185e-04\n",
      "  2.50225717e-04 2.26413591e-04 2.04867489e-04 1.85371770e-04\n",
      "  1.67731314e-04 1.51769569e-04 1.37326785e-04 1.24258414e-04\n",
      "  1.12433662e-04 1.01734185e-04 9.20528968e-05 8.32929055e-05\n",
      "  7.53665375e-05 6.81944632e-05 6.17049020e-05 5.58329042e-05\n",
      "  5.05197009e-05 4.57121157e-05 4.13620328e-05 3.74259149e-05\n",
      "  3.38643682e-05 3.06417475e-05 2.77257997e-05 2.50873410e-05\n",
      "  2.26999649e-05]]\n"
     ]
    }
   ],
   "source": [
    "B = np.loadtxt('allpythondata.txt')\n",
    "print(B)"
   ]
  },
  {
   "cell_type": "markdown",
   "metadata": {},
   "source": [
    "What is the dimension of the variable $B$? Type the correct command to display the number of rows and the number of columns of the variable $B$."
   ]
  },
  {
   "cell_type": "code",
   "execution_count": 29,
   "metadata": {},
   "outputs": [
    {
     "name": "stdout",
     "output_type": "stream",
     "text": [
      "5\n",
      "101\n"
     ]
    }
   ],
   "source": [
    "print(np.size(B,0))\n",
    "print(np.size(B,1))"
   ]
  },
  {
   "cell_type": "code",
   "execution_count": 31,
   "metadata": {},
   "outputs": [
    {
     "ename": "NameError",
     "evalue": "name 'python3' is not defined",
     "output_type": "error",
     "traceback": [
      "\u001b[0;31m---------------------------------------------------------------------------\u001b[0m",
      "\u001b[0;31mNameError\u001b[0m                                 Traceback (most recent call last)",
      "Input \u001b[0;32mIn [31]\u001b[0m, in \u001b[0;36m<cell line: 1>\u001b[0;34m()\u001b[0m\n\u001b[0;32m----> 1\u001b[0m \u001b[43mpython3\u001b[49m \u001b[38;5;241m-\u001b[39m\u001b[38;5;241m-\u001b[39mversion\n",
      "\u001b[0;31mNameError\u001b[0m: name 'python3' is not defined"
     ]
    }
   ],
   "source": [
    "python3 --version"
   ]
  },
  {
   "cell_type": "code",
   "execution_count": null,
   "metadata": {},
   "outputs": [],
   "source": []
  }
 ],
 "metadata": {
  "kernelspec": {
   "display_name": "Python 3 (ipykernel)",
   "language": "python",
   "name": "python3"
  },
  "language_info": {
   "codemirror_mode": {
    "name": "ipython",
    "version": 3
   },
   "file_extension": ".py",
   "mimetype": "text/x-python",
   "name": "python",
   "nbconvert_exporter": "python",
   "pygments_lexer": "ipython3",
   "version": "3.9.12"
  }
 },
 "nbformat": 4,
 "nbformat_minor": 4
}
