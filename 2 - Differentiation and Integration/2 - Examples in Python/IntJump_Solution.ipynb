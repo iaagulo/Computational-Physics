{
 "cells": [
  {
   "cell_type": "markdown",
   "metadata": {},
   "source": [
    "# Analyzing Jump Forces\n",
    "In this machine problem, you are going to be given two sets of data, which you need to analyze. The data were both obtained from measuring the normal and parallel forces involved in a jump. These forces were measured by a force plate as shown in the video. Both data measured force vs time.<br><br>\n",
    "Your task is to integrate a select portion of the plot and interpret what the resulting value is and what it represents. "
   ]
  },
  {
   "cell_type": "markdown",
   "metadata": {},
   "source": [
    "### TASK 1. Import the Data Sets\n",
    "In the field below, import the normal force data to the variable $Fn$."
   ]
  },
  {
   "cell_type": "code",
   "execution_count": 27,
   "metadata": {},
   "outputs": [],
   "source": [
    "import numpy as np\n",
    "Fn = np.loadtxt('normal.txt')"
   ]
  },
  {
   "cell_type": "markdown",
   "metadata": {},
   "source": [
    "Display and verify the data saved in the variable $Fn$."
   ]
  },
  {
   "cell_type": "code",
   "execution_count": 28,
   "metadata": {},
   "outputs": [
    {
     "name": "stdout",
     "output_type": "stream",
     "text": [
      "[[ 0.0000000e+00 -1.3857400e+01]\n",
      " [ 1.0000000e-01 -1.5084500e+01]\n",
      " [ 2.0000000e-01 -1.3560600e+01]\n",
      " [ 3.0000000e-01 -1.5931100e+01]\n",
      " [ 4.0000000e-01 -1.7536600e+01]\n",
      " [ 5.0000000e-01 -1.3170000e+01]\n",
      " [ 6.0000000e-01 -1.4636100e+01]\n",
      " [ 7.0000000e-01 -1.3256100e+01]\n",
      " [ 8.0000000e-01 -1.4207500e+01]\n",
      " [ 9.0000000e-01 -1.3970200e+01]\n",
      " [ 1.0000000e+00 -1.1897500e+01]\n",
      " [ 1.1000000e+00 -1.7199600e+01]\n",
      " [ 1.2000000e+00 -1.3857000e+01]\n",
      " [ 1.3000000e+00 -1.1714200e+01]\n",
      " [ 1.4000000e+00 -1.7390000e+01]\n",
      " [ 1.5000000e+00 -1.7015700e+01]\n",
      " [ 1.6000000e+00 -2.1138400e+01]\n",
      " [ 1.7000000e+00 -1.8931500e+01]\n",
      " [ 1.8000000e+00 -2.3312900e+01]\n",
      " [ 1.9000000e+00 -4.0659800e+01]\n",
      " [ 2.0000000e+00 -5.5005600e+01]\n",
      " [ 2.1000000e+00 -5.8214200e+01]\n",
      " [ 2.2000000e+00 -7.0137900e+01]\n",
      " [ 2.3000000e+00 -6.3229000e+01]\n",
      " [ 2.4000000e+00 -3.3142500e+01]\n",
      " [ 2.5000000e+00 -1.3472400e+01]\n",
      " [ 2.6000000e+00  3.5781400e+01]\n",
      " [ 2.7000000e+00  9.3016800e+01]\n",
      " [ 2.8000000e+00  2.2765840e+02]\n",
      " [ 2.9000000e+00  3.6161030e+02]\n",
      " [ 3.0000000e+00  1.2556697e+03]\n",
      " [ 3.1000000e+00 -8.0471740e+02]\n",
      " [ 3.2000000e+00 -8.2554320e+02]\n",
      " [ 3.3000000e+00 -8.2540990e+02]\n",
      " [ 3.4000000e+00 -8.2540990e+02]\n",
      " [ 3.5000000e+00 -2.5055820e+02]\n",
      " [ 3.6000000e+00  7.7562660e+02]\n",
      " [ 3.7000000e+00  1.8381460e+02]\n",
      " [ 3.8000000e+00  1.0028500e+02]\n",
      " [ 3.9000000e+00 -1.3575300e+01]\n",
      " [ 4.0000000e+00 -1.3917510e+02]\n",
      " [ 4.1000000e+00 -1.2971360e+02]\n",
      " [ 4.2000000e+00 -3.2753500e+01]\n",
      " [ 4.3000000e+00 -4.0860800e+01]\n",
      " [ 4.4000000e+00  1.4411600e+01]\n",
      " [ 4.5000000e+00 -2.2702700e+01]\n",
      " [ 4.6000000e+00 -2.5436400e+01]\n",
      " [ 4.7000000e+00 -4.7186900e+01]\n",
      " [ 4.8000000e+00 -6.7645000e+00]\n",
      " [ 4.9000000e+00 -1.3621200e+01]\n",
      " [ 5.0000000e+00 -1.9737900e+01]\n",
      " [ 5.1000000e+00 -8.9510000e+00]\n",
      " [ 5.2000000e+00 -1.8258900e+01]\n",
      " [ 5.3000000e+00 -1.8651200e+01]\n",
      " [ 5.4000000e+00 -2.2135000e+01]\n",
      " [ 5.5000000e+00 -1.3775300e+01]\n",
      " [ 5.6000000e+00 -1.7223400e+01]\n",
      " [ 5.7000000e+00 -1.4176100e+01]\n",
      " [ 5.8000000e+00 -1.6042200e+01]\n",
      " [ 5.9000000e+00 -1.4677400e+01]\n",
      " [ 6.0000000e+00 -1.6870200e+01]\n",
      " [ 6.1000000e+00 -1.7201800e+01]\n",
      " [ 6.2000000e+00 -1.6824500e+01]\n",
      " [ 6.3000000e+00 -1.9014300e+01]\n",
      " [ 6.4000000e+00 -1.3454700e+01]\n",
      " [ 6.5000000e+00 -1.3761200e+01]\n",
      " [ 6.6000000e+00 -1.6823800e+01]\n",
      " [ 6.7000000e+00 -1.5417500e+01]\n",
      " [ 6.8000000e+00 -1.6342600e+01]\n",
      " [ 6.9000000e+00 -1.6375400e+01]\n",
      " [ 7.0000000e+00 -1.7080700e+01]\n",
      " [ 7.1000000e+00 -1.4850300e+01]\n",
      " [ 7.2000000e+00 -1.6886300e+01]\n",
      " [ 7.3000000e+00 -1.5974400e+01]\n",
      " [ 7.4000000e+00 -1.5752100e+01]\n",
      " [ 7.5000000e+00 -1.5616600e+01]\n",
      " [ 7.6000000e+00 -1.5627700e+01]\n",
      " [ 7.7000000e+00 -1.6487200e+01]\n",
      " [ 7.8000000e+00 -1.5985700e+01]\n",
      " [ 7.9000000e+00 -1.6648900e+01]\n",
      " [ 8.0000000e+00 -1.5336600e+01]\n",
      " [ 8.1000000e+00 -1.4349300e+01]\n",
      " [ 8.2000000e+00 -1.6234500e+01]\n",
      " [ 8.3000000e+00 -1.7717600e+01]\n",
      " [ 8.4000000e+00 -1.7713600e+01]\n",
      " [ 8.5000000e+00 -2.1646400e+01]\n",
      " [ 8.6000000e+00 -2.4980900e+01]\n",
      " [ 8.7000000e+00 -1.7632800e+01]\n",
      " [ 8.8000000e+00 -4.8434700e+01]\n",
      " [ 8.9000000e+00 -1.4405780e+02]\n",
      " [ 9.0000000e+00 -2.3183400e+02]\n",
      " [ 9.1000000e+00 -4.9894700e+01]\n",
      " [ 9.2000000e+00  4.8001700e+01]\n",
      " [ 9.3000000e+00  1.7805510e+02]\n",
      " [ 9.4000000e+00  3.8787110e+02]\n",
      " [ 9.5000000e+00  7.6722770e+02]\n",
      " [ 9.6000000e+00  7.2333090e+02]\n",
      " [ 9.7000000e+00 -8.2479320e+02]\n",
      " [ 9.8000000e+00 -8.2593440e+02]\n",
      " [ 9.9000000e+00 -8.2587760e+02]\n",
      " [ 1.0000000e+01 -8.2582090e+02]\n",
      " [ 1.0100000e+01  7.7724940e+02]\n",
      " [ 1.0200000e+01  8.9998240e+02]\n",
      " [ 1.0300000e+01  1.0415400e+02]\n",
      " [ 1.0400000e+01 -2.0190030e+02]\n",
      " [ 1.0500000e+01 -1.2439830e+02]\n",
      " [ 1.0600000e+01  1.9847000e+00]\n",
      " [ 1.0700000e+01 -3.8304100e+01]\n",
      " [ 1.0800000e+01 -1.4791500e+01]\n",
      " [ 1.0900000e+01 -2.0833800e+01]\n",
      " [ 1.1000000e+01 -1.6794300e+01]\n",
      " [ 1.1100000e+01 -1.8445100e+01]\n",
      " [ 1.1200000e+01 -3.9897000e+00]\n",
      " [ 1.1300000e+01 -8.9985000e+00]\n",
      " [ 1.1400000e+01 -7.5495000e+00]\n",
      " [ 1.1500000e+01 -1.0807400e+01]\n",
      " [ 1.1600000e+01 -7.3724000e+00]\n",
      " [ 1.1700000e+01 -1.4732000e+01]\n",
      " [ 1.1800000e+01 -1.3542100e+01]\n",
      " [ 1.1900000e+01 -1.4498500e+01]\n",
      " [ 1.2000000e+01 -1.2464800e+01]\n",
      " [ 1.2100000e+01 -8.4875000e+00]\n",
      " [ 1.2200000e+01 -1.2156400e+01]\n",
      " [ 1.2300000e+01 -1.0460700e+01]\n",
      " [ 1.2400000e+01 -9.2168000e+00]\n",
      " [ 1.2500000e+01 -8.6999000e+00]\n",
      " [ 1.2600000e+01 -1.0394100e+01]\n",
      " [ 1.2700000e+01 -1.0791800e+01]\n",
      " [ 1.2800000e+01 -1.1594500e+01]\n",
      " [ 1.2900000e+01 -1.3538700e+01]\n",
      " [ 1.3000000e+01 -1.0587600e+01]\n",
      " [ 1.3100000e+01 -2.5653100e+01]\n",
      " [ 1.3200000e+01 -5.6902200e+01]\n",
      " [ 1.3300000e+01 -8.7445300e+01]\n",
      " [ 1.3400000e+01 -1.6329430e+02]\n",
      " [ 1.3500000e+01 -1.1851750e+02]\n",
      " [ 1.3600000e+01 -3.2313200e+01]\n",
      " [ 1.3700000e+01  3.4505200e+01]\n",
      " [ 1.3800000e+01  1.4387040e+02]\n",
      " [ 1.3900000e+01  3.9838420e+02]\n",
      " [ 1.4000000e+01  4.7057600e+02]\n",
      " [ 1.4100000e+01  1.2501614e+03]\n",
      " [ 1.4200000e+01 -7.9084780e+02]\n",
      " [ 1.4300000e+01 -8.1977260e+02]\n",
      " [ 1.4400000e+01 -8.2001090e+02]\n",
      " [ 1.4500000e+01 -8.1966250e+02]\n",
      " [ 1.4600000e+01 -8.1939510e+02]\n",
      " [ 1.4700000e+01  1.6657294e+03]\n",
      " [ 1.4800000e+01  3.3146850e+02]\n",
      " [ 1.4900000e+01 -1.7550300e+02]\n",
      " [ 1.5000000e+01 -7.0526400e+01]\n",
      " [ 1.5100000e+01 -6.0879800e+01]\n",
      " [ 1.5200000e+01 -2.4184500e+01]\n",
      " [ 1.5300000e+01 -2.6027900e+01]\n",
      " [ 1.5400000e+01 -2.1580500e+01]\n",
      " [ 1.5500000e+01 -7.9771000e+00]\n",
      " [ 1.5600000e+01 -7.7305000e+00]\n",
      " [ 1.5700000e+01 -1.1156300e+01]\n",
      " [ 1.5800000e+01 -8.6891000e+00]\n",
      " [ 1.5900000e+01 -1.0963700e+01]\n",
      " [ 1.6000000e+01 -1.4445300e+01]\n",
      " [ 1.6100000e+01 -8.1251000e+00]\n",
      " [ 1.6200000e+01 -1.1798900e+01]\n",
      " [ 1.6300000e+01 -1.4518700e+01]\n",
      " [ 1.6400000e+01 -1.3397000e+01]\n",
      " [ 1.6500000e+01 -8.6207000e+00]\n",
      " [ 1.6600000e+01 -7.1948000e+00]\n",
      " [ 1.6700000e+01 -1.2443500e+01]\n",
      " [ 1.6800000e+01 -1.0457700e+01]\n",
      " [ 1.6900000e+01 -8.3806000e+00]\n",
      " [ 1.7000000e+01 -6.0536000e+00]\n",
      " [ 1.7100000e+01 -9.8920000e+00]\n",
      " [ 1.7200000e+01 -1.3150700e+01]\n",
      " [ 1.7300000e+01 -6.0573000e+00]\n",
      " [ 1.7400000e+01 -1.6196600e+01]\n",
      " [ 1.7500000e+01 -1.0525900e+01]]\n"
     ]
    }
   ],
   "source": [
    "print(Fn)"
   ]
  },
  {
   "cell_type": "markdown",
   "metadata": {},
   "source": [
    "Assign the first column of the variable $Fn$, i.e. the time data, and the second column of the variable $Fn$, i.e., the normal force data, to the variables $tn$ and $fn$, respectively."
   ]
  },
  {
   "cell_type": "code",
   "execution_count": 29,
   "metadata": {},
   "outputs": [],
   "source": [
    "tn = Fn[:,0]\n",
    "fn = Fn[:,1]"
   ]
  },
  {
   "cell_type": "markdown",
   "metadata": {},
   "source": [
    "Import the parallel force data to the variable $Fp$. Assign the first column of the variable $Fp$, i.e. the time data, and the second column of the variable $Fp$, i.e., the normal force data, to the variables $tp$ and $Fp$, respectively."
   ]
  },
  {
   "cell_type": "code",
   "execution_count": 30,
   "metadata": {},
   "outputs": [],
   "source": [
    "Fp = np.loadtxt('parallel.txt')\n",
    "tp = Fp[:,0]\n",
    "fp = Fp[:,1]"
   ]
  },
  {
   "cell_type": "markdown",
   "metadata": {},
   "source": [
    "### TASK 2. Plot the data set in one graph\n",
    "You are now going to plot the data in one graph. This means that you will need to use the $subplot()$ command from the $matplotlib.pyplot$ module. Make a graph that has two rows and column of plots. <br><br>\n",
    "In the top row, plot the normal force vs time. In the bottom row, plot the parallel force vs time. Use black circles and solid lines as markers. Add titles and label the x- and y-axes. You may choose the font sizes. The unit of time is milliseconds. So, all of these are happening in a fraction of a second."
   ]
  },
  {
   "cell_type": "code",
   "execution_count": 31,
   "metadata": {},
   "outputs": [
    {
     "data": {
      "image/png": "[encoded data removed]",
      "text/plain": [
       "<Figure size 432x288 with 2 Axes>"
      ]
     },
     "metadata": {
      "needs_background": "light"
     },
     "output_type": "display_data"
    }
   ],
   "source": [
    "import matplotlib.pyplot as plt\n",
    "figure, axes = plt.subplots(nrows=2, ncols=1)\n",
    "plt.subplot(211)\n",
    "plt.plot(tn,fn,'ko-')\n",
    "plt.title('Normal force of a jump as a function of time', fontsize=15)\n",
    "plt.xlabel('Time (milliseconds)', fontsize=15)\n",
    "plt.ylabel('Normal force (Newtons)', fontsize=15)\n",
    "plt.subplot(212)\n",
    "plt.plot(tp,fp,'ko-')\n",
    "plt.title('Parallel force of a jump as a function of time', fontsize=15)\n",
    "plt.xlabel('Time (milliseconds)', fontsize=15)\n",
    "plt.ylabel('Normal force (Newtons)', fontsize=15)\n",
    "figure.tight_layout(pad=0.1)"
   ]
  },
  {
   "cell_type": "markdown",
   "metadata": {},
   "source": [
    "### TASK 3. Input the limits of integration\n",
    "In this task, you are going to ask the user to input the limits of integration. Assign the variables $lowerlim$ and $upperlim$ to be the lower and upper limits of integration. Obviously, since this is going to be an integral with respect to time, then the lower and upper limits of integration must be time units and in increments of 0.1 seconds.<br><br>\n",
    "Using the $input()$ command, use the prompt \"Input the lower limit of integration: \" to ask the user for the lower limit and assign the value to the variable $lowerlim$."
   ]
  },
  {
   "cell_type": "code",
   "execution_count": 32,
   "metadata": {},
   "outputs": [
    {
     "name": "stdout",
     "output_type": "stream",
     "text": [
      "Input lower limit of integration: 8\n"
     ]
    }
   ],
   "source": [
    "lowerlim = input('Input lower limit of integration: ')"
   ]
  },
  {
   "cell_type": "markdown",
   "metadata": {},
   "source": [
    "Using the $input()$ command, use the prompt \"Input the upper limit of integration: \" to ask the user for the upper limit and assign the value to the variable $upperlim$."
   ]
  },
  {
   "cell_type": "code",
   "execution_count": 33,
   "metadata": {},
   "outputs": [
    {
     "name": "stdout",
     "output_type": "stream",
     "text": [
      "Upper lower limit of integration: 12\n"
     ]
    }
   ],
   "source": [
    "upperlim = input('Upper lower limit of integration: ')"
   ]
  },
  {
   "cell_type": "markdown",
   "metadata": {},
   "source": [
    "The $input()$ command accepts a $string$, by default. You need to convert the variables $lowerlim$ and $upperlim$ to a floating point number by using the $float()$ command when you compare this to $tn$. Do this in the field below and assign the output to the same variables, $lowerlim$ and $upperlim$, respectively."
   ]
  },
  {
   "cell_type": "code",
   "execution_count": 34,
   "metadata": {},
   "outputs": [],
   "source": [
    "lowerlim = float(lowerlim)\n",
    "upperlim = float(upperlim)"
   ]
  },
  {
   "cell_type": "markdown",
   "metadata": {},
   "source": [
    "### TASK 4. Find the index corresponding to the limits of integration\n",
    "Since the numerical input will be a time variable, then in order to find the corresponding force, we need to find the corresponding index of the time.<br><br>\n",
    "Use the $where()$ command to find the index corresponding to when $tn$ is equal to the value of the $lowerlim$. Assign this index to the variable $lowerval$."
   ]
  },
  {
   "cell_type": "code",
   "execution_count": 35,
   "metadata": {},
   "outputs": [],
   "source": [
    "lowerval = np.where(tn == lowerlim)"
   ]
  },
  {
   "cell_type": "markdown",
   "metadata": {},
   "source": [
    "Again, use the $where()$ command to find the index corresponding to when $tn$ is equal to the value of the $upperlim$. Assign this index to the variable $upperval$."
   ]
  },
  {
   "cell_type": "code",
   "execution_count": 36,
   "metadata": {},
   "outputs": [],
   "source": [
    "upperval = np.where(tn == upperlim)"
   ]
  },
  {
   "cell_type": "markdown",
   "metadata": {},
   "source": [
    "There is no need to determine the indices corresponding to the variable $tp$, because both normal and parallel forces were measured simultaneously.<br><br>\n",
    "At this point, the variables $lowerval$ and $upperval$ are tuples. You need to convert them to integers so that you can use them in the $plot()$ function later on. Since, these variables are single element tuples, then you all you need to do is to simply assign the first element of the tuple to the same variable using the $int()$, as shown, for $lowerval$."
   ]
  },
  {
   "cell_type": "code",
   "execution_count": 37,
   "metadata": {},
   "outputs": [],
   "source": [
    "lowerval = int(lowerval[0])"
   ]
  },
  {
   "cell_type": "markdown",
   "metadata": {},
   "source": [
    "Do the same for $upperval$."
   ]
  },
  {
   "cell_type": "code",
   "execution_count": 38,
   "metadata": {},
   "outputs": [],
   "source": [
    "upperval = int(upperval[0])"
   ]
  },
  {
   "cell_type": "markdown",
   "metadata": {},
   "source": [
    "Display the values of the normal forces corresponding to the inputted times. "
   ]
  },
  {
   "cell_type": "code",
   "execution_count": 39,
   "metadata": {},
   "outputs": [
    {
     "name": "stdout",
     "output_type": "stream",
     "text": [
      "-15.3366\n",
      "-12.4648\n"
     ]
    }
   ],
   "source": [
    "print(fn[lowerval])\n",
    "print(fn[upperval])"
   ]
  },
  {
   "cell_type": "markdown",
   "metadata": {},
   "source": [
    "Display the values of the parallel forces corresponding to the inputted times. "
   ]
  },
  {
   "cell_type": "code",
   "execution_count": 40,
   "metadata": {},
   "outputs": [
    {
     "name": "stdout",
     "output_type": "stream",
     "text": [
      "-0.7406\n",
      "-0.7406\n"
     ]
    }
   ],
   "source": [
    "print(fp[lowerval])\n",
    "print(fp[upperval])"
   ]
  },
  {
   "cell_type": "markdown",
   "metadata": {},
   "source": [
    "### TASK 5. Replot both graphs to cover only the limits of integration\n",
    "You are now going to replot the data in one graph showing only the time limits of integration. Using the $subplot()$ command, make a graph that has two rows and column of plots.<br><br>\n",
    "In the top row, plot the normal force vs time. In the bottow row, plot the parallel force vs time. Use black circles and solid lines as markers. Add titles and label the x- and y-axes. You may choose the font sizes."
   ]
  },
  {
   "cell_type": "code",
   "execution_count": 41,
   "metadata": {},
   "outputs": [
    {
     "data": {
      "image/png": "[encoded data removed]",
      "text/plain": [
       "<Figure size 432x288 with 2 Axes>"
      ]
     },
     "metadata": {
      "needs_background": "light"
     },
     "output_type": "display_data"
    }
   ],
   "source": [
    "figure, axes = plt.subplots(nrows=2, ncols=1)\n",
    "plt.subplot(211)\n",
    "plt.plot(tn[lowerval:upperval],fn[lowerval:upperval],'ko-')\n",
    "plt.title('Normal force of a jump as a function of time', fontsize=15)\n",
    "plt.xlabel('Time (milliseconds)', fontsize=15)\n",
    "plt.ylabel('Normal force (Newtons)', fontsize=15)\n",
    "plt.subplot(212)\n",
    "plt.plot(tp[lowerval:upperval],fp[lowerval:upperval],'ko-')\n",
    "plt.title('Parallel force of a jump as a function of time', fontsize=15)\n",
    "plt.xlabel('Time (milliseconds)', fontsize=15)\n",
    "plt.ylabel('Normal force (Newtons)', fontsize=15)\n",
    "figure.tight_layout(pad=0.1)"
   ]
  },
  {
   "cell_type": "markdown",
   "metadata": {},
   "source": [
    "### TASK 6. Implementing Simpson's 1/3 rule\n",
    "Use Simpson's 1/3 rule to solve for the integral of the normal force vs time curve over the selected limits of integration.<br><br>\n",
    "Simpson's 1/3 rule is written as<br><br>\n",
    "$I = 2h \\frac{f(x_0) + 4f(x_1) + f(x_2)}{6} + 2h \\frac{f(x_2) + 4f(x_3) + f(x_4)}{6} + ... + 2h \\frac{f(x_{n-2}) + 4f(x_{n-1}) + f(x_n)}{6}$\n",
    "<br><br>or<br><br>\n",
    "$I = 2h \\frac{f(x_0) + \\displaystyle4\\sum_{j=1,3,5,...}^{n-1} f(x_i) + 2\\displaystyle\\sum_{j=2,4,6,...}^{n-2} f(x_j) + f(x_n)}{6}$\n",
    "<br><br>Immediately from the first equation, we see that it's going to be a problem, if there are even number of data points. Thus, your code must be able to take into account both even and odd number of data points. If the number of data points is even, consider summing only $n-1$ data points with the Simpson's 1/3 rule. Then when everything is summed up, just add the  data point to the sum. \n",
    "<br><br>Create a function called $mysimpsons()$ that implements Simpson's 1/3 rule. This function must take in as its first argument the mathematical function that will be integrated and the step size of the x-data set. In the field below, type down the correct commands that use your MATLAB function to solve for the integral of the normal force vs time curve and the parallel force vs time curve over the selected limits of integration determined from Task 3. Assign their respective output values to the variables $fnor$ and $fpar$, and display them."
   ]
  },
  {
   "cell_type": "code",
   "execution_count": 53,
   "metadata": {
    "scrolled": true
   },
   "outputs": [
    {
     "name": "stdout",
     "output_type": "stream",
     "text": [
      "-325.8023999999998\n",
      "-182.17989999999992\n",
      "-2.22383253\n",
      "-12.343400000000004\n",
      "-56.54827000000004\n",
      "-1.171521004\n"
     ]
    }
   ],
   "source": [
    "print(sum(fn[lowerval+1:upperval-1:2]))\n",
    "print(sum(fn[lowerval+2:upperval-2:2]))\n",
    "print(sum(fp[lowerval+1:upperval-1:2]))\n",
    "print(sum(fp[lowerval+2:upperval-2:2]))\n",
    "\n",
    "def mysimpsons( data, h ):\n",
    "    tot = 0\n",
    "    m = len(data)%2\n",
    "    if m == 1:\n",
    "        for i in range(0,len(data)-2,2):\n",
    "            tot += data[i]+4*data[i+1]+data[i+2]\n",
    "        out = h*tot/3\n",
    "    else:\n",
    "        for i in range(0,len(data)-3,2):\n",
    "            tot += data[i]+4*data[i+1]+data[i+2]\n",
    "        out = h*(tot + data[len(data)])/3\n",
    "    return out\n",
    "\n",
    "h = 0.1\n",
    "fnor = mysimpsons( fn[lowerval:upperval-1], h )\n",
    "print(fnor)\n",
    "fpar = mysimpsons( fp[lowerval:upperval-1], h )\n",
    "print(fpar)"
   ]
  },
  {
   "cell_type": "markdown",
   "metadata": {},
   "source": [
    "To display the results in a complete sentence, you can do this."
   ]
  },
  {
   "cell_type": "code",
   "execution_count": 26,
   "metadata": {},
   "outputs": [
    {
     "name": "stdout",
     "output_type": "stream",
     "text": [
      "The integrated value of the normal and perpendicular forces with respect to time are -56.55 Newton-seconds and -1.17 Newton-seconds, respectively.\n"
     ]
    }
   ],
   "source": [
    "print('The integrated value of the normal and perpendicular forces with respect to time are ' + str(round(fnor,2)) + ' Newton-seconds and ' + str(round(fpar,2)) + ' Newton-seconds, respectively.')"
   ]
  },
  {
   "cell_type": "markdown",
   "metadata": {},
   "source": [
    "Explain the physical meaning of these numbers."
   ]
  },
  {
   "cell_type": "code",
   "execution_count": 18,
   "metadata": {},
   "outputs": [],
   "source": [
    "# Write your answer here:"
   ]
  },
  {
   "cell_type": "code",
   "execution_count": 32,
   "metadata": {},
   "outputs": [],
   "source": [
    "def mysimpsons( data, h ):\n",
    "    tot = 0\n",
    "    m = len(data)%2\n",
    "    if m == 1:\n",
    "        for i in range(0,len(data)-2,2):\n",
    "            tot += data[i]+4*data[i+1]+data[i+2]\n",
    "        out = h*tot/3\n",
    "    else:\n",
    "        for i in range(0,len(data)-3,2):\n",
    "            tot += data[i]+4*data[i+1]+data[i+2]\n",
    "        out = h*(tot + data[len(data)])/3\n",
    "    return out"
   ]
  },
  {
   "cell_type": "code",
   "execution_count": null,
   "metadata": {},
   "outputs": [],
   "source": []
  }
 ],
 "metadata": {
  "kernelspec": {
   "display_name": "Python 3 (ipykernel)",
   "language": "python",
   "name": "python3"
  },
  "language_info": {
   "codemirror_mode": {
    "name": "ipython",
    "version": 3
   },
   "file_extension": ".py",
   "mimetype": "text/x-python",
   "name": "python",
   "nbconvert_exporter": "python",
   "pygments_lexer": "ipython3",
   "version": "3.9.12"
  }
 },
 "nbformat": 4,
 "nbformat_minor": 4
}
