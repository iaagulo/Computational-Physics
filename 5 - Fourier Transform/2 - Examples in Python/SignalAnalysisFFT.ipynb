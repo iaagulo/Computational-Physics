{
 "cells": [
  {
   "cell_type": "markdown",
   "metadata": {},
   "source": [
    "# Signal Analysis\n",
    "In this machine problem, you are going to learn how to analyze the sinusoidal components of a square wave using the Fast Fourier Transform (FFT). You're also going to learn how to filter sounds and listen to how they sound like. Follow the instructions carefully.\n",
    "<br><br>In the cell below, import all necessary libraries and modules."
   ]
  },
  {
   "cell_type": "code",
   "execution_count": 1,
   "metadata": {},
   "outputs": [
    {
     "name": "stderr",
     "output_type": "stream",
     "text": [
      "/Users/ianagulo/opt/anaconda3/lib/python3.8/site-packages/pydub/utils.py:170: RuntimeWarning: Couldn't find ffmpeg or avconv - defaulting to ffmpeg, but may not work\n",
      "  warn(\"Couldn't find ffmpeg or avconv - defaulting to ffmpeg, but may not work\", RuntimeWarning)\n",
      "/Users/ianagulo/opt/anaconda3/lib/python3.8/site-packages/pydub/utils.py:184: RuntimeWarning: Couldn't find ffplay or avplay - defaulting to ffplay, but may not work\n",
      "  warn(\"Couldn't find ffplay or avplay - defaulting to ffplay, but may not work\", RuntimeWarning)\n"
     ]
    }
   ],
   "source": [
    "# write all necessar modules below this line\n",
    "\n",
    "\n",
    "# the modules below are necessary for FFT and Inverse FFT\n",
    "# signal processing and recording\n",
    "# do not remove or edit them\n",
    "from scipy.fft import fft, ifft\n",
    "from scipy import signal\n",
    "import pyaudio\n",
    "import wave\n",
    "from pydub import AudioSegment\n",
    "from pydub.playback import play"
   ]
  },
  {
   "cell_type": "markdown",
   "metadata": {},
   "source": [
    "### TASK 1. The sound of many sinusoidal waves\n",
    "Assign the frequencies of the two notes $A_4$ and $E_5$ to the variables $fa4$ and $fe5$, respectively. Assign the corresponding periods to the variables $Ta4$ and $Te5$, respectively. Assign the sampling frequency of  $13.2$ $kHz$ to the variable $Fs$."
   ]
  },
  {
   "cell_type": "code",
   "execution_count": null,
   "metadata": {},
   "outputs": [],
   "source": []
  },
  {
   "cell_type": "markdown",
   "metadata": {},
   "source": [
    "Create the sinusoidal functions corresponding to these two notes and assign them to the variables $ya4$ and $ye5$, respectively. Use a total time of 3 seconds. The time step size will depend on the sampling rate, $Fs$. For $ye5$, add a phase shift of $+ \\pi /4$. Add both signals and assign the sum to the variable $y$. Plot all three signals in one graph. Use a blue solid line for $ya4$, a red solid line for $ye5$, and a black solid line for $y$. Use linewidths of 3 units for all lines. Add appropriate x- and y-labels. You may need to limit the x-axis range to two periods ($Ta4$ or $Te5$) in order to see the graphs clearly."
   ]
  },
  {
   "cell_type": "code",
   "execution_count": null,
   "metadata": {},
   "outputs": [],
   "source": []
  },
  {
   "cell_type": "markdown",
   "metadata": {},
   "source": [
    "Let's listen to their individual signals. Use the $play()$ function from the $sounddevice$ module to listen to all these three notes, one at a time. In the next cell, type the command to play the note $A_4$ that you created. Run that cell."
   ]
  },
  {
   "cell_type": "code",
   "execution_count": null,
   "metadata": {},
   "outputs": [],
   "source": []
  },
  {
   "cell_type": "markdown",
   "metadata": {},
   "source": [
    "In the cell below, type the command to play the note  $E_5$that you created. Run that cell."
   ]
  },
  {
   "cell_type": "code",
   "execution_count": null,
   "metadata": {},
   "outputs": [],
   "source": []
  },
  {
   "cell_type": "markdown",
   "metadata": {},
   "source": [
    "In the cell below, type the command to play the sum of the two notes that you created. Run that cell."
   ]
  },
  {
   "cell_type": "code",
   "execution_count": null,
   "metadata": {},
   "outputs": [],
   "source": []
  },
  {
   "cell_type": "markdown",
   "metadata": {},
   "source": [
    "Let's check if these sounds are indeed playing at the correct frequency. To do this, we need to get their corresponding Fourier transforms using the $fft()$ function from the $scipy.fft$ module. Use this function to determine the Fourier transforms of the three notes we are studying. Type all these three commands in the cell below. Assign the $fft$s of these three notes in the variables $a4fft$, $e5fft$, and $yfft$."
   ]
  },
  {
   "cell_type": "code",
   "execution_count": null,
   "metadata": {},
   "outputs": [],
   "source": []
  },
  {
   "cell_type": "markdown",
   "metadata": {},
   "source": [
    "What you've just done is to solve for the fourier transforms of the amplitudes of the signals. You also need to convert the time variable to frequency variable.<br><br>\n",
    "First, determine the length of the signal. Since these variables all have the same lengths, then you may use a single variable $L$ to assign the lengths of any of these signals."
   ]
  },
  {
   "cell_type": "code",
   "execution_count": null,
   "metadata": {},
   "outputs": [],
   "source": []
  },
  {
   "cell_type": "markdown",
   "metadata": {},
   "source": [
    "Next, reassign the variable $a4fft$ such that only the first half of the elements are included. Remember that matrix indices can only be integers. The function $ceil()$ from the $math$ module might be helpful in this case."
   ]
  },
  {
   "cell_type": "code",
   "execution_count": null,
   "metadata": {},
   "outputs": [],
   "source": []
  },
  {
   "cell_type": "markdown",
   "metadata": {},
   "source": [
    "To determine the frequency, create an array from 0 that is half the length $L$, multiply that array by the sampling frequency, and then divide everything by the length, $L$, assign this frequency array to the variable $f$."
   ]
  },
  {
   "cell_type": "code",
   "execution_count": null,
   "metadata": {},
   "outputs": [],
   "source": []
  },
  {
   "cell_type": "markdown",
   "metadata": {},
   "source": [
    "Plot the absolute value of the absolute value of the amplitude of $a4fft$ versus the frequency, $f$. Limit the display of the frequency axis to 1 kHz. "
   ]
  },
  {
   "cell_type": "code",
   "execution_count": null,
   "metadata": {},
   "outputs": [],
   "source": []
  },
  {
   "cell_type": "markdown",
   "metadata": {},
   "source": [
    "Is the frequency corresponding to the note $A_4$ correct?"
   ]
  },
  {
   "cell_type": "code",
   "execution_count": 2,
   "metadata": {},
   "outputs": [],
   "source": [
    "# Write your answer here"
   ]
  },
  {
   "cell_type": "markdown",
   "metadata": {},
   "source": [
    "It will be inconvenient to retype all of these steps every time for each function we want to take the fourier transform of. It would be better if we can create a function that takes in as input the function we want to evaluate and the sampling frequency and then outputs the frequency and the transformed function.<br><br>\n",
    "Create a function named $myfft()$ that does exactly this task."
   ]
  },
  {
   "cell_type": "code",
   "execution_count": null,
   "metadata": {},
   "outputs": [],
   "source": []
  },
  {
   "cell_type": "markdown",
   "metadata": {},
   "source": [
    "Test this function on the variables $ya4$, $ye4$ and $y$. We are going to assign their outputs to $a4f, a4fft, $e5f, e5fft$, and $f, yfft$. This has already been done below."
   ]
  },
  {
   "cell_type": "code",
   "execution_count": null,
   "metadata": {},
   "outputs": [],
   "source": []
  },
  {
   "cell_type": "markdown",
   "metadata": {},
   "source": [
    "Plot these three variables in one graph. To be able to differentiate between the data, use a blue asterisk marker for $A_4$, a red cross marker for $E_5$, with marker sizes of 7 units, and a black solid line with a line width of 3 units for the sum of these notes. Add appropriate x- and y-labels. Remember to plot the absolute value of the amplitude."
   ]
  },
  {
   "cell_type": "code",
   "execution_count": null,
   "metadata": {},
   "outputs": [],
   "source": []
  },
  {
   "cell_type": "markdown",
   "metadata": {},
   "source": [
    "Now, you know how to do a numerical Fourier transform!"
   ]
  },
  {
   "cell_type": "markdown",
   "metadata": {},
   "source": [
    "### TASK 2. The sound of a square wave\n",
    "Let's create a square wave with unity amplitude. This has already been done for you. Just run this section. Notice that I used the frequency corresponding to the note $A_4$."
   ]
  },
  {
   "cell_type": "code",
   "execution_count": 3,
   "metadata": {},
   "outputs": [
    {
     "ename": "NameError",
     "evalue": "name 'np' is not defined",
     "output_type": "error",
     "traceback": [
      "\u001b[0;31m---------------------------------------------------------------------------\u001b[0m",
      "\u001b[0;31mNameError\u001b[0m                                 Traceback (most recent call last)",
      "\u001b[0;32m<ipython-input-3-5192bd4d1534>\u001b[0m in \u001b[0;36m<module>\u001b[0;34m\u001b[0m\n\u001b[1;32m      1\u001b[0m \u001b[0;31m# DO NOT CHANGE ANYTHING IN THIS FIELD\u001b[0m\u001b[0;34m\u001b[0m\u001b[0;34m\u001b[0m\u001b[0;34m\u001b[0m\u001b[0m\n\u001b[0;32m----> 2\u001b[0;31m \u001b[0mysquare\u001b[0m \u001b[0;34m=\u001b[0m \u001b[0mnp\u001b[0m\u001b[0;34m.\u001b[0m\u001b[0mzeros\u001b[0m\u001b[0;34m(\u001b[0m\u001b[0mnp\u001b[0m\u001b[0;34m.\u001b[0m\u001b[0msize\u001b[0m\u001b[0;34m(\u001b[0m\u001b[0mt\u001b[0m\u001b[0;34m)\u001b[0m\u001b[0;34m)\u001b[0m\u001b[0;34m\u001b[0m\u001b[0;34m\u001b[0m\u001b[0m\n\u001b[0m\u001b[1;32m      3\u001b[0m \u001b[0mysquare\u001b[0m \u001b[0;34m=\u001b[0m \u001b[0msignal\u001b[0m\u001b[0;34m.\u001b[0m\u001b[0msquare\u001b[0m\u001b[0;34m(\u001b[0m\u001b[0;36m2\u001b[0m\u001b[0;34m*\u001b[0m\u001b[0mmath\u001b[0m\u001b[0;34m.\u001b[0m\u001b[0mpi\u001b[0m\u001b[0;34m*\u001b[0m\u001b[0mfa4\u001b[0m\u001b[0;34m*\u001b[0m\u001b[0mt\u001b[0m\u001b[0;34m)\u001b[0m\u001b[0;34m\u001b[0m\u001b[0;34m\u001b[0m\u001b[0m\n\u001b[1;32m      4\u001b[0m \u001b[0mplt\u001b[0m\u001b[0;34m.\u001b[0m\u001b[0mplot\u001b[0m\u001b[0;34m(\u001b[0m\u001b[0mt\u001b[0m\u001b[0;34m,\u001b[0m\u001b[0mysquare\u001b[0m\u001b[0;34m,\u001b[0m\u001b[0;34m'k'\u001b[0m\u001b[0;34m,\u001b[0m\u001b[0mlinewidth\u001b[0m\u001b[0;34m=\u001b[0m\u001b[0;36m3\u001b[0m\u001b[0;34m)\u001b[0m\u001b[0;34m\u001b[0m\u001b[0;34m\u001b[0m\u001b[0m\n\u001b[1;32m      5\u001b[0m \u001b[0mplt\u001b[0m\u001b[0;34m.\u001b[0m\u001b[0mxlabel\u001b[0m\u001b[0;34m(\u001b[0m\u001b[0;34m\"Time (s)\"\u001b[0m\u001b[0;34m)\u001b[0m\u001b[0;34m\u001b[0m\u001b[0;34m\u001b[0m\u001b[0m\n",
      "\u001b[0;31mNameError\u001b[0m: name 'np' is not defined"
     ]
    }
   ],
   "source": [
    "# DO NOT CHANGE ANYTHING IN THIS FIELD\n",
    "ysquare = np.zeros(np.size(t))\n",
    "ysquare = signal.square(2*math.pi*fa4*t)\n",
    "plt.plot(t,ysquare,'k',linewidth=3)\n",
    "plt.xlabel(\"Time (s)\")\n",
    "plt.ylabel(\"Amplitude\")\n",
    "plt.xlim([0,0.01])"
   ]
  },
  {
   "cell_type": "markdown",
   "metadata": {},
   "source": [
    "Using your $myfft()$ function, perform a Fourier transform on the square function using the same sampling rate, $Fs$. Assign the output frequency and amplitudes to the variables $fsquare$ and $ysquarefft$, respectively. Plot the resulting output using a black line with a linewidth of 3 units. Remember to plot the absolute value of the amplitude. Add x- and y-axes labels."
   ]
  },
  {
   "cell_type": "code",
   "execution_count": null,
   "metadata": {},
   "outputs": [],
   "source": []
  },
  {
   "cell_type": "markdown",
   "metadata": {},
   "source": [
    "On a piece of paper, list down the amplitudes of all visible peaks and their corresponding frequencies. Include only the peaks that are decreasing in amplitude. From lowest to highest frequency, assign the frequencies you listed down in an array named $freq$. Correspondingly, assign the amplitudes you listed down in an array named $A$. Create a new matrix $Anorm$, which is the matrix $A$ normalized by its first element."
   ]
  },
  {
   "cell_type": "code",
   "execution_count": null,
   "metadata": {},
   "outputs": [],
   "source": []
  },
  {
   "cell_type": "markdown",
   "metadata": {},
   "source": [
    "You can rebuild the square function by summing sinusoidal functions using the amplitudes and frequencies you wrote down. The first sinusoidal function has an amplitude and frequency corresponding to the first peak. The second sinusoidal function has an amplitude and frequency corresponding to the second highest peak, and so on. Use a $for$ loop to solve for the sum of these sinusoidal functions. For each iteration, plot the resulting sum in the same graph as the square pulse. You may need to pause each iteration for at least one second so that you will be able to see what is happening. You may also need to limit the x-axis scale to 0.01 seconds. "
   ]
  },
  {
   "cell_type": "code",
   "execution_count": null,
   "metadata": {},
   "outputs": [],
   "source": []
  },
  {
   "cell_type": "markdown",
   "metadata": {},
   "source": [
    "Describe and explain your observation as you sum the sinusoidal functions up."
   ]
  },
  {
   "cell_type": "code",
   "execution_count": null,
   "metadata": {},
   "outputs": [],
   "source": [
    "# Write your answer here"
   ]
  },
  {
   "cell_type": "markdown",
   "metadata": {},
   "source": [
    "To make it interesting, let's add sound. In the same $for$ loop, in each iteration, add the sound of the resulting sinusoidal sum. Add the $sd.play()$ function before the $pause()$ function. Change the duration of the $pause()$ function to $len(ysum)/Fs$. Run this section again.<br><br>\n",
    "Is the sound frequency changing? Explain why or why not? What other changes do you notice?"
   ]
  },
  {
   "cell_type": "code",
   "execution_count": null,
   "metadata": {},
   "outputs": [],
   "source": [
    "# Write your answer here"
   ]
  },
  {
   "cell_type": "markdown",
   "metadata": {},
   "source": [
    "### TASK 3. Signal Filtration\n",
    "In this task, you'll first learn how to make an audiorecording. You'll then apply a filter to the signal and listen to what happens. To be able to listen to the filtered sound, you need to use the Inverse Fast Fourier Transform technique. For the last part of this machine problem, you'll need a working microphone and a good speaker or headset.<br><br>\n",
    "Let's define a new sampling rate. Make the sampling rate, , be equal to 64 kHz. "
   ]
  },
  {
   "cell_type": "code",
   "execution_count": null,
   "metadata": {},
   "outputs": [],
   "source": []
  },
  {
   "cell_type": "raw",
   "metadata": {},
   "source": [
    "Select one line from one of your favorite song lyric.<br><br>\n",
    "We now going to record an audio signal. The commands are already in the field below. When asked, sing or read the lyric you selected. The recording will be for a few seconds. You may change the $record_seconds$, but for the purposes of this MP, don't make it longer than 10 seconds. It will then convert your audio signal to a data file and save it to a file name called 'myPyVoice.txt', plot your audio data, and play back your song lyric. Run this section, when you have read all the instructions and be ready to be recorded."
   ]
  },
  {
   "cell_type": "code",
   "execution_count": null,
   "metadata": {},
   "outputs": [],
   "source": [
    "# the file name output you want to record into\n",
    "# you may also record as mp3 file\n",
    "filename = \"recorded.wav\"\n",
    "# set the chunk size of 1024 samples\n",
    "chunk = 1024\n",
    "# sample format\n",
    "FORMAT = pyaudio.paInt16\n",
    "# mono, change to 2 if you want stereo\n",
    "channels = 1\n",
    "# 44100 samples per second\n",
    "sample_rate = Fs\n",
    "record_seconds = 3\n",
    "# initialize PyAudio object\n",
    "p = pyaudio.PyAudio()\n",
    "# open stream object as input & output\n",
    "stream = p.open(format=FORMAT,\n",
    "                channels=channels,\n",
    "                rate=sample_rate,\n",
    "                input=True,\n",
    "                output=True,\n",
    "                frames_per_buffer=chunk)\n",
    "frames = []\n",
    "print(\"Recording...\")\n",
    "for i in range(int(sample_rate / chunk * record_seconds)):\n",
    "    data = stream.read(chunk)\n",
    "    # if you want to hear your voice while recording\n",
    "    # stream.write(data)\n",
    "    frames.append(data)\n",
    "print(\"Finished recording.\")\n",
    "# stop and close stream\n",
    "stream.stop_stream()\n",
    "stream.close()\n",
    "# terminate pyaudio object\n",
    "p.terminate()\n",
    "# save audio file\n",
    "# open the file in 'write bytes' mode\n",
    "wf = wave.open(filename, \"wb\")\n",
    "# set the channels\n",
    "wf.setnchannels(channels)\n",
    "# set the sample format\n",
    "wf.setsampwidth(p.get_sample_size(FORMAT))\n",
    "# set the sample rate\n",
    "wf.setframerate(sample_rate)\n",
    "# write the frames as bytes\n",
    "wf.writeframes(b\"\".join(frames))\n",
    "# close the file\n",
    "wf.close()\n",
    "\n",
    "# read MP3 file\n",
    "# song = AudioSegment.from_mp3(\"audio_file.mp3\")\n",
    "song = AudioSegment.from_wav(\"recorded.wav\")\n",
    "# you can also read from other formats such as MP4\n",
    "# song = AudioSegment.from_file(\"audio_file.mp4\", \"mp4\")\n",
    "play(song)\n",
    "\n",
    "# rate is just your sampling rate\n",
    "# data is the amplitude of your voice signal\n",
    "# it will have sample_rate*record_seconds data points\n",
    "rate, data = wav.read(\"recorded.wav\")\n",
    "# if you encounter this error\n",
    "# name 'wav' is not defined\n",
    "# copy this whole cell and paste in Spyder\n",
    "# run it from there\n",
    "\n",
    "# since this was recorded for a few seconds\n",
    "# i am going to create a variable time\n",
    "# which will serve as the x-axis of my graph\n",
    "time = np.arange(0,record_seconds,1/(np.size(data)/record_seconds))\n",
    "plt.plot(time,data)\n",
    "plt.show()\n",
    "\n",
    "# storing data set in a file over a single line\n",
    "# np.savetxt('myPyVoice.txt', [time,data])\n",
    "# or you can do this if you want to store\n",
    "# the data in two columns\n",
    "dataset = np.column_stack((time,data))\n",
    "np.savetxt('myPyVoice.txt',dataset)"
   ]
  },
  {
   "cell_type": "markdown",
   "metadata": {},
   "source": [
    "If you're not satisfied with the audio output, you may run this section again. "
   ]
  },
  {
   "cell_type": "code",
   "execution_count": null,
   "metadata": {},
   "outputs": [],
   "source": [
    "# if you encountered the wav error in the previous cell, run this cell. otherwise skip this.\n",
    "temp = np.loadtxt('myPyVoice.txt')\n",
    "time = temp[:,0]\n",
    "data = temp[:,1]\n",
    "plt.plot(time,data,'k')"
   ]
  },
  {
   "cell_type": "markdown",
   "metadata": {},
   "source": [
    "Use your $myfft()$ code to solve for the Fourier transform signal. Use the variables $f$ and $A$ for the frequency and amplitude, respectively, of the signal transform. "
   ]
  },
  {
   "cell_type": "code",
   "execution_count": null,
   "metadata": {},
   "outputs": [],
   "source": []
  },
  {
   "cell_type": "markdown",
   "metadata": {},
   "source": [
    "The code below makes a step function that we will use as a filter."
   ]
  },
  {
   "cell_type": "code",
   "execution_count": null,
   "metadata": {},
   "outputs": [],
   "source": [
    "x = np.zeros(np.size(f))\n",
    "L = len(x)\n",
    "for i in range(int(np.ceil(L/2))):\n",
    "    x[i] = 1.0"
   ]
  },
  {
   "cell_type": "markdown",
   "metadata": {},
   "source": [
    "Multiply $A$ by $x$, and assing the output to the variable $Afilter$.<br><br>"
   ]
  },
  {
   "cell_type": "code",
   "execution_count": null,
   "metadata": {},
   "outputs": [],
   "source": []
  },
  {
   "cell_type": "markdown",
   "metadata": {},
   "source": [
    "Here are a set of instructions, which you will follow. Write down all codes for these instructions in one cell below.<br><br>\n",
    "1. In the upper subplot with 3 rows and 1 column, plot the corresponding result. Display only the frequency range where there is a discernible amplitude. Give this subplot the title \"Unfiltered Signal.\" Add appropriate x- and y-labels.<br><br>\n",
    "2. In the middle subplot, plot the step function. The idea is when you multiply the middle subplot by the upper subplot, the parts of the signal are removed because they are multiplied by zero. Adjust the range of the $for$ loop in the previous cell so that some part of the signal are still retained.<br><br>\n",
    "3. Replace the middle subplot with the plot for $Afilter$ vs $f$. Give this subplot the title \"Filtered Signal.\" Add appropriate x- and y-labels.<br>You will see that the signal has been cut-off or filtered at some frequency. This type of filter is called a low pass filter.<br><br>\n",
    "4. At this point, you are going to perform an Inverse Fourier Transform. To help you a bit, I already made a function called $myifft()$. The first argument is the signal that you want to get the inverse Fourier transform of. The second argument is the frequency scale. The third argument is the sampling rate. This has already been provided for you. You may change a few of the variables as needed.<br><br>"
   ]
  },
  {
   "cell_type": "code",
   "execution_count": null,
   "metadata": {},
   "outputs": [],
   "source": [
    "# DO NOT EDIT THIS PART OF THE CELL\n",
    "def myifft(yfft,f,Fs):\n",
    "    if f(len(yfft)) == Fs/2:\n",
    "        y = ifft([yfft, conj(flipud(yfft[1:len(yfft)]))])\n",
    "    else:\n",
    "        y = ifft([yfft, conj(flipud(yfft[1:len(yfft)]))])\n",
    "    return y\n",
    "\n",
    "# Write down your codes below this line\n",
    "\n",
    "\n",
    "# DO NOT CHANGE ANYTHING BELOW THIS LINE\n",
    "plt.subplot(3,1,3)\n",
    "Ainv = ifft(A)\n",
    "plt.plot(time, data,'k')\n",
    "plt.plot(2*time[1:int(np.ceil(len(time)/2))], Ainv,'r')\n",
    "plt.title(\"Filtered Signal (Red), Unfiltered Signal (Black)\")\n",
    "\n",
    "figure.tight_layout(pad=0.1)"
   ]
  },
  {
   "cell_type": "markdown",
   "metadata": {},
   "source": [
    "Explain why this filter is called a low pass filter."
   ]
  },
  {
   "cell_type": "code",
   "execution_count": null,
   "metadata": {},
   "outputs": [],
   "source": [
    "# Write your answer here"
   ]
  },
  {
   "cell_type": "markdown",
   "metadata": {},
   "source": [
    "Now, let's play the filtered signal."
   ]
  },
  {
   "cell_type": "code",
   "execution_count": null,
   "metadata": {},
   "outputs": [],
   "source": [
    "sd.play(abs(Ainv),Fs)"
   ]
  },
  {
   "cell_type": "markdown",
   "metadata": {},
   "source": [
    "Listen to the unfiltered signal again."
   ]
  },
  {
   "cell_type": "code",
   "execution_count": null,
   "metadata": {},
   "outputs": [],
   "source": [
    "sd.play(abs(data),Fs)"
   ]
  },
  {
   "cell_type": "markdown",
   "metadata": {},
   "source": [
    "Write down your observation(s) and compare between the filtered and unfiltered signal."
   ]
  },
  {
   "cell_type": "code",
   "execution_count": null,
   "metadata": {},
   "outputs": [],
   "source": [
    "# Write down your answer here."
   ]
  }
 ],
 "metadata": {
  "kernelspec": {
   "display_name": "Python 3",
   "language": "python",
   "name": "python3"
  },
  "language_info": {
   "codemirror_mode": {
    "name": "ipython",
    "version": 3
   },
   "file_extension": ".py",
   "mimetype": "text/x-python",
   "name": "python",
   "nbconvert_exporter": "python",
   "pygments_lexer": "ipython3",
   "version": "3.8.8"
  }
 },
 "nbformat": 4,
 "nbformat_minor": 4
}
