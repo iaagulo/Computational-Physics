{
 "cells": [
  {
   "cell_type": "markdown",
   "metadata": {},
   "source": [
    "# Regression and Interpolation\n",
    "In this exercise, we are going to use Python's built-in functions for regression and interpolation. The goal is to determine whether regression or interpolation is the better choice for a given set of data. We are going to revisit two sets of data that you previously used.<br><br>\n",
    "Upload the $current.txt$ data to the Python workspace. Remember that this data has a header, so you need to skip the first row. Its delimiter is also a comma. Assign the time column to the variable $tc$ and the current column to the variable $ic$. Plot this data using black circles as markers. Add figure titles and axes labels."
   ]
  },
  {
   "cell_type": "code",
   "execution_count": 1,
   "metadata": {},
   "outputs": [],
   "source": [
    "import numpy as np\n",
    "import matplotlib.pyplot as plt\n",
    "import time\n",
    "from scipy.interpolate import CubicSpline\n",
    "\n"
   ]
  },
  {
   "cell_type": "markdown",
   "metadata": {},
   "source": [
    "Upload the $normal.txt$ data to the Python workspace. Assign the time column from 1.5 seconds to 5.0 seconds to the variable $tn$ and the corresponding current column to the variable $fn$. This time range corresponds to $i=15$ to $i=50$. Plot this data using black circles and solid lines as markers. Add figure titles and axes labels."
   ]
  },
  {
   "cell_type": "code",
   "execution_count": null,
   "metadata": {},
   "outputs": [],
   "source": []
  },
  {
   "cell_type": "markdown",
   "metadata": {},
   "source": [
    "### TASK 1. Perform Regression on Data Sets\n",
    "For both data sets, perform polynomial regression. To do this, use the $polyfit()$ function. The first two arguments are the x- and y-data set. The third argument is the order of the polynomial. Thus, if we're talking about linear regression, then the third argument should be 1. For now, we let the order be equal to 1. Assign the order to the variable $m$ in the field below."
   ]
  },
  {
   "cell_type": "code",
   "execution_count": null,
   "metadata": {},
   "outputs": [],
   "source": []
  },
  {
   "cell_type": "markdown",
   "metadata": {},
   "source": [
    "The output of the $polyfit()$ function will be the coefficients of the polynomial equation, the first being the slope of the best fit line, while the second is the y-intercept. The polynomial function is given by<br><br>\n",
    "$yfit = B(0)t^m + B(1)t^{m-1} + B(2)t^{m-2} + ... + B(m)$\n",
    "<br><br>where $yfit$ is the fitting function and $B(i)$ are the coefficients of $yfit$ generated from the $polyfit()$ function. Note that the coefficients $B(i)$ have been rewritten  so that it begins with the lowest index number of zero for Python (compare with MATLAB file).<br><br>Use the $polyfit()$ function to determine the coefficients of the $current$ and $normal$ data. Assign the output to the variables $Bc$ and $Bn$, respectively. Remember to use the variable $m$ as the third argument. "
   ]
  },
  {
   "cell_type": "code",
   "execution_count": 4,
   "metadata": {},
   "outputs": [
    {
     "name": "stdout",
     "output_type": "stream",
     "text": [
      "The elapsed time is0.010350942611694336 seconds.\n"
     ]
    }
   ],
   "source": [
    "# We are now going to record the process time for the \n",
    "# regression algorithm. This command begins the time recording.\n",
    "t = time.time()     # DO NOT CHANGE THIS LINE.'\n",
    "\n",
    "# Write your code below this line.\n",
    "\n",
    "\n",
    "\n",
    "# DO NOT WRITE ANY CODE BELOW THIS LINE.\n",
    "\n",
    "# This command marks the time after these process steps above.\n",
    "elapsed = time.time() - t      # DO NOT CHANGE THIS LINE AND THE NEXT LINE.\n",
    "print('The elapsed time is' + str(elapsed) + ' seconds.')  "
   ]
  },
  {
   "cell_type": "markdown",
   "metadata": {},
   "source": [
    "Using the x-data set for current, $tc$, generate a new set of current values from the coefficients obtained from the $polyfit()$. Assign these new data set to the variable $Ic$."
   ]
  },
  {
   "cell_type": "code",
   "execution_count": 5,
   "metadata": {},
   "outputs": [],
   "source": []
  },
  {
   "cell_type": "markdown",
   "metadata": {},
   "source": [
    "Plot the best fit line, $(tc,Ic)$ and compare it in the same plot with the original current data, $(tc,ic)$. Use the same black circles for the current data and a red line, with a linewidth of 3 units, for the best fit line. Add appropriate title and axes labels."
   ]
  },
  {
   "cell_type": "code",
   "execution_count": null,
   "metadata": {},
   "outputs": [],
   "source": []
  },
  {
   "cell_type": "markdown",
   "metadata": {},
   "source": [
    "Using the x-data set for current, $tn$, generate a new set of current values from the coefficients obtained from the $polyfit()$. Assign these new data set to the variable $Fn$."
   ]
  },
  {
   "cell_type": "code",
   "execution_count": null,
   "metadata": {},
   "outputs": [],
   "source": []
  },
  {
   "cell_type": "markdown",
   "metadata": {},
   "source": [
    "Plot the best fit line, $(tn,Fn)$ and compare it in the same plot with the original current data, $(tc,fn)$. Use the same black circles and solid lines for the current data and a red line, with a linewidth of 3 units, for the best fit line. Add appropriate title and axes labels."
   ]
  },
  {
   "cell_type": "code",
   "execution_count": null,
   "metadata": {},
   "outputs": [],
   "source": []
  },
  {
   "cell_type": "markdown",
   "metadata": {},
   "source": [
    "The equation for the error is shown in one of the video lectures and is given by<br><br>\n",
    "$err = \\sqrt{\\frac{\\displaystyle\\sum_{i=1}^n (y_i-y_{int})^2}{n-(m+1)}}$\n",
    "<br><br>where $n$ is the number of data points and $m$ is the highest power or degree of the polynomial fitting function, $yfit$.\n",
    "<br><br>Solve for the error corresponding to each fit. Use the $sum()$ function to make it easier for you to sum matrix elements. Assign the variables $ec$ and $en$ to the errors from the $current$ data set and the $normal$ data set, respectively."
   ]
  },
  {
   "cell_type": "code",
   "execution_count": null,
   "metadata": {},
   "outputs": [],
   "source": []
  },
  {
   "cell_type": "markdown",
   "metadata": {},
   "source": [
    "Change the order of the polynomial, $m$, to the next higher order and observe whether either or both of the graphs become closer to their best fit line and if their errors decrease. Write down the error values in the field below.<br><br>\n",
    "Note: When you change the order, this means that you have more coefficients and each coefficient must be multiplied to a certain power of the x-data set. This means you have to change the numerical expression for $Ic$ and $Fn$. To do this efficiently, use a $for$ loop."
   ]
  },
  {
   "cell_type": "code",
   "execution_count": 10,
   "metadata": {},
   "outputs": [],
   "source": [
    "#  n  #   current     #    normal     #        elapsed time\n",
    "#  1  #\n",
    "#  2  #\n",
    "#  4  #\n",
    "# Which of the two data sets is suitable for a regression type of fitting? Justify your answer."
   ]
  },
  {
   "cell_type": "markdown",
   "metadata": {},
   "source": [
    "### TASK 2. Perform Interpolation on Data Sets\n"
   ]
  },
  {
   "cell_type": "markdown",
   "metadata": {},
   "source": [
    "Using the same data sets, we are now going to perform spline interpolation and determine which type of data is more suitable to this kind of fitting.<br><br>\n",
    "First, we need to define a new set of data points with respect to the x-axis variable that have more data points in between. For example, let $q$ be the variable that defines how many data points you want to insert between existing data points of the time variables $tc$ and $tn$. In the field below, type $q$ and equate that to, let's say for now, 5."
   ]
  },
  {
   "cell_type": "code",
   "execution_count": null,
   "metadata": {},
   "outputs": [],
   "source": []
  },
  {
   "cell_type": "markdown",
   "metadata": {},
   "source": [
    "This means that I am adding 5 data points between any two existing data points in $tc$ or $tn$. For example, $tc$ currently has"
   ]
  },
  {
   "cell_type": "code",
   "execution_count": 12,
   "metadata": {},
   "outputs": [
    {
     "name": "stdout",
     "output_type": "stream",
     "text": [
      "101\n"
     ]
    }
   ],
   "source": [
    "print(len(tc))    # Run this cell to see the output"
   ]
  },
  {
   "cell_type": "markdown",
   "metadata": {},
   "source": [
    "data points. If we add $q$ data points between any two data points, that means the total number of data points will then be"
   ]
  },
  {
   "cell_type": "code",
   "execution_count": 13,
   "metadata": {},
   "outputs": [
    {
     "name": "stdout",
     "output_type": "stream",
     "text": [
      "601\n"
     ]
    }
   ],
   "source": [
    "print( len(tc)  + (len(tc)-1)*q )       # Run this cell to see output"
   ]
  },
  {
   "cell_type": "markdown",
   "metadata": {},
   "source": [
    "From this point, the instructions will be commented in the same cell as all commands in order to measure the elapsed processing time to solve for the interpolation points. For the $CubicSpline()$ function that you are going to use in the next cell, use this reference: https://pythonnumericalmethods.berkeley.edu/notebooks/chapter17.03-Cubic-Spline-Interpolation.html.<br><br>\n",
    "The first two arguments in the function are the x- and y-data sets. Use bc_type = 'natural' for the third argument. Save the output of $CubicSpline()$ function to the variable $f$."
   ]
  },
  {
   "cell_type": "code",
   "execution_count": 2,
   "metadata": {},
   "outputs": [
    {
     "name": "stdout",
     "output_type": "stream",
     "text": [
      "The elapsed time is4.410743713378906e-05 seconds.\n"
     ]
    }
   ],
   "source": [
    "# Let's now make a new variable, tcq, with this number of data points.\n",
    "t = time.time()      # DO NOT CHANGE THIS LINE\n",
    "\n",
    "#Write your code below this line. Follow the instructions carefully.\n",
    "\n",
    "# Instruction 1\n",
    "# Let's now make a new variable, $tcq$, with the same number of data points as in \n",
    "# the previous statement. Use the $linspace()$ command from the numpy module to \n",
    "# generate new x-data points with q = 5 data points between the existing ones in $tc$,\n",
    "# and assign these new x-data points to the variable $tcq$. You may also need the \n",
    "# $min()$ and $max()$ commands from the numpy module. The variable $tcq$ is now \n",
    "# called the query points corresponding to the $current$ data. Write your code below\n",
    "# this paragraph.\n",
    "\n",
    "\n",
    "\n",
    "# Instruction 2\n",
    "# Do the same and generate and assign the query points for the $normal$ data \n",
    "# to the variable $tnq$. Write your code below this paragraph.\n",
    "\n",
    "\n",
    "\n",
    "# Instruction 3\n",
    "# Using the $CubicSpline()$ function to generate the new values for the $current$ data \n",
    "# and assign them to the variable, #Icspline. Write your code below this paragraph.\n",
    "\n",
    "\n",
    "\n",
    "# Instruction 4\n",
    "# Using the $CubicSpline()$ function to generate the new values for the $normal$ data \n",
    "# and assign them to the variable, #Fnspline. Write your code below this paragraph.\n",
    "\n",
    "\n",
    "\n",
    "# DO NOT WRITE ANY CODE BELOW THIS LINE. \n",
    "elapsed = time.time() - t         # DO NOT CHANGE THIS LINE AND THE NEXT LINE.\n",
    "print('The elapsed time is' + str(elapsed) + ' seconds.')  "
   ]
  },
  {
   "cell_type": "markdown",
   "metadata": {},
   "source": [
    "From this point, we revert back to Markdown instructions.<br><br>\n",
    "Plot the best fit line, $(tcq,Icspline)$ and compare it in the same plot with the original current data, $(tc,ic)$. Use the same black circles for the $current$ data and a red line, with a LineWidth of 3 units, for the best fit line. If necessary use the command $xlim()$ and $ylim()$ to limit the range of the graphs to within the limits of integration. Add appropriate title and axes labels."
   ]
  },
  {
   "cell_type": "code",
   "execution_count": null,
   "metadata": {},
   "outputs": [],
   "source": []
  },
  {
   "cell_type": "markdown",
   "metadata": {},
   "source": [
    "Plot the best fit line, $(tnq,Fnspline)$ and compare it in the same plot with the original current data, $(tn,fn)$. Use the same black circles and solid lines for the $current$ data and a red line, with a LineWidth of 3 units, for the best fit line. If necessary use the command $xlim()$ and $ylim()$ to limit the range of the graphs to within the limits of integration. Add appropriate title and axes labels."
   ]
  },
  {
   "cell_type": "code",
   "execution_count": null,
   "metadata": {},
   "outputs": [],
   "source": []
  },
  {
   "cell_type": "markdown",
   "metadata": {},
   "source": [
    "Change the number of data points, $q$, according to the table below and observe whether either or both of the graphs become reasonably and realistically close."
   ]
  },
  {
   "cell_type": "code",
   "execution_count": 17,
   "metadata": {},
   "outputs": [],
   "source": [
    "#  q   #   observations: describe the fitting using interpolation\n",
    "#  5   #\n",
    "#  10  #\n",
    "#  50  #\n",
    "# Which of the two data sets is suitable for a interpolation type of fitting \n",
    "# based on these results?\n",
    "# Justify your answer."
   ]
  }
 ],
 "metadata": {
  "kernelspec": {
   "display_name": "Python 3 (ipykernel)",
   "language": "python",
   "name": "python3"
  },
  "language_info": {
   "codemirror_mode": {
    "name": "ipython",
    "version": 3
   },
   "file_extension": ".py",
   "mimetype": "text/x-python",
   "name": "python",
   "nbconvert_exporter": "python",
   "pygments_lexer": "ipython3",
   "version": "3.9.12"
  }
 },
 "nbformat": 4,
 "nbformat_minor": 4
}
