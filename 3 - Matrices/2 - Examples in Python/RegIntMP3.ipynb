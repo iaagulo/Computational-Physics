{
 "cells": [
  {
   "cell_type": "markdown",
   "metadata": {},
   "source": [
    "# Regression and Interpolation - Machine Problem 3\n",
    "In this machine problem, you are going to develop your own functions for regression and interpolation. The goal is to learn how to set up matrices and to perform basic matrix operations. "
   ]
  },
  {
   "cell_type": "markdown",
   "metadata": {},
   "source": [
    "### TASK 1. \n",
    "Import the data files \"current.txt\" and \"normal.txt\" and determine their fitting coefficients using Python's built-in function from Exercise 3. Use the variables $Bc$ and $Bn$ for the fitting coefficients of the $current$ and $normal$ data sets, respectively. Solve for their corresponding fitting functions and assign them to the variables $Ic$ and $Fn$, respectively. Solve for the error between the fitting functions and the data set and assign the results to the variables $ec$ and $en$, respectively."
   ]
  },
  {
   "cell_type": "code",
   "execution_count": 1,
   "metadata": {},
   "outputs": [],
   "source": []
  },
  {
   "cell_type": "markdown",
   "metadata": {},
   "source": [
    "### TASK 2. Set-up the polynomial regression matrix\n",
    "As you've seen in the video, in order to find the coefficients, $B(i)$, you will need to set up the polynomial regression matrix, as shown. Let<br><br>\n",
    "\\begin{equation*}\n",
    "A = \n",
    "\\begin{pmatrix}\n",
    "n & \\displaystyle\\sum_{i=1}^n x_i & \\displaystyle\\sum_{i=1}^n x_i^2 & \\cdots & \\displaystyle\\sum_{i=1}^n x_i^m \\\\\n",
    "\\displaystyle\\sum_{i=1}^n x_i & \\displaystyle\\sum_{i=1}^n x_i^2 & \\displaystyle\\sum_{i=1}^n x_i^3 & \\cdots & \\displaystyle\\sum_{i=1}^n x_i^{m+1} \\\\\n",
    "\\displaystyle\\sum_{i=1}^n x_i^2 & \\displaystyle\\sum_{i=1}^n x_i^3 & \\displaystyle\\sum_{i=1}^n x_i^4 & \\cdots & \\displaystyle\\sum_{i=1}^n x_i^{m+2} \\\\\n",
    "\\vdots  & \\vdots  & \\vdots & \\ddots & \\vdots  \\\\\n",
    "\\displaystyle\\sum_{i=1}^n x_i^m & \\displaystyle\\sum_{i=1}^n x_i^{m+1} & \\displaystyle\\sum_{i=1}^n x_i^{m+2} & \\cdots & \\displaystyle\\sum_{i=1}^n x_i^{2m} \n",
    "\\end{pmatrix}\n",
    "\\end{equation*}\n",
    "<br><br>where $n$ is the number of data points and $m$ is the highest order of the polynomial as shown<br><br>\n",
    "$yfit = B(0)t^m + B(1)t^{m-1} + B(2)t^{m-2} + ... + B(m)$.\n",
    "<br><br>We define the column matrix\n",
    "\\begin{equation*}\n",
    "B = \n",
    "\\begin{pmatrix}\n",
    "B(0) \\\\\n",
    "B(1) \\\\\n",
    "B(2) \\\\\n",
    "\\vdots \\\\\n",
    "B(m) \n",
    "\\end{pmatrix}\n",
    "\\end{equation*}\n",
    "<br><br>to be the coefficients of the polynomial fit equation, $yfit$. Finally, we define the column matrix<br><br>\n",
    "\\begin{equation*}\n",
    "C = \n",
    "\\begin{pmatrix}\n",
    "\\displaystyle\\sum_{i=1}^n y_i \\\\\n",
    "\\displaystyle\\sum_{i=1}^n x_iy_i \\\\\n",
    "\\displaystyle\\sum_{i=1}^n x_i^2y_i \\\\\n",
    "\\vdots \\\\\n",
    "\\displaystyle\\sum_{i=1}^n x_i^my_i\n",
    "\\end{pmatrix}\n",
    "\\end{equation*}\n",
    "<br><br>such that the product of the matricces $A$ and $B$ is equal to matrix $C$, i.e.<br><br>\n",
    "$A$ $B$ = $C$.\n",
    "<br><br>This derivation has been shown in the video lecture. To get the coefficients, you should solve for<br><br>\n",
    "$B$ = $A^{-1}$ $C$.\n",
    "<br><br>NOTE: All the summation notations written above begin with $i=1$. Keep in mind though that Python indices start from $i=0$.<br>\n",
    "The first thing you need to do is set up the matrix $A$. Remember that the matrix $A$ has elements<br><br>\n",
    "\\begin{equation*}\n",
    "A = \n",
    "\\begin{pmatrix}\n",
    "A(1,1) & A(1,2) & A(1,3) & \\cdots & A(1,4) \\\\\n",
    "A(2,1) & A(2,2) & A(2,3) & \\cdots & A(2,4) \\\\\n",
    "A(3,1) & A(3,2) & A(3,3) & \\cdots & A(3,4) \\\\\n",
    "\\vdots  & \\vdots  & \\vdots & \\ddots & \\vdots  \\\\\n",
    "A(m+1,1) & A(m+1,2) & A(m+1,3) & \\cdots & A(m+1,4) \n",
    "\\end{pmatrix}\n",
    "\\end{equation*}\n",
    "<br><br>NOTE: I've kept this index notation to indicate the correct row and column elements, e.g., A(3,2) is the 3rd row and 2nd column element of matrix $A$. Again, keep in mind when implementing this that Python indices start from $i=0$.<br>\n",
    "Figure out how to equate each elements of the matrix  at the very top of this thread with each element of the matrix $A$ just above this paragraph. You need only one line of code to solve for  in terms of the elements in summation, and two $for$ loops. Set up matrix $A$ in Cell 1 below corresponding to the $current$ data, and use the variable $Ac$ for matrix $A$."
   ]
  },
  {
   "cell_type": "code",
   "execution_count": 2,
   "metadata": {},
   "outputs": [],
   "source": [
    "# Cell 1\n"
   ]
  },
  {
   "cell_type": "markdown",
   "metadata": {},
   "source": [
    "Similarly, we can equate<br><br>\n",
    "\\begin{equation*}\n",
    "C = \n",
    "\\begin{pmatrix}\n",
    "\\displaystyle\\sum_{i=1}^n y_i \\\\\n",
    "\\displaystyle\\sum_{i=1}^n x_iy_i \\\\\n",
    "\\displaystyle\\sum_{i=1}^n x_i^2y_i \\\\\n",
    "\\vdots \\\\\n",
    "\\displaystyle\\sum_{i=1}^n x_i^my_i\n",
    "\\end{pmatrix}\n",
    "=\n",
    "\\begin{pmatrix}\n",
    "C(1,1) \\\\\n",
    "C(2,1) \\\\\n",
    "C(3,1) \\\\\n",
    "\\vdots \\\\\n",
    "C(m+1,1)\n",
    "\\end{pmatrix}\n",
    "\\end{equation*}\n",
    "<br><br>\n",
    "In Cell 2 below, set up matrix  corresponding to the $current$ data, and use the variables $Cc$ for matrix $C$. Only one line of code inside one for loop is needed."
   ]
  },
  {
   "cell_type": "code",
   "execution_count": 3,
   "metadata": {},
   "outputs": [],
   "source": [
    "# Cell 2\n"
   ]
  },
  {
   "cell_type": "markdown",
   "metadata": {},
   "source": [
    "Solve for the coefficients, B(i), in Cell 3 below corresponding to the $current$ data, and use the variables $Bcmy$ for the matrix $B$. Only one line of code is needed. Compare $Bc$ and $Bcmy$, and take note of the order. "
   ]
  },
  {
   "cell_type": "code",
   "execution_count": 4,
   "metadata": {},
   "outputs": [
    {
     "name": "stdout",
     "output_type": "stream",
     "text": [
      "[ 4.01746959e+04 -1.00481486e+04  8.97521072e+02 -3.38714367e+01\n",
      "  4.70926553e-01]\n",
      "[ 4.70926553e-01 -3.38714367e+01  8.97521072e+02 -1.00481486e+04\n",
      "  4.01746959e+04]\n"
     ]
    }
   ],
   "source": [
    "# Cell 3\n"
   ]
  },
  {
   "cell_type": "markdown",
   "metadata": {},
   "source": [
    "Using the x-data set for current, $tc$, generate a new set of current values from the coefficients obtained from the variable $Bcmy$ in Cell 4. Assign these new data set to the variable $Icmy$."
   ]
  },
  {
   "cell_type": "code",
   "execution_count": 5,
   "metadata": {},
   "outputs": [],
   "source": [
    "# Cell 4\n"
   ]
  },
  {
   "cell_type": "markdown",
   "metadata": {},
   "source": [
    "Plot the best fit line, $(tc,Ic)$, obtained from the Python built-in function, the best fit line, $(tc,Icmy)$ you just computed, and compare them in the same plot with the original current data, $(tc,ic)$. Use the same black circles for $(tc,ic)$, a red solid line for $(tc,Ic)$, and a blue dashed line for $(tc,Icmy)$, with LineWidths of 3 units, for the best fit lines. Add a title and the axes labels."
   ]
  },
  {
   "cell_type": "code",
   "execution_count": 6,
   "metadata": {},
   "outputs": [
    {
     "data": {
      "text/plain": [
       "Text(0, 0.5, 'Current (A)')"
      ]
     },
     "execution_count": 6,
     "metadata": {},
     "output_type": "execute_result"
    },
    {
     "data": {
      "image/png": "[encoded data removed]",
      "text/plain": [
       "<Figure size 432x288 with 1 Axes>"
      ]
     },
     "metadata": {
      "needs_background": "light"
     },
     "output_type": "display_data"
    }
   ],
   "source": []
  },
  {
   "cell_type": "markdown",
   "metadata": {},
   "source": [
    "Using the algorithm you just developed from Cells 1 to 4, write a Python function named $regre$ with input variables $(x,y,m)$ where $x$ and $y$ are the data set and $m$ is the degree of the polynomial. Using your Python function on the $normal$ data, solve for the regression coefficients and assign them to the variable $Bnmy$. Display the values of the coefficients."
   ]
  },
  {
   "cell_type": "code",
   "execution_count": 7,
   "metadata": {},
   "outputs": [
    {
     "name": "stdout",
     "output_type": "stream",
     "text": [
      "[  -37.85541054   513.73680456 -2485.87486503  5027.54375768\n",
      " -3588.36898464]\n",
      "[-3588.36898326  5027.5437557  -2485.87486402   513.73680434\n",
      "   -37.85541052]\n"
     ]
    }
   ],
   "source": [
    "# Cell 5\n",
    "  "
   ]
  },
  {
   "cell_type": "markdown",
   "metadata": {},
   "source": [
    "Using the x-data set for normal, $tn$, generate the fitting curve for the normal data set from the coefficients obtained from the variable $Bnmy$ in Cell 5. Assign these new data set to the variable $Fnmy$."
   ]
  },
  {
   "cell_type": "code",
   "execution_count": 8,
   "metadata": {},
   "outputs": [],
   "source": [
    "# Cell 6\n"
   ]
  },
  {
   "cell_type": "markdown",
   "metadata": {},
   "source": [
    "Plot the best fit line, $(tn,Fn)$, obtained from the Python built-in function, the best fit line, $(tn,Fnmy)$ you just computed, and compare them in the same plot with the original current data, $(tn,fn)$. Use the same black circles for $(tc,fn)$, a red solid line for $(tc,Fn)$, and a blue dashed line for $(tc,Fnmy)$, with LineWidths of 3 units, for the best fit lines. Add a title and the axes labels."
   ]
  },
  {
   "cell_type": "code",
   "execution_count": 9,
   "metadata": {},
   "outputs": [
    {
     "data": {
      "text/plain": [
       "Text(0, 0.5, 'Normal Force (N)')"
      ]
     },
     "execution_count": 9,
     "metadata": {},
     "output_type": "execute_result"
    },
    {
     "data": {
      "image/png": "[encoded data removed]",
      "text/plain": [
       "<Figure size 432x288 with 1 Axes>"
      ]
     },
     "metadata": {
      "needs_background": "light"
     },
     "output_type": "display_data"
    }
   ],
   "source": []
  },
  {
   "cell_type": "markdown",
   "metadata": {},
   "source": [
    "Solve for the error corresponding to $(tc,Icmy)$ and $(tn,Inmy)$. Assign the variables $ecmy$ and $enmy$ to the errors from the $current$ data set and the  data set, respectively. Compare these and $ec$ and $en$."
   ]
  },
  {
   "cell_type": "code",
   "execution_count": 10,
   "metadata": {},
   "outputs": [
    {
     "name": "stdout",
     "output_type": "stream",
     "text": [
      "0.011806424489534789\n",
      "0.011806424489534803\n",
      "413.061204109386\n",
      "413.06120410938604\n"
     ]
    }
   ],
   "source": []
  },
  {
   "cell_type": "markdown",
   "metadata": {},
   "source": [
    "### TASK 3. Set-up the cubic interpolation matrix\n"
   ]
  },
  {
   "cell_type": "markdown",
   "metadata": {},
   "source": [
    "As in the previous task, using the same data sets, we are now going to develop an algorithm for spline interpolation and make our own spline function.<br><br>\n",
    "First, we need to define a new set of data points with respect to the x-axis variable that have more data points in between. We use the same variables, $tcq$ and $tnq$, as our query points. Using Python's built-in $CubicSpline()$ function, generate the new values for the $current$ and $normal$ data and assign these new values to the variables, $Iscpline$ and $Fnspline$. Add new 5 data points in between the existing data points."
   ]
  },
  {
   "cell_type": "code",
   "execution_count": 11,
   "metadata": {},
   "outputs": [],
   "source": []
  },
  {
   "cell_type": "markdown",
   "metadata": {},
   "source": [
    "It's time to make our own spline interpolation function based on the video lecture. We are going to use cubic splines, and thus will be naming our function $cubint()$. As in the $CubicSpline()$ function, the first two arguments in the function are the x- and y-data sets, while the third argument is the query points. We beging by first studying this equation.<br><br>\n",
    "$(x_i-x_{i-1}) f\"(x_{i-1}) + 2 (x_{i+1}-x_{i-1}) f\"(x_{i}) + (x_{i+1}-x_i) f\"(x_{i+1}) = \\frac{6}{x_{i+1}-x_i} [f(x_{i+1})-f(x_i)] + \\frac{6}{x_i-x_{i-1}} [f(x_{i-1})-f(x_i)]$\n",
    "<br><br>The goal is to solve for the values of the second derivatives at the interior knots. If we have $n$ data points, then there are $n-2$ unknowns. So, we need to set up $n-2$ simultaneous equations. However, we will be setting up an $nxn$ matrix first. What are the elements of this matrix. The first row elements are obtained from $i=1$. Using the above equation, we get<br><br>\n",
    "$(x_1-x_0) f\"(x_0) + 2 (x_2-x_0) f\"(x_1) + (x_2-x_1) f\"(x_2) = \\frac{6}{x_2-x_1} [f(x_2)-f(x_1)] + \\frac{6}{x_1-x_0} [f(x_0)-f(x_1)]$\n",
    "<br><br>\n",
    "The second row elements are obtained from $i=2$, which yields<br><br>\n",
    "$(x_2-x_1) f\"(x_1) + 2 (x_3-x_1) f\"(x_2) + (x_3-x_2) f\"(x_3) = \\frac{6}{x_3-x_2} [f(x_3)-f(x_2)] + \\frac{6}{x_2-x_1} [f(x_1)-f(x_2)]$\n",
    "<br><br>For $i=3$, we get<br><br>\n",
    "$(x_4-x_3) f\"(x_3) + 2 (x_5-x_3) f\"(x_3) + (x_5-x_4) f\"(x_5) = \\frac{6}{x_5-x_4} [f(x_5)-f(x_4)] + \\frac{6}{x_4-x_3} [f(x_3)-f(x_5)]$\n",
    "<br><br>\n",
    "This goes on until $i=n-2$, which we then obtain<br><br>\n",
    "$(x_{n-2}-x_{n-3}) f\"(x_{n-3}) + 2 (x_{n-1}-x_{n-3}) f\"(x_{n-2}) + (x_{n-1}-x_{n-2}) f\"(x_{n-1}) = \\frac{6}{x_{n-1}-x_{n-2}} [f(x_{n-1})-f(x_{n-2})] + \\frac{6}{x_{n-2}-x_{n-3}} [f(x_{n-3})-f(x_{n-2})]$\n",
    "<br><br>We can rewrite these equations in matrix form to be<br><br>\n",
    "\\begin{equation*}\n",
    "\\begin{pmatrix}\n",
    "x_1-x_0 & 2 (x_2-x_0) & x_2-x_1 & 0 & 0 & 0 & 0 & \\cdots & 0 \\\\\n",
    "0 & x_2-x_1 & 2 (x_3-x_1) & x_3-x_2 & 0 & 0 & 0 & \\cdots & 0 \\\\\n",
    "0 & 0 & x_3-x_2 & 2 (x_4-x_2) & x_4-x_3 & 0 & 0 & \\cdots & 0 \\\\\n",
    "\\vdots  & \\vdots  & \\vdots & \\vdots  & \\vdots & \\vdots & \\vdots & \\ddots & \\vdots  \\\\\n",
    "0 & 0 & 0 & 0 & 0 & 0 & x_{n-2}-x_{n-3} & 2 (x_{n-1}-x_{n-3}) & x_{n-1}-x_{n-2} \n",
    "\\end{pmatrix}\n",
    "\\begin{pmatrix}\n",
    "f\"(x_0) \\\\\n",
    "f\"(x_1) \\\\\n",
    "f\"(x_2) \\\\\n",
    "\\vdots \\\\\n",
    "f\"(x_{n-1})  \n",
    "\\end{pmatrix} \n",
    "\\end{equation*}<br>\n",
    "\\begin{equation*}\n",
    "=\\begin{pmatrix}\n",
    "\\frac{6}{x_2-x_1} [f(x_2)-f(x_1)] + \\frac{6}{x_1-x_0} [f(x_0)-f(x_1)] \\\\\n",
    "\\frac{6}{x_3-x_2} [f(x_3)-f(x_2)] + \\frac{6}{x_2-x_1} [f(x_1)-f(x_2)] \\\\\n",
    "\\frac{6}{x_4-x_3} [f(x_4)-f(x_3)] + \\frac{6}{x_3-x_2} [f(x_2)-f(x_3)] \\\\\n",
    "\\vdots \\\\\n",
    "\\frac{6}{x_{n-1}-x_{n-2}} [f(x_{n-1})-f(x_{n-2})] + \\frac{6}{x_{n-2}-x_{n-3}} [f(x_{n-3})-f(x_{n-1})]  \n",
    "\\end{pmatrix}  \n",
    "\\end{equation*}\n",
    "<br><br>If we let\n",
    "\\begin{equation*}\n",
    "A = \n",
    "\\begin{pmatrix}\n",
    "x_1-x_0 & 2 (x_2-x_0) & x_2-x_1 & 0 & 0 & 0 & 0 & \\cdots & 0 \\\\\n",
    "0 & x_2-x_1 & 2 (x_3-x_1) & x_3-x_2 & 0 & 0 & 0 & \\cdots & 0 \\\\\n",
    "0 & 0 & x_3-x_2 & 2 (x_4-x_2) & x_4-x_3 & 0 & 0 & \\cdots & 0 \\\\\n",
    "\\vdots  & \\vdots  & \\vdots & \\vdots  & \\vdots & \\vdots & \\vdots & \\ddots & \\vdots  \\\\\n",
    "0 & 0 & 0 & 0 & 0 & 0 & x_{n-2}-x_{n-3} & 2 (x_{n-1}-x_{n-3}) & x_{n-1}-x_{n-2} \n",
    "\\end{pmatrix}\n",
    "\\end{equation*}<br>\n",
    "\\begin{equation*}\n",
    "B = \n",
    "\\begin{pmatrix}\n",
    "f\"(x_0) \\\\\n",
    "f\"(x_1) \\\\\n",
    "f\"(x_2) \\\\\n",
    "\\vdots \\\\\n",
    "f\"(x_{n-1})  \n",
    "\\end{pmatrix} \n",
    "\\end{equation*}\n",
    "<br>and<br>\n",
    "\\begin{equation*}\n",
    "C =\\begin{pmatrix}\n",
    "\\frac{6}{x_2-x_1} [f(x_2)-f(x_1)] + \\frac{6}{x_1-x_0} [f(x_0)-f(x_1)] \\\\\n",
    "\\frac{6}{x_3-x_2} [f(x_3)-f(x_2)] + \\frac{6}{x_2-x_1} [f(x_1)-f(x_2)] \\\\\n",
    "\\frac{6}{x_4-x_3} [f(x_4)-f(x_3)] + \\frac{6}{x_3-x_2} [f(x_2)-f(x_3)] \\\\\n",
    "\\vdots \\\\\n",
    "\\frac{6}{x_{n-1}-x_{n-2}} [f(x_{n-1})-f(x_{n-2})] + \\frac{6}{x_{n-2}-x_{n-3}} [f(x_{n-3})-f(x_{n-1})]  \n",
    "\\end{pmatrix} \n",
    "\\end{equation*}\n",
    "<br><br>then in order to solve for $B$, we need to solve for<br><br>\n",
    "$B = A^{-1} C$\n",
    "<br><br>Keep in mind that the boundary conditions dictate that $f\"(x_0) = f\"(x_{n-1}) = 0$.<br><br>In Cell 7 below, set up matrices $A$ and $C$ simultaneously in one $for$ loop for the $current$ data set."
   ]
  },
  {
   "cell_type": "code",
   "execution_count": 12,
   "metadata": {},
   "outputs": [],
   "source": [
    "# Cell 7\n"
   ]
  },
  {
   "cell_type": "markdown",
   "metadata": {},
   "source": [
    "In Cell 8 below, solve for the matrix $B$ for the $current$ data set."
   ]
  },
  {
   "cell_type": "code",
   "execution_count": 13,
   "metadata": {},
   "outputs": [],
   "source": [
    "# Cell 8\n"
   ]
  },
  {
   "cell_type": "markdown",
   "metadata": {},
   "source": [
    "The next step would be to solve for the best fit line using this equation<br><br>\n",
    "$f_i(x) = \\frac{f\"(x_{i-1})}{6(x_i-x_{i-1})} (x_i-x)^3 + \\frac{f\"(x_i)}{6(x_i-x_{i-1})} (x-x_{i-1})^3 + [\\frac{f(x_{i-1})}{x_i-x_{i-1}}-\\frac{f\"(x_{i-1})(x_i-x_{i-1})}{6}](x_i-x) + [\\frac{f(x_i)}{x_i-x_{i-1}}-\\frac{f\"(x_i)(x_i-x_{i-1})}{6}](x-x_{i-1})$\n",
    "<br><br>where $x$ are your query points. We start with $i=1$ and work our way up to $i=n-1$. To solve for $f_i(x)$, the query points must be $x_{i-1}\\le x<x_i$. \n",
    "<br><br>In Field 9, solve for the best fit line for the $current$ data assigning it to the variable, $Icmyspline$."
   ]
  },
  {
   "cell_type": "code",
   "execution_count": 14,
   "metadata": {},
   "outputs": [],
   "source": [
    "# Cell 9\n"
   ]
  },
  {
   "cell_type": "markdown",
   "metadata": {},
   "source": [
    "Plot the best fit line, $(tcq,Icspline)$ obtained from the Python built-in function, the best fit line, $(tcq,Icmyspline)$ you just computed, and compare it in the same plot with the original current data, $(tc,ic)$. Use the same black circles for the $current$ data and a red line, with a linewidth of 3 units, for the best fit line. Use the same black circles for $(tc,ic)$, a red solid line for $(tcq,Icspline)$, and a blue dashed line for $(tcq,Icmyspline)$, with linewidths of 3 units, for the best fit lines. Add a title and the axes labels."
   ]
  },
  {
   "cell_type": "code",
   "execution_count": 15,
   "metadata": {},
   "outputs": [
    {
     "data": {
      "text/plain": [
       "Text(0, 0.5, 'Current (A)')"
      ]
     },
     "execution_count": 15,
     "metadata": {},
     "output_type": "execute_result"
    },
    {
     "data": {
      "image/png": "[encoded data removed]",
      "text/plain": [
       "<Figure size 432x288 with 1 Axes>"
      ]
     },
     "metadata": {
      "needs_background": "light"
     },
     "output_type": "display_data"
    }
   ],
   "source": []
  },
  {
   "cell_type": "markdown",
   "metadata": {},
   "source": [
    "Using the algorithm you just developed from Cells 7 to 9, write a Python function, in Cell 10 below, named $mycubicspline()$ with input variables $(x,y,qx)$ where $x$ and $Y$ are the data set and $qx$ is set of querypoints. The output of the function is the best fit line $qy$. Use your Python function to generate the new interpolating function,$Fnmyspline$, for the $normal$ data set."
   ]
  },
  {
   "cell_type": "code",
   "execution_count": 16,
   "metadata": {},
   "outputs": [],
   "source": [
    "# Cell 10\n"
   ]
  },
  {
   "cell_type": "markdown",
   "metadata": {},
   "source": [
    "Plot the best fit line, $(tnq,Fnspline)$ obtained from the Python built-in function, the best fit line, $(tnq,Fnmyspline)$ you just computed, and compare it in the same plot with the original normal data set, $(tn,fn)$. Use the same black circles for the $normal$ data and a red line, with a linewidth of 3 units, for the best fit line. Use the same black circles for $(tn,fn)$, a red solid line for $(tnq,Fnspline)$, and a blue dashed line for $(tnq,Fnmyspline)$, with linewidths of 3 units, for the best fit lines. Add a title and the axes labels."
   ]
  },
  {
   "cell_type": "code",
   "execution_count": 17,
   "metadata": {},
   "outputs": [
    {
     "data": {
      "text/plain": [
       "Text(0, 0.5, 'Normal Force (N)')"
      ]
     },
     "execution_count": 17,
     "metadata": {},
     "output_type": "execute_result"
    },
    {
     "data": {
      "image/png": "[encoded data removed]",
      "text/plain": [
       "<Figure size 432x288 with 1 Axes>"
      ]
     },
     "metadata": {
      "needs_background": "light"
     },
     "output_type": "display_data"
    }
   ],
   "source": []
  },
  {
   "cell_type": "markdown",
   "metadata": {},
   "source": [
    "Compare qualitatively between Python's built-in $CubicSpline()$ function and your $mycubicspline()$ function in terms of what you see in the graph."
   ]
  },
  {
   "cell_type": "code",
   "execution_count": 18,
   "metadata": {},
   "outputs": [],
   "source": [
    "#  Write your answer here\n"
   ]
  }
 ],
 "metadata": {
  "kernelspec": {
   "display_name": "Python 3",
   "language": "python",
   "name": "python3"
  },
  "language_info": {
   "codemirror_mode": {
    "name": "ipython",
    "version": 3
   },
   "file_extension": ".py",
   "mimetype": "text/x-python",
   "name": "python",
   "nbconvert_exporter": "python",
   "pygments_lexer": "ipython3",
   "version": "3.8.3"
  }
 },
 "nbformat": 4,
 "nbformat_minor": 4
}
