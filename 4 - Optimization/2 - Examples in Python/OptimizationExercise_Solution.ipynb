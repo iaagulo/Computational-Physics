{
 "cells": [
  {
   "cell_type": "markdown",
   "metadata": {},
   "source": [
    "# Basic Optimization Methods\n",
    "In this exercise, you are going to learn how to implement one of three optimization learned in class. Choose between the Golden Section Method, Quadratic Interpolation Method and the Random Search Method."
   ]
  },
  {
   "cell_type": "markdown",
   "metadata": {},
   "source": [
    "### Golden Section Search Method\n",
    "If you choose this method, you have an opportunity to get a $\\underline{maximum \\hspace{0.1cm} score \\hspace{0.1cm} of \\hspace{0.1cm} 20/20}$. Here are the steps:\n",
    "1. The Initial Guesses<br>\n",
    "The method starts with two initial guesses, $x_l$ and $x_u$, that bracket one local extremum of $f(x)$.<br>\n",
    "2. Determination of Interior Points<br>\n",
    "Two interior points $x_1$ and $x_2$ are then chosen according to the equation<br><br>\n",
    "$d = R(x_u-x_l)$\n",
    "<br><br>where the golden ratio is given by<br><br>\n",
    "$R=\\frac{ \\sqrt{5} -1}{2}$\n",
    "<br><br>The two interior points are expressed as $x_1=x_l+d$ and $x_2=x_u-d$.<br>\n",
    "3. Determination of region where maximum can be found\n",
    "The function is evaluated at these two interior points. Two results can occur.\n",
    "1. If $f(x_1)>f(x_2)$, then the domain of $x$ to the left of $x_2$, from $x_1$ to $x_2$, can be eliminated because it does not contain the maximum. For this case, $x_2$ becomes the new $x_l$ for the next round.<br> \n",
    "2. If $f(x_2)>f(x_1)$, then the domain of $x$ to the right of $x_1$, from $x_1$ to $x_u$ would have been eliminated. In this case, $x_1$ becomes the new $x_u$ for the next round.<br> \n",
    "Then you start over using the new values of $x_l$ or $x_u$, and repeat the process and until $x_l$ and $x_u$ converges to a single value. That single value is the value of $x$ corresponding to the maximum value of $f(x)$.<br> \n",
    "NOTE: If you’re looking for the minimum, you use $f(x_1)<f(x_2)$ in part 1 and $f(x_1)>f(x_2)$ in part 2, instead."
   ]
  },
  {
   "cell_type": "markdown",
   "metadata": {},
   "source": [
    "### Quadratic Interpolation Search Method\n",
    "If you choose this method, you have an opportunity to get a $\\underline{maximum \\hspace{0.1cm} score \\hspace{0.1cm} of \\hspace{0.1cm} 20/20}$.<br>\n",
    "This method takes advantage of the fact that a second-order polynomial often provides a good approximation to the shape of $f(x)$ near an optimum. (Just as there is only one straight line connecting two points, there is only one quadratic or parabola connecting three points.) The idea is to have three points that jointly bracket an optimum, fit a parabola to the points, differentiate it, set the result equal to zero, and solve for an estimate of the optimal $x$. The result would be the equation shown where $x_0$, $x_1$ and $x_2$ are the initial guesses, and $x_3$ is the value of  that corresponds to the maximum value of the quadratic fit to the guesses.<br>\n",
    "The equation we are going to use for this method is given by<br><br>\n",
    "$x_3 = \\frac{f(x_0)(x_1^2-x_2^2)+f(x_1)(x_2^2-x_0^2)+f(x_2)(x_0^2-x_1^2)}{2f(x_0)(x_1-x_2)+2f(x_1)(x_2-x_0)+2f(x_2)(x_0-x_1)}$\n",
    "<br>\n",
    "1. The Initial Guesses<br>\n",
    "The method starts with initial guesses $x_0$, $x_1$ and $x_2$.<br> \n",
    "2. Determination of Interior Point, $x_3$<br>\n",
    "The interior point, $x_3$, is obtained using the above equation. Where do we place $x_3$?<br>\n",
    "The basic idea is this - three points are needed to complete a parabola. The new variable $x_3$ must always be between two points. Thus, the point that is not necessarily needed to form a parabola is removed. In the video example, $x_3=1.5055$. The initial guesses were $x_0=0$, $x_1=1$ and $x_2=4$. Since $x_3=1.5055$ is between $x_1=1$ and $x_2=4$, $x_0=0$ is removed and replaced with $x_1=1$, and $x_1$ becomes 1.5055.<br> \n",
    "The new guesses are now $x_0=1$, $x_1=1.5055$ and $x_2=4$.<br>\n",
    "3. Determination of region where maximum can be found<br>\n",
    "The new interior point, $x_3$, for the next iteration is computed using these new values, and the cycle is repeated until the difference between the two succeeding interior points are below a set toleranc value. You will set your own tolerance value."
   ]
  },
  {
   "cell_type": "markdown",
   "metadata": {},
   "source": [
    "### Random Search Method\n",
    "If you choose this method, you have an opportunity to get a $\\underline{maximum \\hspace{0.1cm} score \\hspace{0.1cm} of \\hspace{0.1cm} 10/20}$. (The 10/20 is NOT a typo.)<br>\n",
    "This method is a brute force method and succeeds only because a sufficient number of guesses are made.<br>\n",
    "1. The Initial Guesses<br>\n",
    "The method starts an initial guess, $x$, anywhere within the function boundary, $x_l$ and $x_u$, where $x_l$ is the lower bound and $x_u$ is the upper bound. <br>\n",
    "2. Determination of an interior point<br>\n",
    "A new guess, $x$, is obtained by multiplying a random number, $r$, between 0 and 1 by the difference in the function boundary, $x_u-x_l$, and then adding the result to $x_l$. In equation form, this is written as<br><br>\n",
    "$x=x_l+(x_u-x_l)r$.\n",
    "<br><br>The new maximum value is obtained by replacing the old $x$ with the new $x$ if the new $x$ is higher than the old $x$. Otherwise, the old $x$ is retained.<br>\n",
    "3. Determination of maximum<br>\n",
    "The maximum is determined after a number of iterations. Theoretically, the more the number of iterations are, the better the guess is for the maximum value."
   ]
  },
  {
   "cell_type": "markdown",
   "metadata": {},
   "source": [
    "### Instructions\n",
    "0. Call the necessary modules in the cell below."
   ]
  },
  {
   "cell_type": "code",
   "execution_count": 71,
   "metadata": {},
   "outputs": [],
   "source": [
    "import numpy as np\n",
    "import sympy as sym\n",
    "import math\n",
    "import matplotlib.pyplot as plt\n",
    "import random"
   ]
  },
  {
   "cell_type": "markdown",
   "metadata": {},
   "source": [
    "1. Choose from among the three methods above, the method you wish to use the determine both the maximum value of the function<br><br>\n",
    "$f(x)=2 sin(x) - \\frac{x^2}{10}$\n",
    "<br><br>within the region $-5 \\le x \\le 4$. Use up to 2 decimal places.<br>\n",
    "2. In the cell below, write down the command for letting the user input the initial guesses. Use Python's input command, with appropriate prompts."
   ]
  },
  {
   "cell_type": "code",
   "execution_count": null,
   "metadata": {},
   "outputs": [],
   "source": []
  },
  {
   "cell_type": "markdown",
   "metadata": {},
   "source": [
    "3. In the cell below, write down your code for implementing the method you chose in order to solve for the maximum value. Assign the maximum values to the variable $xopt$. The optimum value must be accurate to 2 decimal places."
   ]
  },
  {
   "cell_type": "code",
   "execution_count": null,
   "metadata": {},
   "outputs": [],
   "source": []
  },
  {
   "cell_type": "markdown",
   "metadata": {},
   "source": [
    "4. Plot the function and the location of the final guess. Add appropriate title and x- and y-labels."
   ]
  },
  {
   "cell_type": "code",
   "execution_count": null,
   "metadata": {},
   "outputs": [],
   "source": []
  },
  {
   "cell_type": "markdown",
   "metadata": {},
   "source": [
    "### Solution to Golden Search Method\n",
    "1. Choose from among the three methods above, the method you wish to use the determine both the maximum value of the function<br><br>\n",
    "$f(x)=2 sin(x) - \\frac{x^2}{10}$\n",
    "<br><br>within the region $-5 \\le x \\le 4$. Use up to 2 decimal places.\n",
    "2. In the field below, write down the command for letting the user input the initial guesses. Use Python's input command, with appropriate prompts."
   ]
  },
  {
   "cell_type": "code",
   "execution_count": 19,
   "metadata": {},
   "outputs": [
    {
     "name": "stdout",
     "output_type": "stream",
     "text": [
      "What is the lower bound guess? 0\n",
      "What is the upper bound guess? 4\n"
     ]
    }
   ],
   "source": [
    "xl = input(\"What is the lower bound guess? \")\n",
    "xu = input(\"What is the upper bound guess? \")"
   ]
  },
  {
   "cell_type": "markdown",
   "metadata": {},
   "source": [
    "3. In the cell below, write down your code for implementing the method you chose in order to solve for the maximum value. Assign the maximum values to the variable $xopt$. The optimum value must be accurate to 2 decimal places."
   ]
  },
  {
   "cell_type": "code",
   "execution_count": 49,
   "metadata": {},
   "outputs": [
    {
     "name": "stdout",
     "output_type": "stream",
     "text": [
      "1.4350415850895895\n",
      "1.7756645010409504\n"
     ]
    }
   ],
   "source": [
    "def f(x):\n",
    "    f = 2*np.sin(x)-x**2/10\n",
    "    return f\n",
    "\n",
    "def optimgsfun(x,y):\n",
    "    xl = float(x)\n",
    "    xu = float(y)\n",
    "    tol = 0.01\n",
    "    R = (np.sqrt(5) - 1)/2\n",
    "    d = float(R)*(xu-xl)\n",
    "    x1 = xl + d\n",
    "    if f(xu) < f(x1):\n",
    "        while( abs((xu-xl)) > xl*tol ):\n",
    "            d = R*(xu-xl)\n",
    "            x1 = xl + d\n",
    "            x2 = xu - d\n",
    "            if f(x1) > f(x2):\n",
    "                xl = x2\n",
    "            else:\n",
    "                xu = x1\n",
    "    else:\n",
    "        while( abs((xu-xl)) > xl*tol ):\n",
    "            d = R*(xu-xl)\n",
    "            x1 = xl + d\n",
    "            x2 = xu - d\n",
    "            if f(x1) < f(x2):\n",
    "                xl = x2\n",
    "            else:\n",
    "                xu = x1\n",
    "    xopt = xu\n",
    "    yopt = f(xopt)\n",
    "    return xopt,yopt\n",
    "\n",
    "xopt, yopt = optimgsfun(xl,xu)\n",
    "print(xopt)\n",
    "print(yopt)"
   ]
  },
  {
   "cell_type": "markdown",
   "metadata": {},
   "source": [
    "4. Plot the function and the location of the final guess. Add appropriate title and x- and y-labels."
   ]
  },
  {
   "cell_type": "code",
   "execution_count": 48,
   "metadata": {},
   "outputs": [
    {
     "data": {
      "text/plain": [
       "Text(0, 0.5, 'f(x)')"
      ]
     },
     "execution_count": 48,
     "metadata": {},
     "output_type": "execute_result"
    },
    {
     "data": {
      "image/png": "[encoded data removed]",
      "text/plain": [
       "<Figure size 432x288 with 1 Axes>"
      ]
     },
     "metadata": {
      "needs_background": "light"
     },
     "output_type": "display_data"
    }
   ],
   "source": [
    "x = np.arange(-5,4,0.1)\n",
    "plt.plot(x,f(x),'k', linewidth=3)\n",
    "plt.plot(xopt,yopt,'ro',markersize=5, linewidth=5)\n",
    "plt.grid()\n",
    "plt.axis([-5, 4, -3, 2])\n",
    "plt.xlabel('x')\n",
    "plt.ylabel('f(x)')"
   ]
  },
  {
   "cell_type": "markdown",
   "metadata": {},
   "source": [
    "### Solution to Quadratic Interpolation Method\n",
    "1. Choose from among the three methods above, the method you wish to use the determine both the maximum value of the function<br><br>\n",
    "$f(x)=2 sin(x) - \\frac{x^2}{10}$\n",
    "<br><br>within the region $-5 \\le x \\le 4$. Use up to 2 decimal places.\n",
    "2. In the field below, write down the command for letting the user input the initial guesses. Use Python's input command, with appropriate prompts."
   ]
  },
  {
   "cell_type": "code",
   "execution_count": 60,
   "metadata": {},
   "outputs": [
    {
     "name": "stdout",
     "output_type": "stream",
     "text": [
      "What is the value of the lower bound? 0\n",
      "What is the value of the middle point? 1\n",
      "What is the value of the upper bound? 4\n"
     ]
    }
   ],
   "source": [
    "x0 = input(\"What is the value of the lower bound? \")\n",
    "x1 = input(\"What is the value of the middle point? \")\n",
    "x2 = input(\"What is the value of the upper bound? \")"
   ]
  },
  {
   "cell_type": "markdown",
   "metadata": {},
   "source": [
    "3. In the cell below, write down your code for implementing the method you chose in order to solve for the maximum value. Assign the maximum values to the variable $xopt$. The optimum value must be accurate to 2 decimal places."
   ]
  },
  {
   "cell_type": "code",
   "execution_count": 66,
   "metadata": {},
   "outputs": [
    {
     "name": "stdout",
     "output_type": "stream",
     "text": [
      "1.4275607274088873\n",
      "1.775725653060149\n"
     ]
    }
   ],
   "source": [
    "def f(x):\n",
    "    f = 2*np.sin(x)-x**2/10\n",
    "    return f\n",
    "\n",
    "def optimgsfun(x,y,z):\n",
    "    x0 = float(x)\n",
    "    x1 = float(y)\n",
    "    x2 = float(z)\n",
    "    tol = 0.01\n",
    "    x3 = 4*x2\n",
    "    while (abs(x3-x0)>tol or abs(x3-x2)>tol):\n",
    "         x3 = 0.5*( f(x0)*(x1**2 - x2**2) + f(x1)*(x2**2 - x0**2) + f(x2)*(x0**2 - x1**2) )/( f(x0)*(x1 - x2) + f(x1)*(x2 - x0) + f(x2)*(x0 - x1) )\n",
    "         testarray = [x0,x1,x2,x3]\n",
    "         testarray.sort()\n",
    "         if x0 == testarray[0]:\n",
    "             x0 = testarray[1]\n",
    "             x1 = testarray[2]                                                                                                          \n",
    "             x2 = testarray[3]\n",
    "         elif x2 == testarray[3]:\n",
    "             x0 = testarray[0]\n",
    "             x1 = testarray[1]                                                                                                          \n",
    "             x2 = testarray[2]\n",
    "    xopt = x3\n",
    "    yopt = f(xopt)\n",
    "    return xopt,yopt\n",
    "\n",
    "xopt, yopt = optimgsfun(x0,x1,x2)\n",
    "print(xopt)\n",
    "print(yopt)"
   ]
  },
  {
   "cell_type": "markdown",
   "metadata": {},
   "source": [
    "4. Plot the function and the location of the final guess. Add appropriate title and x- and y-labels."
   ]
  },
  {
   "cell_type": "code",
   "execution_count": 67,
   "metadata": {},
   "outputs": [
    {
     "data": {
      "text/plain": [
       "Text(0, 0.5, 'f(x)')"
      ]
     },
     "execution_count": 67,
     "metadata": {},
     "output_type": "execute_result"
    },
    {
     "data": {
      "image/png": "[encoded data removed]",
      "text/plain": [
       "<Figure size 432x288 with 1 Axes>"
      ]
     },
     "metadata": {
      "needs_background": "light"
     },
     "output_type": "display_data"
    }
   ],
   "source": [
    "x = np.arange(-5,4,0.1)\n",
    "plt.plot(x,f(x),'k', linewidth=3)\n",
    "plt.plot(xopt,yopt,'ro',markersize=5, linewidth=5)\n",
    "plt.grid()\n",
    "plt.axis([-5, 4, -3, 2])\n",
    "plt.xlabel('x')\n",
    "plt.ylabel('f(x)')"
   ]
  },
  {
   "cell_type": "markdown",
   "metadata": {},
   "source": [
    "### Solution to Random Search Method\n",
    "1. Choose from among the three methods above, the method you wish to use the determine both the maximum value of the function<br><br>\n",
    "$f(x)=2 sin(x) - \\frac{x^2}{10}$\n",
    "<br><br>within the region $-5 \\le x \\le 4$. Use up to 2 decimal places.\n",
    "2. In the field below, write down the command for letting the user input the initial guesses. Use Python's input command, with appropriate prompts."
   ]
  },
  {
   "cell_type": "code",
   "execution_count": 68,
   "metadata": {},
   "outputs": [
    {
     "name": "stdout",
     "output_type": "stream",
     "text": [
      "What is the lower bound guess? 0\n",
      "What is the upper bound guess? 4\n"
     ]
    }
   ],
   "source": [
    "xl = input(\"What is the lower bound guess? \")\n",
    "xu = input(\"What is the upper bound guess? \")"
   ]
  },
  {
   "cell_type": "markdown",
   "metadata": {},
   "source": [
    "3. In the cell below, write down your code for implementing the method you chose in order to solve for the maximum value. Assign the maximum values to the variable $xopt$. The optimum value must be accurate to 2 decimal places."
   ]
  },
  {
   "cell_type": "code",
   "execution_count": 77,
   "metadata": {},
   "outputs": [
    {
     "name": "stdout",
     "output_type": "stream",
     "text": [
      "1.4244386704082204\n",
      "1.7757150932622936\n"
     ]
    }
   ],
   "source": [
    "def f(x):\n",
    "    f = 2*np.sin(x)-x**2/10\n",
    "    return f\n",
    "\n",
    "def optimrsfun(x,y):\n",
    "    xl = float(x)\n",
    "    xu = float(y)\n",
    "    n = 1000\n",
    "    xopt = (xl+xu)/2\n",
    "    for i in range(n):\n",
    "        xnew = xl + (xu-xl)*random.random()\n",
    "        if f(xnew) > f(xopt):\n",
    "            xopt = xnew\n",
    "    yopt = f(xopt)\n",
    "    return xopt,yopt\n",
    "\n",
    "xopt,yopt = optimrsfun(xl,xu)\n",
    "print(xopt)\n",
    "print(yopt)"
   ]
  },
  {
   "cell_type": "markdown",
   "metadata": {},
   "source": [
    "4. Plot the function and the location of the final guess. Add appropriate title and x- and y-labels."
   ]
  },
  {
   "cell_type": "code",
   "execution_count": 78,
   "metadata": {},
   "outputs": [
    {
     "data": {
      "text/plain": [
       "Text(0, 0.5, 'f(x)')"
      ]
     },
     "execution_count": 78,
     "metadata": {},
     "output_type": "execute_result"
    },
    {
     "data": {
      "image/png": "[encoded data removed]",
      "text/plain": [
       "<Figure size 432x288 with 1 Axes>"
      ]
     },
     "metadata": {
      "needs_background": "light"
     },
     "output_type": "display_data"
    }
   ],
   "source": [
    "x = np.arange(-5,4,0.1)\n",
    "plt.plot(x,f(x),'k', linewidth=3)\n",
    "plt.plot(xopt,yopt,'ro',markersize=5, linewidth=5)\n",
    "plt.grid()\n",
    "plt.axis([-5, 4, -3, 2])\n",
    "plt.xlabel('x')\n",
    "plt.ylabel('f(x)')"
   ]
  },
  {
   "cell_type": "code",
   "execution_count": null,
   "metadata": {},
   "outputs": [],
   "source": []
  }
 ],
 "metadata": {
  "kernelspec": {
   "display_name": "Python 3 (ipykernel)",
   "language": "python",
   "name": "python3"
  },
  "language_info": {
   "codemirror_mode": {
    "name": "ipython",
    "version": 3
   },
   "file_extension": ".py",
   "mimetype": "text/x-python",
   "name": "python",
   "nbconvert_exporter": "python",
   "pygments_lexer": "ipython3",
   "version": "3.9.12"
  }
 },
 "nbformat": 4,
 "nbformat_minor": 4
}
