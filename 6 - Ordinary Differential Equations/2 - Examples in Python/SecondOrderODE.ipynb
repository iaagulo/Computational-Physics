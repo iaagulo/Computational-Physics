{
 "cells": [
  {
   "cell_type": "markdown",
   "metadata": {},
   "source": [
    "# Solving 2nd Order ODEs - Machine Problem 6\n",
    "In your final machine problem for the semester, you are going to solve a 2nd order ODE using the 4th order Runge-Kutta Method. Choose one of the problems to solve from the document \"P131 MP 06 Problems.docx.\"<br><br>\n",
    "In the cell below, write down all necessary modules you need to run your codes."
   ]
  },
  {
   "cell_type": "code",
   "execution_count": null,
   "metadata": {},
   "outputs": [],
   "source": []
  },
  {
   "cell_type": "markdown",
   "metadata": {},
   "source": [
    "### Bouncing Ball (15 pts.)\n",
    "Write down below, as Markdown, the equation of motion for a falling object."
   ]
  },
  {
   "cell_type": "markdown",
   "metadata": {},
   "source": []
  },
  {
   "cell_type": "markdown",
   "metadata": {},
   "source": [
    "Break down this second order ODE into two first order ODEs. Show your complete solution as Markdown."
   ]
  },
  {
   "cell_type": "markdown",
   "metadata": {},
   "source": []
  },
  {
   "cell_type": "markdown",
   "metadata": {},
   "source": [
    "In order to determine the height, $y$, and the velocity, $v$, you need to solve for the solutions to these two 1st Order ODEs simultaneously. Solve for the height and velocity of a bouncing ball as a function of time, with a coefficient of restitution of 0.95. Choose the range of time such that its trajectory shows ten bounces.<br>\n",
    "Define the step size and length of time. You may change the end value later in order to display ten bounces."
   ]
  },
  {
   "cell_type": "code",
   "execution_count": null,
   "metadata": {},
   "outputs": [],
   "source": []
  },
  {
   "cell_type": "markdown",
   "metadata": {},
   "source": [
    "Choose an appropriate initial height and velocity and type them down in the field below. Comment the units you are using."
   ]
  },
  {
   "cell_type": "code",
   "execution_count": null,
   "metadata": {},
   "outputs": [],
   "source": []
  },
  {
   "cell_type": "markdown",
   "metadata": {},
   "source": [
    "Write down the correct code below in order to simultaneously solve for the velocity and height of the ball."
   ]
  },
  {
   "cell_type": "code",
   "execution_count": null,
   "metadata": {},
   "outputs": [],
   "source": []
  },
  {
   "cell_type": "markdown",
   "metadata": {},
   "source": [
    "Plot the height and velocity of the ball. Add appropriate titles to the plot and x- and y-axes labels."
   ]
  },
  {
   "cell_type": "code",
   "execution_count": null,
   "metadata": {},
   "outputs": [],
   "source": []
  },
  {
   "cell_type": "markdown",
   "metadata": {},
   "source": [
    "For an additional 5 points, animate the bouncing ball based on the solution of this ODE. Display the instantaneous height and velocity as the ball is bouncing.<br><br>\n",
    "$\\textit{Note: When animating, it may not be necessary to display all points in order to decrease the playing time. You may increase the step size for time.}$"
   ]
  },
  {
   "cell_type": "code",
   "execution_count": null,
   "metadata": {},
   "outputs": [],
   "source": []
  },
  {
   "cell_type": "markdown",
   "metadata": {},
   "source": [
    "### Falling Parachutist (25 pts.)\n",
    "Write down below, as Markdown, the equation of motion for a falling parachutist, with mass, $m=75$ $kg$, during the first 15 seconds when the dragging force is proportional to the square of the velocity. Let the dragging force, $k=0.235$ $kg/m$."
   ]
  },
  {
   "cell_type": "markdown",
   "metadata": {},
   "source": []
  },
  {
   "cell_type": "markdown",
   "metadata": {},
   "source": [
    "Break down this second order ODE into two first order ODEs. Show your complete solution as Markdown."
   ]
  },
  {
   "cell_type": "markdown",
   "metadata": {},
   "source": []
  },
  {
   "cell_type": "markdown",
   "metadata": {},
   "source": [
    "Write down below, as Markdown, the equation of motion for a falling parachutist, with mass, $m=75$ $kg$, after the first 15 seconds when the drag coefficient is directly proportional to the velocity. Let the drag coefficient, $c=50$ $kg/s$."
   ]
  },
  {
   "cell_type": "markdown",
   "metadata": {},
   "source": []
  },
  {
   "cell_type": "markdown",
   "metadata": {},
   "source": [
    "Break down this second order ODE into two first order ODEs. Show your complete solution as Markdown."
   ]
  },
  {
   "cell_type": "markdown",
   "metadata": {},
   "source": []
  },
  {
   "cell_type": "markdown",
   "metadata": {},
   "source": [
    "In order to determine the height, $y$, and the velocity, $v$, you need to solve for the solutions to these two sets of 1st Order ODEs simultaneously. Solve for the height, velocity and acceleration, of the parachutist as a function of time from $t=0$ to $t=30$ $s$.<br><br>\n",
    "Define the step size and length of time."
   ]
  },
  {
   "cell_type": "code",
   "execution_count": null,
   "metadata": {},
   "outputs": [],
   "source": []
  },
  {
   "cell_type": "markdown",
   "metadata": {},
   "source": [
    "Choose an appropriate initial height and velocity and type them down in the field below. Comment the units you are using. "
   ]
  },
  {
   "cell_type": "code",
   "execution_count": null,
   "metadata": {},
   "outputs": [],
   "source": []
  },
  {
   "cell_type": "markdown",
   "metadata": {},
   "source": [
    "Write down the correct code below in order to simultaneously solve for the acceleration, velocity and height of the ball. "
   ]
  },
  {
   "cell_type": "code",
   "execution_count": null,
   "metadata": {},
   "outputs": [],
   "source": []
  },
  {
   "cell_type": "markdown",
   "metadata": {},
   "source": [
    "Plot the height, velocity, and acceleration of the parachutist. Add appropriate titles to the plot and x- and y-axes labels."
   ]
  },
  {
   "cell_type": "code",
   "execution_count": null,
   "metadata": {},
   "outputs": [],
   "source": []
  },
  {
   "cell_type": "markdown",
   "metadata": {},
   "source": [
    "For an additional 5 points, animate the motion of the parachutist based on the solution of this ODE. Display the instantaneous height, velocity, and acceleration as the parachutist is falling.<br><br>\n",
    "$\\textit{Note: When animating, it may not be necessary to display all points in order to decrease the playing time. You may increase the step size for time.}$"
   ]
  },
  {
   "cell_type": "code",
   "execution_count": null,
   "metadata": {},
   "outputs": [],
   "source": []
  },
  {
   "cell_type": "markdown",
   "metadata": {},
   "source": [
    "### The Lorentz Equations (25 pts.)\n",
    "The Lorentz equations describe a simple model based on atmospheric fluid dynamics. These equations are not really second order ODEs, but first order. However, they do describe one branch of physics, which is fluid dynamics. The Lorentz equations are instructive because the depict how beautiful chaos can be.<br><br>\n",
    "The Lorentz equations are given by<br>"
   ]
  },
  {
   "cell_type": "markdown",
   "metadata": {},
   "source": [
    "$\\frac{dx}{dt} = -\\sigma x + \\sigma y$, $\\frac{dy}{dt} = rx-y-xz$, and $\\frac{dz}{dt}=-bz+xy$."
   ]
  },
  {
   "cell_type": "markdown",
   "metadata": {},
   "source": [
    "Assume $\\sigma = 10$, $b = 8/3$, and $r = 28$, with initial conditions of $x=y=z=5$. Solve for $x(t)$, $y(t)$, and $z(t)$ for $0 \\le t \\le 30$ with a step size of 0.01.<br><br>\n",
    "Define the step size and length of time. "
   ]
  },
  {
   "cell_type": "code",
   "execution_count": null,
   "metadata": {},
   "outputs": [],
   "source": []
  },
  {
   "cell_type": "markdown",
   "metadata": {},
   "source": [
    "Write down the initial conditions in the field below."
   ]
  },
  {
   "cell_type": "code",
   "execution_count": null,
   "metadata": {},
   "outputs": [],
   "source": []
  },
  {
   "cell_type": "markdown",
   "metadata": {},
   "source": [
    "Write down the correct code below in order to simultaneously solve for $x(t)$, $y(t)$, and $z(t)$."
   ]
  },
  {
   "cell_type": "code",
   "execution_count": null,
   "metadata": {},
   "outputs": [],
   "source": []
  },
  {
   "cell_type": "markdown",
   "metadata": {},
   "source": [
    "Plot all three functions in one subplot."
   ]
  },
  {
   "cell_type": "code",
   "execution_count": null,
   "metadata": {},
   "outputs": [],
   "source": []
  },
  {
   "cell_type": "markdown",
   "metadata": {},
   "source": [
    "For an additional 5 points, animate the position in 3D space and display the beauty of chaos.<br><br>\n",
    "$\\textit{Note: When animating, it may not be necessary to display all points in order to decrease the playing time. You may increase the step size for time.}$"
   ]
  },
  {
   "cell_type": "code",
   "execution_count": null,
   "metadata": {},
   "outputs": [],
   "source": []
  },
  {
   "cell_type": "markdown",
   "metadata": {},
   "source": [
    "### The Simple Pendulum (25 pts.)\n",
    "Write down below, as Markdown, the exact equation of motion for a simple pendulum."
   ]
  },
  {
   "cell_type": "markdown",
   "metadata": {},
   "source": [
    "$\\frac{d^2 \\theta}{dt^2}=-\\frac{g}{L} sin \\theta$"
   ]
  },
  {
   "cell_type": "markdown",
   "metadata": {},
   "source": [
    "Break down this second order ODE into two first order ODEs. Show your complete solution as Markdown."
   ]
  },
  {
   "cell_type": "markdown",
   "metadata": {},
   "source": [
    "Let $\\omega = \\frac{d \\theta}{dt}$. The second order ODE above then becomes $\\frac{d \\omega}{dt}=-\\frac{g}{L} sin \\theta$. These constitute our two first order ODEs."
   ]
  },
  {
   "cell_type": "markdown",
   "metadata": {},
   "source": [
    "Write down below, as Markdown, the exact equation of motion for a simple pendulum."
   ]
  },
  {
   "cell_type": "markdown",
   "metadata": {},
   "source": [
    "$\\frac{d^2 \\theta}{dt^2}=-\\frac{g}{L} \\theta$"
   ]
  },
  {
   "cell_type": "markdown",
   "metadata": {},
   "source": [
    "Break down this second order ODE into two first order ODEs. Show your complete solution as Markdown."
   ]
  },
  {
   "cell_type": "markdown",
   "metadata": {},
   "source": [
    "Let $\\omega = \\frac{d \\theta}{dt}$. The second order ODE above then becomes $\\frac{d \\omega}{dt}=-\\frac{g}{L} \\theta$. These constitute our two first order ODEs."
   ]
  },
  {
   "cell_type": "markdown",
   "metadata": {},
   "source": [
    "In order to determine the angle, $\\theta$, you need to solve for the solutions to these two sets of 1st Order ODEs. Solve for the angle, $\\theta$, as a function of time from $t=0$ to $t=30$ $s$.<br><br>\n",
    "Define the step size and length of time."
   ]
  },
  {
   "cell_type": "code",
   "execution_count": null,
   "metadata": {},
   "outputs": [],
   "source": []
  },
  {
   "cell_type": "markdown",
   "metadata": {},
   "source": [
    "Choose an appropriate initial angle and angular velocity and type them down in the field below. Comment the units you are using. Write down the correct code below in order to simultaneously solve for the angle and angular velocity of the using the exact ODE."
   ]
  },
  {
   "cell_type": "code",
   "execution_count": null,
   "metadata": {},
   "outputs": [],
   "source": []
  },
  {
   "cell_type": "markdown",
   "metadata": {},
   "source": [
    "Choose an appropriate initial angle and angular velocity and type them down in the field below. Comment the units you are using. Write down the correct code below in order to simultaneously solve for the angle and angular velocity of the using the approximate ODE."
   ]
  },
  {
   "cell_type": "code",
   "execution_count": null,
   "metadata": {},
   "outputs": [],
   "source": []
  },
  {
   "cell_type": "markdown",
   "metadata": {},
   "source": [
    "Compare between the approximate and exact solutions by plot the solutions for the angles in one graph and the solutions for the angular velocities in one graph as a function of time. At which maximum angle can the approximate solution be valid? Add appropriate titles to the plot and x- and y-axes labels."
   ]
  },
  {
   "cell_type": "code",
   "execution_count": null,
   "metadata": {},
   "outputs": [],
   "source": []
  },
  {
   "cell_type": "markdown",
   "metadata": {},
   "source": [
    "For an additional 5 points, animate a swinging pendulum based on the solution of this ODE comparing between the exact and approximate solution. Display the instantaneous angle and angular velocity.<br><br>\n",
    "$\\textit{Note: When animating, it may not be necessary to display all points in order to decrease the playing time. You may increase the step size for time.}$"
   ]
  },
  {
   "cell_type": "code",
   "execution_count": null,
   "metadata": {},
   "outputs": [],
   "source": []
  },
  {
   "attachments": {
    "image.png": {
     "image/png": "[encoded data removed]"
    }
   },
   "cell_type": "markdown",
   "metadata": {},
   "source": [
    "### The Double Pendulum (35 pts.)\n",
    "A double pendulum is two pendulums connected to each other at one end, as shown in the figure.<br>![image.png](attachment:image.png)<br>\n",
    "The equations of motion are given by<br>"
   ]
  },
  {
   "cell_type": "markdown",
   "metadata": {},
   "source": [
    "$\\dot{\\theta_1}=\\frac{6}{ml^2}\\frac{2 p_{\\theta_1}-3 cos(\\theta_1-\\theta_2) p_{\\theta_2}}{16-9 cos^2 (\\theta_1-\\theta_2)}$ and $\\dot{\\theta_2}=\\frac{6}{ml^2}\\frac{8 p_{\\theta_2}-3 cos(\\theta_1-\\theta_2) p_{\\theta_1}}{16-9 cos^2 (\\theta_1-\\theta_2)}$."
   ]
  },
  {
   "cell_type": "markdown",
   "metadata": {},
   "source": [
    "Start with the following initial conditions: $\\theta_1=90 {^\\circ}$, $\\theta_2=90 {^\\circ}$, and $\\dot{p}_{\\theta_1} = \\dot{p}_{\\theta_2} = 0{^\\circ}$. To solve for the succeeding values of $p_{\\theta_1}$ and $p_{\\theta_2}$, you will need the following differential equations:"
   ]
  },
  {
   "cell_type": "markdown",
   "metadata": {},
   "source": [
    "$\\dot{p}_{\\theta_1}=-\\frac{1}{2} ml^2 [\\dot{\\theta_1} \\dot{\\theta_2} sin(\\theta_1-\\theta_2) + 3\\frac{g}{l} sin \\theta_1]$ and $\\dot{p}_{\\theta_2}=-\\frac{1}{2} ml^2 [-\\dot{\\theta_1} \\dot{\\theta_2} sin(\\theta_1-\\theta_2) + \\frac{g}{l} sin \\theta_1]$"
   ]
  },
  {
   "cell_type": "markdown",
   "metadata": {},
   "source": [
    "In case of doubt with the equations, refer to the ones in the document file.<br><br>\n",
    "Solve the double pendulum by solving for the angular displacements, $\\theta_1$ and $\\theta_2$, as a function of time from $t=0$ to $t=20$ $s$.<br><br>\n",
    "Define the step size and length of time."
   ]
  },
  {
   "cell_type": "code",
   "execution_count": null,
   "metadata": {},
   "outputs": [],
   "source": []
  },
  {
   "cell_type": "markdown",
   "metadata": {},
   "source": [
    "Choose an appropriate initial angle and angular momentum and type them down in the field below. Comment the units you are using. Write down the correct code below in order to simultaneously solve for the angle and angular velocity of the using the exact ODE."
   ]
  },
  {
   "cell_type": "code",
   "execution_count": null,
   "metadata": {},
   "outputs": [],
   "source": []
  },
  {
   "cell_type": "markdown",
   "metadata": {},
   "source": [
    "Make six subplots. You may decide how to arrange it. You must ensure that the graphs and results are clearly depicted. In the first and second subplots, plot the trajectory of the double pendulum vs time. In the third and fourth subplots, plot the momentum of the double pendulum vs time. In the fifth subplot, compare between the two phase plots of each pendulum, by plotting both $\\theta_1$ vs $p_{\\theta_1}$ and $\\theta_2$ vs $p_{\\theta_2}$ in one graph. In the sixth subplot, plot the trajectory of the double pendulum by plotting $\\theta_1$ vs $\\theta_2$ in one graph. Add appropriate titles to the plot and x- and y-axes labels."
   ]
  },
  {
   "cell_type": "code",
   "execution_count": null,
   "metadata": {},
   "outputs": [],
   "source": []
  },
  {
   "cell_type": "markdown",
   "metadata": {},
   "source": [
    "For an additional 5 points, animate a swinging pendulum based on the solution of this ODE comparing between the exact and approximate solution. Display the instantaneous angle and angular velocity.<br><br>\n",
    "$\\textit{Note: When animating, it may not be necessary to display all points in order to decrease the playing time. You may increase the step size for time.}$"
   ]
  },
  {
   "cell_type": "code",
   "execution_count": null,
   "metadata": {},
   "outputs": [],
   "source": []
  }
 ],
 "metadata": {
  "kernelspec": {
   "display_name": "Python 3",
   "language": "python",
   "name": "python3"
  },
  "language_info": {
   "codemirror_mode": {
    "name": "ipython",
    "version": 3
   },
   "file_extension": ".py",
   "mimetype": "text/x-python",
   "name": "python",
   "nbconvert_exporter": "python",
   "pygments_lexer": "ipython3",
   "version": "3.8.8"
  }
 },
 "nbformat": 4,
 "nbformat_minor": 4
}
