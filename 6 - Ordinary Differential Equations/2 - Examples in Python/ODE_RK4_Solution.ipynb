{
 "cells": [
  {
   "cell_type": "markdown",
   "metadata": {},
   "source": [
    "# Using RK4 to solve Ordinary Differential Equations\n",
    "In this exercise, you are going to build your own ODE solver by creating a function called $myode()$. To do this, you are going to use the 4th order Runge-Kutta (RK) method.<br><br>\n",
    "In the cell below, import all the necessary modules."
   ]
  },
  {
   "cell_type": "code",
   "execution_count": 1,
   "metadata": {},
   "outputs": [],
   "source": [
    "import numpy as np\n",
    "import matplotlib.pyplot as plt\n",
    "from scipy import integrate"
   ]
  },
  {
   "cell_type": "markdown",
   "metadata": {},
   "source": [
    "The first step is to identify the ODE you wish to solve. Let's use the function that's in the example in the video lecture in the VLE. In the field below, translate to code the ODE<br><br>\n",
    "$\\frac{dy}{dx}=-2x^3+12x^2-20x+8.5$.\n",
    "<br><br>Use either symbolic math or define a new Python function. If you are using symbolic math, type the equation in the cell below. Otherwise, type your Python function that accepts two arguments. The first are the individual values of the $x$ data set, and the second is the initial condition, $y=1$ at $x=0$. Use the variable $f$ for the mathematical function."
   ]
  },
  {
   "cell_type": "code",
   "execution_count": 2,
   "metadata": {},
   "outputs": [],
   "source": [
    "def f(x,y):\n",
    "    dydx = -2*x**3 + 12*x**2 - 20*x + 8.5\n",
    "    return dydx"
   ]
  },
  {
   "cell_type": "markdown",
   "metadata": {},
   "source": [
    "You now need to select a a step size, $h$. Remember to select an appropriate step size. If it's too large, then the accuracy is sacrificed. If it's too small, then the computing efficiency is sacrificed."
   ]
  },
  {
   "cell_type": "code",
   "execution_count": 3,
   "metadata": {},
   "outputs": [],
   "source": [
    "h = 0.1"
   ]
  },
  {
   "cell_type": "markdown",
   "metadata": {},
   "source": [
    "Then, you need to select a range of values for $x$. You may select the same range as in the example in the video lecture, i.e. Xx=0$ to $x=4$."
   ]
  },
  {
   "cell_type": "code",
   "execution_count": 4,
   "metadata": {},
   "outputs": [],
   "source": [
    "x = np.arange(0,4+h,h)"
   ]
  },
  {
   "cell_type": "markdown",
   "metadata": {},
   "source": [
    "At this point, you will need to open a new Python script to create a function called $myode()$. This function will have two arguments as input. The first argument is the $x$ data set, while the second argument is the initial condition $y=1$ at $x=0$. In the field below, develop the code for the function $myode()$ by implementing RK4. Call your Python function to numerically solve the given ODE and assign the output to the variable $y$."
   ]
  },
  {
   "cell_type": "code",
   "execution_count": 5,
   "metadata": {},
   "outputs": [],
   "source": [
    "def myode(x,y):\n",
    "    yout = np.zeros(np.size(x))\n",
    "    yout[0] = y\n",
    "    h = x[1] - x[0]\n",
    "    for i in range(np.size(x)-1):\n",
    "        k1 = f( x[i], yout[i] )\n",
    "        k2 = f( x[i]+0.5*h, yout[i]+0.5*k1*h )\n",
    "        k3 = f( x[i]+0.5*h, yout[i]+0.5*k2*h )\n",
    "        k4 = f( x[i]+h, yout[i]+k3*h )\n",
    "        yout[i+1] = yout[i] + (1/6)*(k1 + 2*k2 + 2*k3 + k4)*h\n",
    "    return yout\n",
    "\n",
    "y = myode(x,1)"
   ]
  },
  {
   "cell_type": "markdown",
   "metadata": {},
   "source": [
    "Plot the numerical solution (red solid circles) against the analytical solution (black line, line width = 3). The analytical solution is easily solved, which you can do by hand. Add a title and appropriate x- and y-labels."
   ]
  },
  {
   "cell_type": "code",
   "execution_count": 8,
   "metadata": {},
   "outputs": [
    {
     "data": {
      "text/plain": [
       "Text(0, 0.5, 'y')"
      ]
     },
     "execution_count": 8,
     "metadata": {},
     "output_type": "execute_result"
    },
    {
     "data": {
      "image/png": "[encoded data removed]",
      "text/plain": [
       "<Figure size 432x288 with 1 Axes>"
      ]
     },
     "metadata": {
      "needs_background": "light"
     },
     "output_type": "display_data"
    }
   ],
   "source": [
    "# Solving for the analytical solution, we get\n",
    "ysol = -0.5*x**4 + 4*x**3 - 10*x**2 + 8.5*x + 1\n",
    "\n",
    "sol = integrate.solve_ivp(f,(0,4),(0,1),t_eval=np.linspace(0,4,np.size(x)))\n",
    "xode, yode = sol.y\n",
    "xode45 = sol.t\n",
    "\n",
    "plt.plot(x,ysol,'k', linewidth=3)\n",
    "plt.plot(xode45,yode,'bs', markerfacecolor='b', markersize=10)\n",
    "plt.plot(x,y,'ro', markerfacecolor='r')\n",
    "plt.title(\"Solution to the ODE\")\n",
    "plt.xlabel(\"x\")\n",
    "plt.ylabel(\"y\")"
   ]
  },
  {
   "cell_type": "markdown",
   "metadata": {},
   "source": [
    "Finally, compare your solution obtained from your function $myode()$ with the built-in Python $solve_ivp$ function from the scipy.integrate module, and add this new solution to the plot. Use blue solid squares for this solution.<br><br>\n",
    "This video maybe useful: https://youtu.be/INBu1Pyj0Is."
   ]
  },
  {
   "cell_type": "code",
   "execution_count": null,
   "metadata": {},
   "outputs": [],
   "source": []
  }
 ],
 "metadata": {
  "kernelspec": {
   "display_name": "Python 3 (ipykernel)",
   "language": "python",
   "name": "python3"
  },
  "language_info": {
   "codemirror_mode": {
    "name": "ipython",
    "version": 3
   },
   "file_extension": ".py",
   "mimetype": "text/x-python",
   "name": "python",
   "nbconvert_exporter": "python",
   "pygments_lexer": "ipython3",
   "version": "3.9.12"
  }
 },
 "nbformat": 4,
 "nbformat_minor": 4
}
