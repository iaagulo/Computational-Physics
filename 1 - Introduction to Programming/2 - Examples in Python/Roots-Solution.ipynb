{
 "cells": [
  {
   "cell_type": "markdown",
   "metadata": {},
   "source": [
    "# Solving the Roots of a Quadratic Equation\n",
    "This part of the course includes the exercises that you will need to accomplish as part of the course. This exercise is about solving a quadratic equation given by<br><br>\n",
    "$ax^2 + bx + c = 0$<br><br>\n",
    "where $a$, $b$, and $c$ are coefficients of the quadratic equation and are real numbers. The solution to the quadratic equation is given by<br><br>\n",
    "$x = \\frac{-b\\pm\\sqrt{b^2-4ac}}{2a}.$\n",
    "<br><br>Your task is to complete the code for solving the roots of the quadratic equation by filling in the missing lines. \n",
    "To solve the roots, four cases are considered. These are (1) when the coefficient a is zero, when the coefficient a is not zero, but the discriminants are (2) equal to zero, (3) positive, and (4) negative. The short program below shows the step-by-step procedure in solving for the solutions. To test the code, the variable  is introduced in the beginning of the program. This variable contains six (6) sets of values for the coefficients of the quadratic equation covering all of these four cases. To complete the task, both the variables  and  must have the correct element values.<br><br>\n",
    "When you're finished and you're confident that your answers are correct, save this file and submit it in our VLE. DO NOT CHANGE THE FILENAME."
   ]
  },
  {
   "cell_type": "markdown",
   "metadata": {},
   "source": [
    "This section defines the variables that we will be using to solve for the roots. **DO NOT CHANGE ANY OF THE VALUES OR LINES OF CODE IN THIS SECTION.**\n",
    "The variable $z$ below has 6 rows and 3 columns. \n",
    "Each row represents the coefficients to a quadratic equation. For example, the first row corresponds to the coefficients $a=1$, $b=1$, $c=2$."
   ]
  },
  {
   "cell_type": "code",
   "execution_count": 1,
   "metadata": {},
   "outputs": [],
   "source": [
    "import numpy as np\n",
    "z = np.array([[1, 1, 2], \n",
    "     [1, 2, 1], \n",
    "     [1, 3, 1], \n",
    "     [1, 0, 1], \n",
    "     [1, 2, 0], \n",
    "     [0, 2, 1]]\n",
    "            )"
   ]
  },
  {
   "cell_type": "markdown",
   "metadata": {},
   "source": [
    "The variable $discriminant$ has 6 rows and 1 column. This line of code initializes the variable $discriminant$ by putting zeroes in all elements. This variable is where the discriminant values will be placed."
   ]
  },
  {
   "cell_type": "code",
   "execution_count": 2,
   "metadata": {},
   "outputs": [],
   "source": [
    "discriminant = np.zeros( (6,1) )"
   ]
  },
  {
   "cell_type": "markdown",
   "metadata": {},
   "source": [
    "The variable $x$ has 6 rows and 2 columns. This line of code initializes the variable $x$ by putting zeroes in all elements. This variable is where the solutions, i.e. the roots, will be placed."
   ]
  },
  {
   "cell_type": "code",
   "execution_count": 3,
   "metadata": {},
   "outputs": [],
   "source": [
    "x = np.zeros( (6,2), dtype = 'complex_' )"
   ]
  },
  {
   "cell_type": "markdown",
   "metadata": {},
   "source": [
    "The code or part of the program for solving the discriminants of all six sets of coefficients begins here. It will go through all six sets of coefficients and solve all possible solutions using the $for$ loop command."
   ]
  },
  {
   "cell_type": "code",
   "execution_count": 4,
   "metadata": {},
   "outputs": [],
   "source": [
    "for i in range( np.size(z,0) ):\n",
    "    a = z[i,0] \n",
    "    b = z[i,1] \n",
    "    c = z[i,2]\n",
    "    discriminant[i] = b**2 - 4*a*c\n",
    "    d = discriminant[i]\n",
    "    if a == 0:\n",
    "        x[i,0] = -c/b\n",
    "    elif d == 0:\n",
    "        x[i,0] = -b/(2*a)\n",
    "    elif d > 0:\n",
    "        x[i,0] = (-b + np.sqrt(b**2 - 4*a*c))/(2*a)\n",
    "        x[i,1] = (-b - np.sqrt(b**2 - 4*a*c))/(2*a)\n",
    "    else:\n",
    "        x[i,0] = (-b + np.sqrt(abs(b**2 - 4*a*c))*1j)/(2*a)\n",
    "        x[i,1] = (-b - np.sqrt(abs(b**2 - 4*a*c))*1j)/(2*a)"
   ]
  },
  {
   "cell_type": "markdown",
   "metadata": {},
   "source": [
    "Here are the instructions:\n",
    "1. Complete the command line<br><br>\n",
    "discriminant[i] = <br><br>\n",
    "by writing down the correct code for solving the discriminant. Do not change the statement to the left of the equal sign. The next line temporarily assigns the value of the variable $discriminant[i]$ to the variable $d$.\n",
    "2. You are now going to solve for the solutions of the quadratic equation. There are four cases. We are going to use the commands $if$, $else$, and $elif$ to separate each case.<br><br>\n",
    "**CASE 1:** One solution can be obtained when the coefficient $a=0$. Write down the correct expression for the case when $a=0$ after the variable $a$. To set the condition when $a=0$, we use the command $if$. So, you need to complete the line<br><br>\n",
    "if a <br><br>\n",
    "(_Note:_ This program will not run correctly if the condition has the incorrect syntax. Remember to put a colon at the end of the statement. Please refer to the $if$ command in the HELP feature of Jupyter or Python.)<br><br>\n",
    "3. In the next line after the $if$ statement, complete the statement after the equal sign<br><br>\n",
    "x[i,0] = <br><br>\n",
    "for solving the value of $x$ when $a=0$.\n",
    "4. If $a$ is not equal to zero, then we consider the next case.<br><br>\n",
    "**CASE 2:** The discriminant is zero. After the $elif$ command, write down the correct expression for the case when the variable $d$ is equal to zero. So, you need to complete the line<br><br>\n",
    "elif d <br><br>\n",
    "(_Note:_ This program will not run correctly if the condition has the incorrect syntax. Remember to put a colon at the end of the statement. Please refer to the  command in the HELP feature of Jupyter or Python.)<br><br>\n",
    "5. In the next line after the $elif$ statement, complete the statement<br><br>\n",
    "x[i,0] = <br><br>\n",
    "for solving the value of $x$ when $a=0$ and the discriminant $d$ is equal to zero.\n",
    "6. If the discriminant is not zero, then it's either positive or negative.<br><br>\n",
    "**CASE 3:** The discriminant is positive. After the second $elif$ command, write down the correct expression for the case when the variable $d$ is greater than zero. So, you need to complete the line<br><br>\n",
    "elif d <br><br>\n",
    "(_Note:_ This program will not run correctly if the condition has the incorrect syntax. Remember to put a colon at the end of the statement. Please refer to the  command in the HELP feature of Jupyter or Python.)\n",
    "7. In the next line, complete the statements after the equal sign<br><br>\n",
    "x[i,0] = \n",
    "x[i,1] = <br><br>\n",
    "for solving the value of $x$ when $a$ is not equal to zero and the discriminant $d$ is positive. Place the solution with the positive sign first and the solution with the negative sign last.\n",
    "8. In the next two lines after the $else$ statement, complete the statements<br><br>\n",
    "x[i,0] = \n",
    "x[i,1] = <br><br>\n",
    "for solving the value of $x$ when $a$ is not equal to zero and the discriminant $d$ is negative. Use the command $abs()$ to get the absolute value of a number, e.g. $abs(-2)$ will give you 2. To make a real variable imaginary, multiply the variable by $1j$ or $1J$ after the number or the variable.<br><br>\n",
    "Place the solution with the positive sign first in this variable."
   ]
  },
  {
   "cell_type": "markdown",
   "metadata": {},
   "source": [
    "Display the values of the variables."
   ]
  },
  {
   "cell_type": "code",
   "execution_count": 5,
   "metadata": {},
   "outputs": [
    {
     "name": "stdout",
     "output_type": "stream",
     "text": [
      "[[-7.]\n",
      " [ 0.]\n",
      " [ 5.]\n",
      " [-4.]\n",
      " [ 4.]\n",
      " [ 4.]]\n",
      "[[-0.5       +1.32287566j -0.5       -1.32287566j]\n",
      " [-1.        +0.j          0.        +0.j        ]\n",
      " [-0.38196601+0.j         -2.61803399+0.j        ]\n",
      " [ 0.        +1.j          0.        -1.j        ]\n",
      " [ 0.        +0.j         -2.        +0.j        ]\n",
      " [-0.5       +0.j          0.        +0.j        ]]\n"
     ]
    }
   ],
   "source": [
    "print(discriminant)\n",
    "print(x)"
   ]
  },
  {
   "cell_type": "markdown",
   "metadata": {},
   "source": [
    "Check if correct."
   ]
  },
  {
   "cell_type": "code",
   "execution_count": 6,
   "metadata": {},
   "outputs": [
    {
     "data": {
      "text/plain": [
       "array([[ True],\n",
       "       [ True],\n",
       "       [ True],\n",
       "       [ True],\n",
       "       [ True],\n",
       "       [ True]])"
      ]
     },
     "execution_count": 6,
     "metadata": {},
     "output_type": "execute_result"
    }
   ],
   "source": [
    "d_correct = np.array([[-7],[0],[5],[-4],[4],[4]])\n",
    "discriminant == d_correct"
   ]
  },
  {
   "cell_type": "code",
   "execution_count": 7,
   "metadata": {},
   "outputs": [
    {
     "data": {
      "text/plain": [
       "array([[False, False],\n",
       "       [ True,  True],\n",
       "       [False, False],\n",
       "       [ True,  True],\n",
       "       [ True,  True],\n",
       "       [ True,  True]])"
      ]
     },
     "execution_count": 7,
     "metadata": {},
     "output_type": "execute_result"
    }
   ],
   "source": [
    "x_correct = np.array([[-0.5+1.3229*1j, -0.5-1.3229*1j],\n",
    "                      [-1, 0],\n",
    "                      [-0.3820, -2.6180],\n",
    "                      [1j, -1j],\n",
    "                      [0, -2],\n",
    "                      [-0.5, 0]]\n",
    "                    )\n",
    "x == x_correct"
   ]
  },
  {
   "cell_type": "code",
   "execution_count": null,
   "metadata": {},
   "outputs": [],
   "source": []
  }
 ],
 "metadata": {
  "kernelspec": {
   "display_name": "Python 3 (ipykernel)",
   "language": "python",
   "name": "python3"
  },
  "language_info": {
   "codemirror_mode": {
    "name": "ipython",
    "version": 3
   },
   "file_extension": ".py",
   "mimetype": "text/x-python",
   "name": "python",
   "nbconvert_exporter": "python",
   "pygments_lexer": "ipython3",
   "version": "3.9.12"
  }
 },
 "nbformat": 4,
 "nbformat_minor": 4
}
